{
 "cells": [
  {
   "cell_type": "code",
   "execution_count": 3,
   "metadata": {},
   "outputs": [
    {
     "name": "stdout",
     "output_type": "stream",
     "text": [
      "<class 'pandas.core.frame.DataFrame'>\n",
      "RangeIndex: 284807 entries, 0 to 284806\n",
      "Data columns (total 31 columns):\n",
      " #   Column  Non-Null Count   Dtype  \n",
      "---  ------  --------------   -----  \n",
      " 0   Time    284807 non-null  float64\n",
      " 1   V1      284807 non-null  float64\n",
      " 2   V2      284807 non-null  float64\n",
      " 3   V3      284807 non-null  float64\n",
      " 4   V4      284807 non-null  float64\n",
      " 5   V5      284807 non-null  float64\n",
      " 6   V6      284807 non-null  float64\n",
      " 7   V7      284807 non-null  float64\n",
      " 8   V8      284807 non-null  float64\n",
      " 9   V9      284807 non-null  float64\n",
      " 10  V10     284807 non-null  float64\n",
      " 11  V11     284807 non-null  float64\n",
      " 12  V12     284807 non-null  float64\n",
      " 13  V13     284807 non-null  float64\n",
      " 14  V14     284807 non-null  float64\n",
      " 15  V15     284807 non-null  float64\n",
      " 16  V16     284807 non-null  float64\n",
      " 17  V17     284807 non-null  float64\n",
      " 18  V18     284807 non-null  float64\n",
      " 19  V19     284807 non-null  float64\n",
      " 20  V20     284807 non-null  float64\n",
      " 21  V21     284807 non-null  float64\n",
      " 22  V22     284807 non-null  float64\n",
      " 23  V23     284807 non-null  float64\n",
      " 24  V24     284807 non-null  float64\n",
      " 25  V25     284807 non-null  float64\n",
      " 26  V26     284807 non-null  float64\n",
      " 27  V27     284807 non-null  float64\n",
      " 28  V28     284807 non-null  float64\n",
      " 29  Amount  284807 non-null  float64\n",
      " 30  Class   284807 non-null  int64  \n",
      "dtypes: float64(30), int64(1)\n",
      "memory usage: 67.4 MB\n",
      "None\n"
     ]
    },
    {
     "data": {
      "text/plain": [
       "Index(['Time', 'V1', 'V2', 'V3', 'V4', 'V5', 'V6', 'V7', 'V8', 'V9', 'V10',\n",
       "       'V11', 'V12', 'V13', 'V14', 'V15', 'V16', 'V17', 'V18', 'V19', 'V20',\n",
       "       'V21', 'V22', 'V23', 'V24', 'V25', 'V26', 'V27', 'V28', 'Amount',\n",
       "       'Class'],\n",
       "      dtype='object')"
      ]
     },
     "execution_count": 3,
     "metadata": {},
     "output_type": "execute_result"
    }
   ],
   "source": [
    "import numpy as np\n",
    "import pandas as pd\n",
    "import matplotlib.pyplot as plt\n",
    "import seaborn as sns\n",
    "\n",
    "from sklearn.model_selection import train_test_split\n",
    "from sklearn.metrics import roc_curve, mean_squared_error, mean_absolute_error, roc_auc_score\n",
    "from sklearn.metrics import classification_report, confusion_matrix, accuracy_score\n",
    "from sklearn.preprocessing import StandardScaler\n",
    "\n",
    "from sklearn.svm import SVC\n",
    "\n",
    "seed=123\n",
    "df = pd.read_csv(\"creditcard.csv\") #https://www.kaggle.com/mlg-ulb/creditcardfraud\n",
    "print(df.info()) \n",
    "df.columns"
   ]
  },
  {
   "cell_type": "code",
   "execution_count": 4,
   "metadata": {},
   "outputs": [
    {
     "name": "stdout",
     "output_type": "stream",
     "text": [
      "(284807, 5)\n"
     ]
    },
    {
     "data": {
      "text/html": [
       "<div>\n",
       "<style scoped>\n",
       "    .dataframe tbody tr th:only-of-type {\n",
       "        vertical-align: middle;\n",
       "    }\n",
       "\n",
       "    .dataframe tbody tr th {\n",
       "        vertical-align: top;\n",
       "    }\n",
       "\n",
       "    .dataframe thead th {\n",
       "        text-align: right;\n",
       "    }\n",
       "</style>\n",
       "<table border=\"1\" class=\"dataframe\">\n",
       "  <thead>\n",
       "    <tr style=\"text-align: right;\">\n",
       "      <th></th>\n",
       "      <th>V1</th>\n",
       "      <th>V2</th>\n",
       "      <th>V3</th>\n",
       "      <th>Amount</th>\n",
       "      <th>Class</th>\n",
       "    </tr>\n",
       "  </thead>\n",
       "  <tbody>\n",
       "    <tr>\n",
       "      <th>0</th>\n",
       "      <td>-1.359807</td>\n",
       "      <td>-0.072781</td>\n",
       "      <td>2.536347</td>\n",
       "      <td>149.62</td>\n",
       "      <td>0</td>\n",
       "    </tr>\n",
       "    <tr>\n",
       "      <th>1</th>\n",
       "      <td>1.191857</td>\n",
       "      <td>0.266151</td>\n",
       "      <td>0.166480</td>\n",
       "      <td>2.69</td>\n",
       "      <td>0</td>\n",
       "    </tr>\n",
       "    <tr>\n",
       "      <th>2</th>\n",
       "      <td>-1.358354</td>\n",
       "      <td>-1.340163</td>\n",
       "      <td>1.773209</td>\n",
       "      <td>378.66</td>\n",
       "      <td>0</td>\n",
       "    </tr>\n",
       "    <tr>\n",
       "      <th>3</th>\n",
       "      <td>-0.966272</td>\n",
       "      <td>-0.185226</td>\n",
       "      <td>1.792993</td>\n",
       "      <td>123.50</td>\n",
       "      <td>0</td>\n",
       "    </tr>\n",
       "    <tr>\n",
       "      <th>4</th>\n",
       "      <td>-1.158233</td>\n",
       "      <td>0.877737</td>\n",
       "      <td>1.548718</td>\n",
       "      <td>69.99</td>\n",
       "      <td>0</td>\n",
       "    </tr>\n",
       "  </tbody>\n",
       "</table>\n",
       "</div>"
      ],
      "text/plain": [
       "         V1        V2        V3  Amount  Class\n",
       "0 -1.359807 -0.072781  2.536347  149.62      0\n",
       "1  1.191857  0.266151  0.166480    2.69      0\n",
       "2 -1.358354 -1.340163  1.773209  378.66      0\n",
       "3 -0.966272 -0.185226  1.792993  123.50      0\n",
       "4 -1.158233  0.877737  1.548718   69.99      0"
      ]
     },
     "execution_count": 4,
     "metadata": {},
     "output_type": "execute_result"
    }
   ],
   "source": [
    "df = df[['V1', 'V2', 'V3', 'Amount', 'Class']]\n",
    "print(df.shape)\n",
    "df.head()"
   ]
  },
  {
   "cell_type": "code",
   "execution_count": 6,
   "metadata": {},
   "outputs": [
    {
     "name": "stdout",
     "output_type": "stream",
     "text": [
      "0    284315\n",
      "1       492\n",
      "Name: Class, dtype: int64\n"
     ]
    }
   ],
   "source": [
    "print(df.Class.value_counts())"
   ]
  },
  {
   "cell_type": "code",
   "execution_count": 7,
   "metadata": {},
   "outputs": [],
   "source": [
    "cc = df[df.Class==1].copy() #creo un dataset con tutti i dati della classe 1\n",
    "cc= cc.append(df[df.Class==0].sample(n=50000, random_state=seed).copy()) #aggiungo 50000 record per la classe 0"
   ]
  },
  {
   "cell_type": "code",
   "execution_count": 8,
   "metadata": {},
   "outputs": [
    {
     "name": "stdout",
     "output_type": "stream",
     "text": [
      "0    50000\n",
      "1      492\n",
      "Name: Class, dtype: int64\n"
     ]
    }
   ],
   "source": [
    "print(cc.Class.value_counts())"
   ]
  },
  {
   "cell_type": "code",
   "execution_count": 9,
   "metadata": {},
   "outputs": [
    {
     "data": {
      "text/plain": [
       "[Text(0, 0, 'Otherwise'), Text(0, 0, 'Fraudulent transactions')]"
      ]
     },
     "execution_count": 9,
     "metadata": {},
     "output_type": "execute_result"
    },
    {
     "data": {
      "image/png": "[encoded data removed]",
      "text/plain": [
       "<Figure size 360x360 with 1 Axes>"
      ]
     },
     "metadata": {
      "needs_background": "light"
     },
     "output_type": "display_data"
    }
   ],
   "source": [
    "plt.figure(figsize=(5,5))\n",
    "g = sns.countplot(cc.Class)\n",
    "g.set_xticklabels(['Otherwise', 'Fraudulent transactions'])"
   ]
  },
  {
   "cell_type": "code",
   "execution_count": 10,
   "metadata": {},
   "outputs": [],
   "source": [
    "# normalizzo la colonna amount \n",
    "cc['normAmount'] = StandardScaler().fit_transform(np.array(cc['Amount']).reshape(-1, 1)) \n",
    "  \n",
    "# elimino le colonne Amount\n",
    "cc = cc.drop('Amount', axis = 1) "
   ]
  },
  {
   "cell_type": "code",
   "execution_count": 11,
   "metadata": {},
   "outputs": [],
   "source": [
    "X_train, X_test, y_train, y_test =\\\n",
    "train_test_split(cc.drop('Class', axis=1), cc.Class, test_size=0.3, random_state=seed)"
   ]
  },
  {
   "cell_type": "code",
   "execution_count": 12,
   "metadata": {},
   "outputs": [
    {
     "name": "stdout",
     "output_type": "stream",
     "text": [
      "Accuracy sul training set: 1.00\n"
     ]
    }
   ],
   "source": [
    "svm = SVC(kernel='rbf', gamma='auto', C=100, random_state=seed, probability=True)\n",
    "svm.fit(X_train, y_train)\n",
    "print(\"Accuracy sul training set: %0.2f\"%svm.score(X_train,y_train))"
   ]
  },
  {
   "cell_type": "code",
   "execution_count": 13,
   "metadata": {},
   "outputs": [
    {
     "data": {
      "image/png": "[encoded data removed]",
      "text/plain": [
       "<Figure size 720x720 with 1 Axes>"
      ]
     },
     "metadata": {
      "needs_background": "light"
     },
     "output_type": "display_data"
    },
    {
     "name": "stdout",
     "output_type": "stream",
     "text": [
      "SVM\n",
      "\n",
      "Error: 0.013433366211890485\n",
      "MSE: 0.005956226889297005\n",
      "\n",
      "Confusion Matrix:\n",
      "[[15004     9]\n",
      " [   91    44]]\n",
      "\n",
      "Classification Report\n",
      "              precision    recall  f1-score   support\n",
      "\n",
      "           0       0.99      1.00      1.00     15013\n",
      "           1       0.83      0.33      0.47       135\n",
      "\n",
      "    accuracy                           0.99     15148\n",
      "   macro avg       0.91      0.66      0.73     15148\n",
      "weighted avg       0.99      0.99      0.99     15148\n",
      "\n",
      "Accuracy\n",
      "0.9933984684446792\n",
      "------------------------------------------------------\n",
      "\n"
     ]
    }
   ],
   "source": [
    "y_pred_svm = svm.predict_proba(X_test)[:,1]\n",
    "\n",
    "fpr_svm, tpr_svm, threshold_svm = roc_curve(y_test, y_pred_svm)\n",
    "\n",
    "plt.figure(figsize=(10,10))\n",
    "plt.plot([0, 1], [0, 1], 'k--')\n",
    "plt.plot(fpr_svm, tpr_svm, label='SVM')\n",
    "plt.xlabel('False positive rate')\n",
    "plt.ylabel('True positive rate')\n",
    "plt.title('ROC curve')\n",
    "plt.legend(loc='best')\n",
    "plt.grid()\n",
    "plt.show()\n",
    "\n",
    "print(\"SVM\\n\")\n",
    "print(\"Error:\",mean_absolute_error(y_test, y_pred_svm))\n",
    "print(\"MSE:\",mean_squared_error(y_test, y_pred_svm))\n",
    "print(\"\\nConfusion Matrix:\")\n",
    "print(confusion_matrix(y_test, y_pred_svm.round()))\n",
    "print(\"\\nClassification Report\")\n",
    "print(classification_report(y_test, y_pred_svm.round()))\n",
    "print(\"Accuracy\")\n",
    "print(accuracy_score(y_test, y_pred_svm.round(), normalize=True))\n",
    "print(\"------------------------------------------------------\\n\")"
   ]
  },
  {
   "cell_type": "code",
   "execution_count": 14,
   "metadata": {},
   "outputs": [],
   "source": [
    "u_data = cc[cc.Class==1].copy() #creo un dataset con i dati della classe minoritaria\n",
    "\n",
    "#aggiungo al dataset un numero di record (scelti a caso) della classe maggioritaria pari a quello della classe minoritaria\n",
    "u_data = u_data.append(cc[cc.Class==0].sample(n=len(cc[cc.Class==1]), random_state=seed).copy()) "
   ]
  },
  {
   "cell_type": "code",
   "execution_count": 15,
   "metadata": {},
   "outputs": [
    {
     "data": {
      "text/plain": [
       "[Text(0, 0, 'Otherwise'), Text(0, 0, 'Fraudulent transactions')]"
      ]
     },
     "execution_count": 15,
     "metadata": {},
     "output_type": "execute_result"
    },
    {
     "data": {
      "image/png": "[encoded data removed]",
      "text/plain": [
       "<Figure size 360x360 with 1 Axes>"
      ]
     },
     "metadata": {
      "needs_background": "light"
     },
     "output_type": "display_data"
    }
   ],
   "source": [
    "plt.figure(figsize=(5,5))\n",
    "g = sns.countplot(u_data.Class)\n",
    "g.set_xticklabels(['Otherwise', 'Fraudulent transactions'])"
   ]
  },
  {
   "cell_type": "code",
   "execution_count": 16,
   "metadata": {},
   "outputs": [],
   "source": [
    "X_train, X_test, y_train, y_test =\\\n",
    "train_test_split(u_data.drop('Class', axis=1), u_data.Class, test_size=0.3, random_state=seed)"
   ]
  },
  {
   "cell_type": "code",
   "execution_count": 17,
   "metadata": {},
   "outputs": [
    {
     "name": "stdout",
     "output_type": "stream",
     "text": [
      "Accuracy sul training set: 0.96\n"
     ]
    }
   ],
   "source": [
    "svm = SVC(kernel='rbf', gamma='auto', C=100, random_state=seed, probability=True)\n",
    "svm.fit(X_train, y_train)\n",
    "print(\"Accuracy sul training set: %0.2f\"%svm.score(X_train,y_train))"
   ]
  },
  {
   "cell_type": "code",
   "execution_count": 18,
   "metadata": {},
   "outputs": [
    {
     "data": {
      "image/png": "[encoded data removed]",
      "text/plain": [
       "<Figure size 720x720 with 1 Axes>"
      ]
     },
     "metadata": {
      "needs_background": "light"
     },
     "output_type": "display_data"
    },
    {
     "name": "stdout",
     "output_type": "stream",
     "text": [
      "SVM\n",
      "\n",
      "Error: 0.2460154858552983\n",
      "MSE: 0.10881630281840747\n",
      "\n",
      "Confusion Matrix:\n",
      "[[129  12]\n",
      " [ 25 130]]\n",
      "\n",
      "Classification Report\n",
      "              precision    recall  f1-score   support\n",
      "\n",
      "           0       0.84      0.91      0.87       141\n",
      "           1       0.92      0.84      0.88       155\n",
      "\n",
      "    accuracy                           0.88       296\n",
      "   macro avg       0.88      0.88      0.87       296\n",
      "weighted avg       0.88      0.88      0.88       296\n",
      "\n",
      "Accuracy\n",
      "0.875\n",
      "------------------------------------------------------\n",
      "\n"
     ]
    }
   ],
   "source": [
    "y_pred_svm = svm.predict_proba(X_test)[:,1]\n",
    "\n",
    "fpr_svm, tpr_svm, threshold_svm = roc_curve(y_test, y_pred_svm)\n",
    "\n",
    "plt.figure(figsize=(10,10))\n",
    "plt.plot([0, 1], [0, 1], 'k--')\n",
    "plt.plot(fpr_svm, tpr_svm, label='SVM')\n",
    "plt.xlabel('False positive rate')\n",
    "plt.ylabel('True positive rate')\n",
    "plt.title('ROC curve')\n",
    "plt.legend(loc='best')\n",
    "plt.grid()\n",
    "plt.show()\n",
    "\n",
    "print(\"SVM\\n\")\n",
    "print(\"Error:\",mean_absolute_error(y_test, y_pred_svm))\n",
    "print(\"MSE:\",mean_squared_error(y_test, y_pred_svm))\n",
    "print(\"\\nConfusion Matrix:\")\n",
    "print(confusion_matrix(y_test, y_pred_svm.round()))\n",
    "print(\"\\nClassification Report\")\n",
    "print(classification_report(y_test, y_pred_svm.round()))\n",
    "print(\"Accuracy\")\n",
    "print(accuracy_score(y_test, y_pred_svm.round(), normalize=True))\n",
    "print(\"------------------------------------------------------\\n\")"
   ]
  },
  {
   "cell_type": "code",
   "execution_count": 19,
   "metadata": {},
   "outputs": [],
   "source": [
    "#creo un dataset con tutti i record della classe minoritaria \"duplicati\" più volte\n",
    "o_data = cc[cc.Class==1].copy()\n",
    "for i in range(6):\n",
    "    o_data = o_data.append(cc[cc.Class==1].copy())\n",
    "\n",
    "#aggiungo lo stesso numero di record (scelti a caso) della classe maggioritaria    \n",
    "o_data = o_data.append(cc[cc.Class==0].sample(n=len(o_data[o_data.Class==1]), random_state=seed).copy())"
   ]
  },
  {
   "cell_type": "code",
   "execution_count": 20,
   "metadata": {},
   "outputs": [
    {
     "data": {
      "text/plain": [
       "[Text(0, 0, 'Otherwise'), Text(0, 0, 'Fraudulent transactions')]"
      ]
     },
     "execution_count": 20,
     "metadata": {},
     "output_type": "execute_result"
    },
    {
     "data": {
      "image/png": "[encoded data removed]",
      "text/plain": [
       "<Figure size 360x360 with 1 Axes>"
      ]
     },
     "metadata": {
      "needs_background": "light"
     },
     "output_type": "display_data"
    }
   ],
   "source": [
    "plt.figure(figsize=(5,5))\n",
    "g = sns.countplot(o_data.Class)\n",
    "g.set_xticklabels(['Otherwise', 'Fraudulent transactions'])"
   ]
  },
  {
   "cell_type": "code",
   "execution_count": 21,
   "metadata": {},
   "outputs": [],
   "source": [
    "X_train, X_test, y_train, y_test =\\\n",
    "train_test_split(o_data.drop('Class', axis=1), o_data.Class, test_size=0.3, random_state=seed)"
   ]
  },
  {
   "cell_type": "code",
   "execution_count": 22,
   "metadata": {},
   "outputs": [
    {
     "name": "stdout",
     "output_type": "stream",
     "text": [
      "Accuracy sul training set: 0.95\n"
     ]
    }
   ],
   "source": [
    "svm = SVC(kernel='rbf', gamma='auto', C=100, random_state=seed, probability=True)\n",
    "svm.fit(X_train, y_train)\n",
    "print(\"Accuracy sul training set: %0.2f\"%svm.score(X_train,y_train))"
   ]
  },
  {
   "cell_type": "code",
   "execution_count": 23,
   "metadata": {},
   "outputs": [
    {
     "data": {
      "image/png": "[encoded data removed]",
      "text/plain": [
       "<Figure size 720x720 with 1 Axes>"
      ]
     },
     "metadata": {
      "needs_background": "light"
     },
     "output_type": "display_data"
    },
    {
     "name": "stdout",
     "output_type": "stream",
     "text": [
      "SVM\n",
      "\n",
      "Error: 0.11830598510894853\n",
      "MSE: 0.05438529562055409\n",
      "\n",
      "Confusion Matrix:\n",
      "[[941  63]\n",
      " [ 65 998]]\n",
      "\n",
      "Classification Report\n",
      "              precision    recall  f1-score   support\n",
      "\n",
      "           0       0.94      0.94      0.94      1004\n",
      "           1       0.94      0.94      0.94      1063\n",
      "\n",
      "    accuracy                           0.94      2067\n",
      "   macro avg       0.94      0.94      0.94      2067\n",
      "weighted avg       0.94      0.94      0.94      2067\n",
      "\n",
      "Accuracy\n",
      "0.9380745041122399\n",
      "------------------------------------------------------\n",
      "\n"
     ]
    }
   ],
   "source": [
    "y_pred_svm = svm.predict_proba(X_test)[:,1]\n",
    "\n",
    "fpr_svm, tpr_svm, threshold_svm = roc_curve(y_test, y_pred_svm)\n",
    "\n",
    "plt.figure(figsize=(10,10))\n",
    "plt.plot([0, 1], [0, 1], 'k--')\n",
    "plt.plot(fpr_svm, tpr_svm, label='SVM')\n",
    "plt.xlabel('False positive rate')\n",
    "plt.ylabel('True positive rate')\n",
    "plt.title('ROC curve')\n",
    "plt.legend(loc='best')\n",
    "plt.grid()\n",
    "plt.show()\n",
    "\n",
    "print(\"SVM\\n\")\n",
    "print(\"Error:\",mean_absolute_error(y_test, y_pred_svm))\n",
    "print(\"MSE:\",mean_squared_error(y_test, y_pred_svm))\n",
    "print(\"\\nConfusion Matrix:\")\n",
    "print(confusion_matrix(y_test, y_pred_svm.round()))\n",
    "print(\"\\nClassification Report\")\n",
    "print(classification_report(y_test, y_pred_svm.round()))\n",
    "print(\"Accuracy\")\n",
    "print(accuracy_score(y_test, y_pred_svm.round(), normalize=True))\n",
    "print(\"------------------------------------------------------\\n\")"
   ]
  },
  {
   "cell_type": "code",
   "execution_count": 24,
   "metadata": {},
   "outputs": [],
   "source": [
    "from imblearn.over_sampling import SMOTE\n",
    "from collections import Counter"
   ]
  },
  {
   "cell_type": "code",
   "execution_count": 25,
   "metadata": {},
   "outputs": [],
   "source": [
    "#per semplificare le operazioni selezione un numero ancora più ristretto di record\n",
    "s_cc = cc[cc.Class==1].copy() #creo un dataset con tutti i dati della classe 1\n",
    "s_cc= s_cc.append(cc[cc.Class==0].sample(n=3000, random_state=seed).copy()) #aggiungo 3000 record per la classe 0"
   ]
  },
  {
   "cell_type": "code",
   "execution_count": 26,
   "metadata": {},
   "outputs": [
    {
     "name": "stdout",
     "output_type": "stream",
     "text": [
      "[(0, 3000), (1, 3000)]\n"
     ]
    }
   ],
   "source": [
    "X_resampled, y_resampled = SMOTE(k_neighbors=5, random_state=seed).fit_resample(s_cc.drop('Class', axis=1), s_cc.Class)\n",
    "print(sorted(Counter(y_resampled).items()))"
   ]
  },
  {
   "cell_type": "code",
   "execution_count": 27,
   "metadata": {},
   "outputs": [],
   "source": [
    "X_train, X_test, y_train, y_test =\\\n",
    "train_test_split(X_resampled, y_resampled, test_size=0.3, random_state=seed)"
   ]
  },
  {
   "cell_type": "code",
   "execution_count": 28,
   "metadata": {},
   "outputs": [
    {
     "name": "stdout",
     "output_type": "stream",
     "text": [
      "[(0, 3000), (1, 3000)]\n"
     ]
    }
   ],
   "source": [
    "X_resampled, y_resampled = SMOTE(k_neighbors=5, random_state=seed).fit_resample(s_cc.drop('Class', axis=1), s_cc.Class)\n",
    "print(sorted(Counter(y_resampled).items()))"
   ]
  },
  {
   "cell_type": "code",
   "execution_count": 29,
   "metadata": {},
   "outputs": [],
   "source": [
    "X_train, X_test, y_train, y_test =\\\n",
    "train_test_split(X_resampled, y_resampled, test_size=0.3, random_state=seed)"
   ]
  },
  {
   "cell_type": "code",
   "execution_count": 30,
   "metadata": {},
   "outputs": [
    {
     "name": "stdout",
     "output_type": "stream",
     "text": [
      "Accuracy sul training set: 0.95\n"
     ]
    }
   ],
   "source": [
    "svm = SVC(kernel='rbf', gamma='auto', C=100, random_state=seed, probability=True)\n",
    "svm.fit(X_train, y_train)\n",
    "print(\"Accuracy sul training set: %0.2f\"%svm.score(X_train,y_train))"
   ]
  },
  {
   "cell_type": "code",
   "execution_count": 31,
   "metadata": {},
   "outputs": [
    {
     "data": {
      "image/png": "[encoded data removed]",
      "text/plain": [
       "<Figure size 720x720 with 1 Axes>"
      ]
     },
     "metadata": {
      "needs_background": "light"
     },
     "output_type": "display_data"
    },
    {
     "name": "stdout",
     "output_type": "stream",
     "text": [
      "SVM\n",
      "\n",
      "Error: 0.12045115452444623\n",
      "MSE: 0.051537919660139174\n",
      "\n",
      "Confusion Matrix:\n",
      "[[848  44]\n",
      " [ 65 843]]\n",
      "\n",
      "Classification Report\n",
      "              precision    recall  f1-score   support\n",
      "\n",
      "           0       0.93      0.95      0.94       892\n",
      "           1       0.95      0.93      0.94       908\n",
      "\n",
      "    accuracy                           0.94      1800\n",
      "   macro avg       0.94      0.94      0.94      1800\n",
      "weighted avg       0.94      0.94      0.94      1800\n",
      "\n",
      "Accuracy\n",
      "0.9394444444444444\n",
      "------------------------------------------------------\n",
      "\n"
     ]
    }
   ],
   "source": [
    "y_pred_svm = svm.predict_proba(X_test)[:,1]\n",
    "\n",
    "fpr_svm, tpr_svm, threshold_svm = roc_curve(y_test, y_pred_svm)\n",
    "\n",
    "plt.figure(figsize=(10,10))\n",
    "plt.plot([0, 1], [0, 1], 'k--')\n",
    "plt.plot(fpr_svm, tpr_svm, label='SVM')\n",
    "plt.xlabel('False positive rate')\n",
    "plt.ylabel('True positive rate')\n",
    "plt.title('ROC curve')\n",
    "plt.legend(loc='best')\n",
    "plt.grid()\n",
    "plt.show()\n",
    "\n",
    "print(\"SVM\\n\")\n",
    "print(\"Error:\",mean_absolute_error(y_test, y_pred_svm))\n",
    "print(\"MSE:\",mean_squared_error(y_test, y_pred_svm))\n",
    "print(\"\\nConfusion Matrix:\")\n",
    "print(confusion_matrix(y_test, y_pred_svm.round()))\n",
    "print(\"\\nClassification Report\")\n",
    "print(classification_report(y_test, y_pred_svm.round()))\n",
    "print(\"Accuracy\")\n",
    "print(accuracy_score(y_test, y_pred_svm.round(), normalize=True))\n",
    "print(\"------------------------------------------------------\\n\")"
   ]
  },
  {
   "cell_type": "code",
   "execution_count": null,
   "metadata": {},
   "outputs": [],
   "source": []
  },
  {
   "cell_type": "code",
   "execution_count": null,
   "metadata": {},
   "outputs": [],
   "source": []
  },
  {
   "cell_type": "code",
   "execution_count": null,
   "metadata": {},
   "outputs": [],
   "source": []
  },
  {
   "cell_type": "code",
   "execution_count": null,
   "metadata": {},
   "outputs": [],
   "source": []
  },
  {
   "cell_type": "code",
   "execution_count": null,
   "metadata": {},
   "outputs": [],
   "source": []
  }
 ],
 "metadata": {
  "kernelspec": {
   "display_name": "Python 3",
   "language": "python",
   "name": "python3"
  },
  "language_info": {
   "codemirror_mode": {
    "name": "ipython",
    "version": 3
   },
   "file_extension": ".py",
   "mimetype": "text/x-python",
   "name": "python",
   "nbconvert_exporter": "python",
   "pygments_lexer": "ipython3",
   "version": "3.8.3"
  }
 },
 "nbformat": 4,
 "nbformat_minor": 4
}
