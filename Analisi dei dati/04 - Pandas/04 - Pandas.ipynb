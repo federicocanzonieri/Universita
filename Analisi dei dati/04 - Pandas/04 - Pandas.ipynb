{
 "cells": [
  {
   "cell_type": "markdown",
   "metadata": {},
   "source": [
    "# <b>Fondamenti di Analisi Dati</b> - a.a. 2020/2021"
   ]
  },
  {
   "cell_type": "markdown",
   "metadata": {},
   "source": [
    "## 4 <b>Pandas</b>"
   ]
  },
  {
   "cell_type": "markdown",
   "metadata": {},
   "source": [
    "Pandas è una libreria di alto livello che mette a disposizione diversi strumenti e strutture dati per l'analisi dei dati. In particolare, Pandas è molto utile per manipolare e visualizzare i dati in maniera veloce prima di passare all'analisi vera e propria.<br>\n",
    "Le due strutture dati principali di Pandas sono le <i>Series</i> e i <i>DataFrame</i>."
   ]
  },
  {
   "cell_type": "markdown",
   "metadata": {},
   "source": [
    "### 4.1 Series"
   ]
  },
  {
   "cell_type": "markdown",
   "metadata": {},
   "source": [
    "Una <b>Series</b> è una struttura monodimensionale (una serie di dati) molto simile a un array di NumPy che consente di indicizzare gli elementi mediante etichette (oltre che con i numeri). I valori contenuti in una serie possono essere di qualsiasi tipo."
   ]
  },
  {
   "cell_type": "code",
   "execution_count": 2,
   "metadata": {},
   "outputs": [
    {
     "name": "stdout",
     "output_type": "stream",
     "text": [
      "0    7\n",
      "1    5\n",
      "2    2\n",
      "3    8\n",
      "4    9\n",
      "5    6\n",
      "dtype: int64\n"
     ]
    }
   ],
   "source": [
    "import pandas as pd\n",
    "s1 = pd.Series([7,5,2,8,9,6])\n",
    "print(s1)"
   ]
  },
  {
   "cell_type": "markdown",
   "metadata": {},
   "source": [
    "I numeri visualizzati sulla sinistra rappresentano le etichette dei valori contenute nella serie che di default sono di tipo numerico e\n",
    "sequenziale. Durante la definizione di una serie è possibile specificare le proprie etichette (una per ogni valore)."
   ]
  },
  {
   "cell_type": "code",
   "execution_count": 8,
   "metadata": {},
   "outputs": [
    {
     "name": "stdout",
     "output_type": "stream",
     "text": [
      "a    7\n",
      "b    5\n",
      "c    2\n",
      "d    8\n",
      "e    9\n",
      "f    6\n",
      "dtype: int64\n",
      "a    7\n",
      "b    5\n",
      "c    2\n",
      "dtype: int64\n"
     ]
    }
   ],
   "source": [
    "valori = [7,5,2,8,9,6]\n",
    "etichette = ['a','b','c','d','e','f']\n",
    "s2 = pd.Series(valori, index=etichette)\n",
    "print(s2)\n",
    "print(s2['a':'c'])"
   ]
  },
  {
   "cell_type": "markdown",
   "metadata": {},
   "source": [
    "Possiamo definire una serie anche mediante un dizionario, specificando contemporaneamente etichette e valori."
   ]
  },
  {
   "cell_type": "code",
   "execution_count": 11,
   "metadata": {},
   "outputs": [
    {
     "name": "stdout",
     "output_type": "stream",
     "text": [
      "a1     5\n",
      "a2    12\n",
      "n     94\n",
      "dtype: int64\n"
     ]
    }
   ],
   "source": [
    "s3=pd.Series({'a1':5,'a2':12,'n':94})\n",
    "print(s3)"
   ]
  },
  {
   "cell_type": "markdown",
   "metadata": {},
   "source": [
    "È possibile assegnare un nome alla serie."
   ]
  },
  {
   "cell_type": "code",
   "execution_count": 4,
   "metadata": {},
   "outputs": [
    {
     "data": {
      "text/plain": [
       "0    1\n",
       "1    2\n",
       "2    3\n",
       "Name: Serie I, dtype: int64"
      ]
     },
     "execution_count": 4,
     "metadata": {},
     "output_type": "execute_result"
    }
   ],
   "source": [
    "pd.Series([1,2,3], name='Serie I')"
   ]
  },
  {
   "cell_type": "markdown",
   "metadata": {},
   "source": [
    "#### 4.1.1 Indicizzazione e slicing"
   ]
  },
  {
   "cell_type": "markdown",
   "metadata": {},
   "source": [
    "Quando gli indici sono numerici, le serie possono essere indicizzate come gli array di numpy."
   ]
  },
  {
   "cell_type": "code",
   "execution_count": 9,
   "metadata": {},
   "outputs": [
    {
     "name": "stdout",
     "output_type": "stream",
     "text": [
      "7 \n",
      "\n",
      "0    7\n",
      "2    2\n",
      "dtype: int64\n"
     ]
    }
   ],
   "source": [
    "print(s1[0],\"\\n\") #indicizzazione\n",
    "print(s1[0:4:2]) #slicing"
   ]
  },
  {
   "cell_type": "markdown",
   "metadata": {},
   "source": [
    "Quando gli indici sono delle etichette personalizzate l'indicizzazione avviene in maniera simile, ma non è possibile utilizzare lo slicing."
   ]
  },
  {
   "cell_type": "code",
   "execution_count": 13,
   "metadata": {},
   "outputs": [
    {
     "name": "stdout",
     "output_type": "stream",
     "text": [
      "12\n",
      "a1        5\n",
      "a2       12\n",
      "n        94\n",
      "nuovo     5\n",
      "dtype: int64\n"
     ]
    }
   ],
   "source": [
    "print(s3['a2'])\n",
    "s3['nuovo']=5\n",
    "print(s3)\n"
   ]
  },
  {
   "cell_type": "markdown",
   "metadata": {},
   "source": [
    "Anche per le serie è possibile modificare i valori tramite indicizzazione."
   ]
  },
  {
   "cell_type": "code",
   "execution_count": 7,
   "metadata": {},
   "outputs": [
    {
     "name": "stdout",
     "output_type": "stream",
     "text": [
      "a1     5\n",
      "a2     9\n",
      "n     94\n",
      "dtype: int64\n"
     ]
    }
   ],
   "source": [
    "s3['a2'] = 9\n",
    "print(s3)"
   ]
  },
  {
   "cell_type": "markdown",
   "metadata": {},
   "source": [
    "Se l'indice specificato non esiste, verrà creato un elemento nuovo."
   ]
  },
  {
   "cell_type": "code",
   "execution_count": 8,
   "metadata": {},
   "outputs": [
    {
     "name": "stdout",
     "output_type": "stream",
     "text": [
      "a1     5\n",
      "a2     9\n",
      "n     94\n",
      "b1   -23\n",
      "dtype: int64\n"
     ]
    }
   ],
   "source": [
    "s3['b1']=-23\n",
    "print(s3)"
   ]
  },
  {
   "cell_type": "markdown",
   "metadata": {},
   "source": [
    "Possiamo specificare più etichette contemporaneamente tramite lista (di etichette)."
   ]
  },
  {
   "cell_type": "code",
   "execution_count": 9,
   "metadata": {},
   "outputs": [
    {
     "name": "stdout",
     "output_type": "stream",
     "text": [
      "a1     5\n",
      "b1   -23\n",
      "n     94\n",
      "dtype: int64\n"
     ]
    }
   ],
   "source": [
    "print(s3[['a1','b1','n']]) #l'argomento passato alla serie è una lista di etichette (con un ordine da noi definito)"
   ]
  },
  {
   "cell_type": "markdown",
   "metadata": {},
   "source": [
    "Le serie con etichette alfanumeriche possono essere indicizzate anche seguendo l'ordine in cui i dati sono inseriti nella serie. Per bypassare le etichette e utilizzare l'indice numerico utilizziamo il metodo <b>iloc</b>."
   ]
  },
  {
   "cell_type": "code",
   "execution_count": 15,
   "metadata": {},
   "outputs": [
    {
     "name": "stdout",
     "output_type": "stream",
     "text": [
      "a    7\n",
      "b    5\n",
      "c    2\n",
      "d    8\n",
      "e    9\n",
      "f    6\n",
      "dtype: int64 \n",
      "\n",
      "Elemento di indice 'a': 7\n",
      "Primo elemento della serie: 5\n"
     ]
    }
   ],
   "source": [
    "print(s2,'\\n')\n",
    "print(\"Elemento di indice 'a':\",s2['a'])\n",
    "print(\"Primo elemento della serie:\",s2.iloc[1])"
   ]
  },
  {
   "cell_type": "markdown",
   "metadata": {},
   "source": [
    "In certi casi può essere utile ripristinare la numerazione degli indici tramite il metodo <b>reset_index</b>."
   ]
  },
  {
   "cell_type": "code",
   "execution_count": 16,
   "metadata": {},
   "outputs": [
    {
     "name": "stdout",
     "output_type": "stream",
     "text": [
      "a1        5\n",
      "a2       12\n",
      "n        94\n",
      "nuovo     5\n",
      "dtype: int64 \n",
      "\n",
      "0     5\n",
      "1    12\n",
      "2    94\n",
      "3     5\n",
      "dtype: int64\n"
     ]
    }
   ],
   "source": [
    "print(s3,'\\n')\n",
    "print(s3.reset_index(drop=True)) #drop=True indica di scartare i vecchi indici"
   ]
  },
  {
   "cell_type": "markdown",
   "metadata": {},
   "source": [
    "Le serie ammettono anche l'indicizzazione logica."
   ]
  },
  {
   "cell_type": "code",
   "execution_count": 17,
   "metadata": {},
   "outputs": [
    {
     "name": "stdout",
     "output_type": "stream",
     "text": [
      "0    7\n",
      "1    5\n",
      "2    2\n",
      "3    8\n",
      "4    9\n",
      "5    6\n",
      "dtype: int64 \n",
      "\n",
      "0     True\n",
      "1     True\n",
      "2    False\n",
      "3     True\n",
      "4     True\n",
      "5     True\n",
      "dtype: bool \n",
      "\n",
      "0    7\n",
      "1    5\n",
      "3    8\n",
      "4    9\n",
      "5    6\n",
      "dtype: int64 \n",
      "\n"
     ]
    }
   ],
   "source": [
    "print(s1,'\\n') #serie s1\n",
    "print(s1>2,'\\n') #indicizzazione logica per selezionare gli elementi maggiori di 2\n",
    "print(s1[s1>2],'\\n') #applicazione dell'indicizzazione logica"
   ]
  },
  {
   "cell_type": "markdown",
   "metadata": {},
   "source": [
    "Si può specificare la combinazione tra due condizioni tramite gli operatori logici <code>|</code> (or) e <code>&</code> (and), ricordando di racchiudere gli operandi tra parentesi tonde."
   ]
  },
  {
   "cell_type": "code",
   "execution_count": 18,
   "metadata": {},
   "outputs": [
    {
     "name": "stdout",
     "output_type": "stream",
     "text": [
      "0    7\n",
      "1    5\n",
      "2    2\n",
      "3    8\n",
      "4    9\n",
      "5    6\n",
      "dtype: int64 \n",
      "\n",
      "0    False\n",
      "1     True\n",
      "2    False\n",
      "3    False\n",
      "4    False\n",
      "5    False\n",
      "dtype: bool \n",
      "\n",
      "1    5\n",
      "dtype: int64\n"
     ]
    }
   ],
   "source": [
    "print(s1,\"\\n\")\n",
    "print((s1>2) & (s1<6),\"\\n\")\n",
    "print(s1[(s1>2) & (s1<6)])"
   ]
  },
  {
   "cell_type": "code",
   "execution_count": 14,
   "metadata": {},
   "outputs": [
    {
     "name": "stdout",
     "output_type": "stream",
     "text": [
      "0    7\n",
      "1    5\n",
      "2    2\n",
      "3    8\n",
      "4    9\n",
      "5    6\n",
      "dtype: int64 \n",
      "\n",
      "0     True\n",
      "1    False\n",
      "2    False\n",
      "3     True\n",
      "4     True\n",
      "5     True\n",
      "dtype: bool \n",
      "\n",
      "0    7\n",
      "3    8\n",
      "4    9\n",
      "5    6\n",
      "dtype: int64\n"
     ]
    }
   ],
   "source": [
    "print(s1,\"\\n\")\n",
    "print((s1<2) | (s1>5),\"\\n\")\n",
    "print(s1[(s1<2) | (s1>5)])"
   ]
  },
  {
   "cell_type": "markdown",
   "metadata": {},
   "source": [
    "Come nel caso degli array di NumPy, l'allocazione della memoria è gestita dinamicamente per le Serie. Pertanto, se assegno una serie ad\n",
    "una nuova variabile e modifico la seconda variabile, verrà modificata anche la prima."
   ]
  },
  {
   "cell_type": "code",
   "execution_count": 20,
   "metadata": {},
   "outputs": [
    {
     "name": "stdout",
     "output_type": "stream",
     "text": [
      "a   -1\n",
      "b    2\n",
      "c    3\n",
      "dtype: int64\n"
     ]
    }
   ],
   "source": [
    "s11=pd.Series([1,2,3],index=[\"a\",\"b\",\"c\"])\n",
    "s12=s11\n",
    "s12[0]=-1\n",
    "print(s11)"
   ]
  },
  {
   "cell_type": "markdown",
   "metadata": {},
   "source": [
    "Per ottenere una nuova serie indipendente è necessario usare il metodo <code>copy</code>."
   ]
  },
  {
   "cell_type": "code",
   "execution_count": 16,
   "metadata": {},
   "outputs": [
    {
     "name": "stdout",
     "output_type": "stream",
     "text": [
      "0    1\n",
      "1    2\n",
      "2    3\n",
      "dtype: int64\n"
     ]
    }
   ],
   "source": [
    "s11=pd.Series([1,2,3])\n",
    "s12=s11.copy()\n",
    "s12[0]=-1\n",
    "print(s11)"
   ]
  },
  {
   "cell_type": "markdown",
   "metadata": {},
   "source": [
    "#### 4.1.2 Tipi di dati"
   ]
  },
  {
   "cell_type": "markdown",
   "metadata": {},
   "source": [
    "Le <i>Series</i> possono contenere diversi tipi di dati."
   ]
  },
  {
   "cell_type": "code",
   "execution_count": 17,
   "metadata": {},
   "outputs": [
    {
     "data": {
      "text/plain": [
       "0    2.5\n",
       "1    3.4\n",
       "2    5.2\n",
       "dtype: float64"
      ]
     },
     "execution_count": 17,
     "metadata": {},
     "output_type": "execute_result"
    }
   ],
   "source": [
    "pd.Series([2.5,3.4,5.2])"
   ]
  },
  {
   "cell_type": "markdown",
   "metadata": {},
   "source": [
    "Ad una serie viene associato un unico tipo di dato. Se specifichiamo dati di tipi eterogenei, la serie sarà di tipo <i>object</i>."
   ]
  },
  {
   "cell_type": "code",
   "execution_count": 18,
   "metadata": {},
   "outputs": [
    {
     "name": "stdout",
     "output_type": "stream",
     "text": [
      "0    2.5\n",
      "1      A\n",
      "2    5.2\n",
      "dtype: object\n"
     ]
    }
   ],
   "source": [
    "s=pd.Series([2.5,'A',5.2])\n",
    "print(s)"
   ]
  },
  {
   "cell_type": "markdown",
   "metadata": {},
   "source": [
    "È possibile cambiare il tipo di dato di una serie al volo con <code>astype</code> in maniera simile a quanto avviene con gli array di NumPy."
   ]
  },
  {
   "cell_type": "code",
   "execution_count": 26,
   "metadata": {},
   "outputs": [
    {
     "name": "stdout",
     "output_type": "stream",
     "text": [
      "0     2\n",
      "1     3\n",
      "2     8\n",
      "3     9\n",
      "4    12\n",
      "5    45\n",
      "dtype: int64 \n",
      "\n",
      "0     2.0\n",
      "1     3.0\n",
      "2     8.0\n",
      "3     9.0\n",
      "4    12.0\n",
      "5    45.0\n",
      "dtype: float64\n"
     ]
    },
    {
     "data": {
      "text/plain": [
       "list"
      ]
     },
     "execution_count": 26,
     "metadata": {},
     "output_type": "execute_result"
    }
   ],
   "source": [
    "s=pd.Series([2,3,8,9,12,45])\n",
    "print(s,\"\\n\")\n",
    "print(s.astype(float))\n",
    "ss=list(filter(lambda x:x*2,list(s)))\n",
    "type(ss)"
   ]
  },
  {
   "cell_type": "code",
   "execution_count": 20,
   "metadata": {},
   "outputs": [
    {
     "name": "stdout",
     "output_type": "stream",
     "text": [
      "0    1\n",
      "1    2\n",
      "dtype: object \n",
      "\n",
      "0    1\n",
      "1    2\n",
      "dtype: int32\n"
     ]
    }
   ],
   "source": [
    "s1=pd.Series(['1','2'])\n",
    "print(s1,\"\\n\")\n",
    "print(s1.astype(int))"
   ]
  },
  {
   "cell_type": "code",
   "execution_count": 27,
   "metadata": {},
   "outputs": [
    {
     "ename": "ValueError",
     "evalue": "invalid literal for int() with base 10: 'Ciao'",
     "output_type": "error",
     "traceback": [
      "\u001b[1;31m---------------------------------------------------------------------------\u001b[0m",
      "\u001b[1;31mValueError\u001b[0m                                Traceback (most recent call last)",
      "\u001b[1;32m<ipython-input-27-97c3225ebc34>\u001b[0m in \u001b[0;36m<module>\u001b[1;34m\u001b[0m\n\u001b[0;32m      1\u001b[0m \u001b[0ms\u001b[0m\u001b[1;33m=\u001b[0m\u001b[0mpd\u001b[0m\u001b[1;33m.\u001b[0m\u001b[0mSeries\u001b[0m\u001b[1;33m(\u001b[0m\u001b[1;33m[\u001b[0m\u001b[1;36m3.2\u001b[0m\u001b[1;33m,\u001b[0m\u001b[1;34m'Ciao'\u001b[0m\u001b[1;33m,\u001b[0m\u001b[1;36m7\u001b[0m\u001b[1;33m]\u001b[0m\u001b[1;33m)\u001b[0m \u001b[1;31m#Attenzione: non sempre è possibile cambiare il \"tipo\"\u001b[0m\u001b[1;33m\u001b[0m\u001b[1;33m\u001b[0m\u001b[0m\n\u001b[1;32m----> 2\u001b[1;33m \u001b[0mprint\u001b[0m\u001b[1;33m(\u001b[0m\u001b[0ms\u001b[0m\u001b[1;33m.\u001b[0m\u001b[0mastype\u001b[0m\u001b[1;33m(\u001b[0m\u001b[0mint\u001b[0m\u001b[1;33m)\u001b[0m\u001b[1;33m)\u001b[0m\u001b[1;33m\u001b[0m\u001b[1;33m\u001b[0m\u001b[0m\n\u001b[0m",
      "\u001b[1;32mE:\\Conda\\lib\\site-packages\\pandas\\core\\generic.py\u001b[0m in \u001b[0;36mastype\u001b[1;34m(self, dtype, copy, errors)\u001b[0m\n\u001b[0;32m   5696\u001b[0m         \u001b[1;32melse\u001b[0m\u001b[1;33m:\u001b[0m\u001b[1;33m\u001b[0m\u001b[1;33m\u001b[0m\u001b[0m\n\u001b[0;32m   5697\u001b[0m             \u001b[1;31m# else, only a single dtype is given\u001b[0m\u001b[1;33m\u001b[0m\u001b[1;33m\u001b[0m\u001b[1;33m\u001b[0m\u001b[0m\n\u001b[1;32m-> 5698\u001b[1;33m             \u001b[0mnew_data\u001b[0m \u001b[1;33m=\u001b[0m \u001b[0mself\u001b[0m\u001b[1;33m.\u001b[0m\u001b[0m_data\u001b[0m\u001b[1;33m.\u001b[0m\u001b[0mastype\u001b[0m\u001b[1;33m(\u001b[0m\u001b[0mdtype\u001b[0m\u001b[1;33m=\u001b[0m\u001b[0mdtype\u001b[0m\u001b[1;33m,\u001b[0m \u001b[0mcopy\u001b[0m\u001b[1;33m=\u001b[0m\u001b[0mcopy\u001b[0m\u001b[1;33m,\u001b[0m \u001b[0merrors\u001b[0m\u001b[1;33m=\u001b[0m\u001b[0merrors\u001b[0m\u001b[1;33m)\u001b[0m\u001b[1;33m\u001b[0m\u001b[1;33m\u001b[0m\u001b[0m\n\u001b[0m\u001b[0;32m   5699\u001b[0m             \u001b[1;32mreturn\u001b[0m \u001b[0mself\u001b[0m\u001b[1;33m.\u001b[0m\u001b[0m_constructor\u001b[0m\u001b[1;33m(\u001b[0m\u001b[0mnew_data\u001b[0m\u001b[1;33m)\u001b[0m\u001b[1;33m.\u001b[0m\u001b[0m__finalize__\u001b[0m\u001b[1;33m(\u001b[0m\u001b[0mself\u001b[0m\u001b[1;33m)\u001b[0m\u001b[1;33m\u001b[0m\u001b[1;33m\u001b[0m\u001b[0m\n\u001b[0;32m   5700\u001b[0m \u001b[1;33m\u001b[0m\u001b[0m\n",
      "\u001b[1;32mE:\\Conda\\lib\\site-packages\\pandas\\core\\internals\\managers.py\u001b[0m in \u001b[0;36mastype\u001b[1;34m(self, dtype, copy, errors)\u001b[0m\n\u001b[0;32m    580\u001b[0m \u001b[1;33m\u001b[0m\u001b[0m\n\u001b[0;32m    581\u001b[0m     \u001b[1;32mdef\u001b[0m \u001b[0mastype\u001b[0m\u001b[1;33m(\u001b[0m\u001b[0mself\u001b[0m\u001b[1;33m,\u001b[0m \u001b[0mdtype\u001b[0m\u001b[1;33m,\u001b[0m \u001b[0mcopy\u001b[0m\u001b[1;33m:\u001b[0m \u001b[0mbool\u001b[0m \u001b[1;33m=\u001b[0m \u001b[1;32mFalse\u001b[0m\u001b[1;33m,\u001b[0m \u001b[0merrors\u001b[0m\u001b[1;33m:\u001b[0m \u001b[0mstr\u001b[0m \u001b[1;33m=\u001b[0m \u001b[1;34m\"raise\"\u001b[0m\u001b[1;33m)\u001b[0m\u001b[1;33m:\u001b[0m\u001b[1;33m\u001b[0m\u001b[1;33m\u001b[0m\u001b[0m\n\u001b[1;32m--> 582\u001b[1;33m         \u001b[1;32mreturn\u001b[0m \u001b[0mself\u001b[0m\u001b[1;33m.\u001b[0m\u001b[0mapply\u001b[0m\u001b[1;33m(\u001b[0m\u001b[1;34m\"astype\"\u001b[0m\u001b[1;33m,\u001b[0m \u001b[0mdtype\u001b[0m\u001b[1;33m=\u001b[0m\u001b[0mdtype\u001b[0m\u001b[1;33m,\u001b[0m \u001b[0mcopy\u001b[0m\u001b[1;33m=\u001b[0m\u001b[0mcopy\u001b[0m\u001b[1;33m,\u001b[0m \u001b[0merrors\u001b[0m\u001b[1;33m=\u001b[0m\u001b[0merrors\u001b[0m\u001b[1;33m)\u001b[0m\u001b[1;33m\u001b[0m\u001b[1;33m\u001b[0m\u001b[0m\n\u001b[0m\u001b[0;32m    583\u001b[0m \u001b[1;33m\u001b[0m\u001b[0m\n\u001b[0;32m    584\u001b[0m     \u001b[1;32mdef\u001b[0m \u001b[0mconvert\u001b[0m\u001b[1;33m(\u001b[0m\u001b[0mself\u001b[0m\u001b[1;33m,\u001b[0m \u001b[1;33m**\u001b[0m\u001b[0mkwargs\u001b[0m\u001b[1;33m)\u001b[0m\u001b[1;33m:\u001b[0m\u001b[1;33m\u001b[0m\u001b[1;33m\u001b[0m\u001b[0m\n",
      "\u001b[1;32mE:\\Conda\\lib\\site-packages\\pandas\\core\\internals\\managers.py\u001b[0m in \u001b[0;36mapply\u001b[1;34m(self, f, filter, **kwargs)\u001b[0m\n\u001b[0;32m    440\u001b[0m                 \u001b[0mapplied\u001b[0m \u001b[1;33m=\u001b[0m \u001b[0mb\u001b[0m\u001b[1;33m.\u001b[0m\u001b[0mapply\u001b[0m\u001b[1;33m(\u001b[0m\u001b[0mf\u001b[0m\u001b[1;33m,\u001b[0m \u001b[1;33m**\u001b[0m\u001b[0mkwargs\u001b[0m\u001b[1;33m)\u001b[0m\u001b[1;33m\u001b[0m\u001b[1;33m\u001b[0m\u001b[0m\n\u001b[0;32m    441\u001b[0m             \u001b[1;32melse\u001b[0m\u001b[1;33m:\u001b[0m\u001b[1;33m\u001b[0m\u001b[1;33m\u001b[0m\u001b[0m\n\u001b[1;32m--> 442\u001b[1;33m                 \u001b[0mapplied\u001b[0m \u001b[1;33m=\u001b[0m \u001b[0mgetattr\u001b[0m\u001b[1;33m(\u001b[0m\u001b[0mb\u001b[0m\u001b[1;33m,\u001b[0m \u001b[0mf\u001b[0m\u001b[1;33m)\u001b[0m\u001b[1;33m(\u001b[0m\u001b[1;33m**\u001b[0m\u001b[0mkwargs\u001b[0m\u001b[1;33m)\u001b[0m\u001b[1;33m\u001b[0m\u001b[1;33m\u001b[0m\u001b[0m\n\u001b[0m\u001b[0;32m    443\u001b[0m             \u001b[0mresult_blocks\u001b[0m \u001b[1;33m=\u001b[0m \u001b[0m_extend_blocks\u001b[0m\u001b[1;33m(\u001b[0m\u001b[0mapplied\u001b[0m\u001b[1;33m,\u001b[0m \u001b[0mresult_blocks\u001b[0m\u001b[1;33m)\u001b[0m\u001b[1;33m\u001b[0m\u001b[1;33m\u001b[0m\u001b[0m\n\u001b[0;32m    444\u001b[0m \u001b[1;33m\u001b[0m\u001b[0m\n",
      "\u001b[1;32mE:\\Conda\\lib\\site-packages\\pandas\\core\\internals\\blocks.py\u001b[0m in \u001b[0;36mastype\u001b[1;34m(self, dtype, copy, errors)\u001b[0m\n\u001b[0;32m    623\u001b[0m             \u001b[0mvals1d\u001b[0m \u001b[1;33m=\u001b[0m \u001b[0mvalues\u001b[0m\u001b[1;33m.\u001b[0m\u001b[0mravel\u001b[0m\u001b[1;33m(\u001b[0m\u001b[1;33m)\u001b[0m\u001b[1;33m\u001b[0m\u001b[1;33m\u001b[0m\u001b[0m\n\u001b[0;32m    624\u001b[0m             \u001b[1;32mtry\u001b[0m\u001b[1;33m:\u001b[0m\u001b[1;33m\u001b[0m\u001b[1;33m\u001b[0m\u001b[0m\n\u001b[1;32m--> 625\u001b[1;33m                 \u001b[0mvalues\u001b[0m \u001b[1;33m=\u001b[0m \u001b[0mastype_nansafe\u001b[0m\u001b[1;33m(\u001b[0m\u001b[0mvals1d\u001b[0m\u001b[1;33m,\u001b[0m \u001b[0mdtype\u001b[0m\u001b[1;33m,\u001b[0m \u001b[0mcopy\u001b[0m\u001b[1;33m=\u001b[0m\u001b[1;32mTrue\u001b[0m\u001b[1;33m)\u001b[0m\u001b[1;33m\u001b[0m\u001b[1;33m\u001b[0m\u001b[0m\n\u001b[0m\u001b[0;32m    626\u001b[0m             \u001b[1;32mexcept\u001b[0m \u001b[1;33m(\u001b[0m\u001b[0mValueError\u001b[0m\u001b[1;33m,\u001b[0m \u001b[0mTypeError\u001b[0m\u001b[1;33m)\u001b[0m\u001b[1;33m:\u001b[0m\u001b[1;33m\u001b[0m\u001b[1;33m\u001b[0m\u001b[0m\n\u001b[0;32m    627\u001b[0m                 \u001b[1;31m# e.g. astype_nansafe can fail on object-dtype of strings\u001b[0m\u001b[1;33m\u001b[0m\u001b[1;33m\u001b[0m\u001b[1;33m\u001b[0m\u001b[0m\n",
      "\u001b[1;32mE:\\Conda\\lib\\site-packages\\pandas\\core\\dtypes\\cast.py\u001b[0m in \u001b[0;36mastype_nansafe\u001b[1;34m(arr, dtype, copy, skipna)\u001b[0m\n\u001b[0;32m    872\u001b[0m         \u001b[1;31m# work around NumPy brokenness, #1987\u001b[0m\u001b[1;33m\u001b[0m\u001b[1;33m\u001b[0m\u001b[1;33m\u001b[0m\u001b[0m\n\u001b[0;32m    873\u001b[0m         \u001b[1;32mif\u001b[0m \u001b[0mnp\u001b[0m\u001b[1;33m.\u001b[0m\u001b[0missubdtype\u001b[0m\u001b[1;33m(\u001b[0m\u001b[0mdtype\u001b[0m\u001b[1;33m.\u001b[0m\u001b[0mtype\u001b[0m\u001b[1;33m,\u001b[0m \u001b[0mnp\u001b[0m\u001b[1;33m.\u001b[0m\u001b[0minteger\u001b[0m\u001b[1;33m)\u001b[0m\u001b[1;33m:\u001b[0m\u001b[1;33m\u001b[0m\u001b[1;33m\u001b[0m\u001b[0m\n\u001b[1;32m--> 874\u001b[1;33m             \u001b[1;32mreturn\u001b[0m \u001b[0mlib\u001b[0m\u001b[1;33m.\u001b[0m\u001b[0mastype_intsafe\u001b[0m\u001b[1;33m(\u001b[0m\u001b[0marr\u001b[0m\u001b[1;33m.\u001b[0m\u001b[0mravel\u001b[0m\u001b[1;33m(\u001b[0m\u001b[1;33m)\u001b[0m\u001b[1;33m,\u001b[0m \u001b[0mdtype\u001b[0m\u001b[1;33m)\u001b[0m\u001b[1;33m.\u001b[0m\u001b[0mreshape\u001b[0m\u001b[1;33m(\u001b[0m\u001b[0marr\u001b[0m\u001b[1;33m.\u001b[0m\u001b[0mshape\u001b[0m\u001b[1;33m)\u001b[0m\u001b[1;33m\u001b[0m\u001b[1;33m\u001b[0m\u001b[0m\n\u001b[0m\u001b[0;32m    875\u001b[0m \u001b[1;33m\u001b[0m\u001b[0m\n\u001b[0;32m    876\u001b[0m         \u001b[1;31m# if we have a datetime/timedelta array of objects\u001b[0m\u001b[1;33m\u001b[0m\u001b[1;33m\u001b[0m\u001b[1;33m\u001b[0m\u001b[0m\n",
      "\u001b[1;32mpandas\\_libs\\lib.pyx\u001b[0m in \u001b[0;36mpandas._libs.lib.astype_intsafe\u001b[1;34m()\u001b[0m\n",
      "\u001b[1;31mValueError\u001b[0m: invalid literal for int() with base 10: 'Ciao'"
     ]
    }
   ],
   "source": [
    "s=pd.Series([3.2,'Ciao',7]) #Attenzione: non sempre è possibile cambiare il \"tipo\"\n",
    "print(s.astype(int))"
   ]
  },
  {
   "cell_type": "markdown",
   "metadata": {},
   "source": [
    "#### 4.1.3 Operazioni"
   ]
  },
  {
   "cell_type": "markdown",
   "metadata": {},
   "source": [
    "Sulle serie sono definite le principali operazioni presente per gli array di numpy."
   ]
  },
  {
   "cell_type": "code",
   "execution_count": 28,
   "metadata": {},
   "outputs": [
    {
     "name": "stdout",
     "output_type": "stream",
     "text": [
      "Min: 2\n",
      "Max: 9\n",
      "Mean: 5.454545454545454\n"
     ]
    }
   ],
   "source": [
    "s = pd.Series([2,7,4,8,3,3,2,9,8,5,9])\n",
    "print(\"Min:\",s.min())\n",
    "print(\"Max:\",s.max())\n",
    "print(\"Mean:\",s.mean())"
   ]
  },
  {
   "cell_type": "markdown",
   "metadata": {},
   "source": [
    "È possibile ottenere la dimensione di una serie mediante la funzione <code>len</code>."
   ]
  },
  {
   "cell_type": "code",
   "execution_count": 29,
   "metadata": {},
   "outputs": [
    {
     "name": "stdout",
     "output_type": "stream",
     "text": [
      "11\n"
     ]
    }
   ],
   "source": [
    "print(len(s))"
   ]
  },
  {
   "cell_type": "markdown",
   "metadata": {},
   "source": [
    "Per conoscere i valori di una serie esclusi i duplicati utilizziamo il metodo <code>unique</code>."
   ]
  },
  {
   "cell_type": "code",
   "execution_count": 24,
   "metadata": {},
   "outputs": [
    {
     "name": "stdout",
     "output_type": "stream",
     "text": [
      "Unique: [2 7 4 8 3 9 5]\n"
     ]
    }
   ],
   "source": [
    "print(\"Unique:\",s.unique()) #restituisce i valori univoci"
   ]
  },
  {
   "cell_type": "markdown",
   "metadata": {},
   "source": [
    "Per conoscere il numero di valori univoci in una serie, possiamo utilizzare il metodo <code>nunique</code>."
   ]
  },
  {
   "cell_type": "code",
   "execution_count": 30,
   "metadata": {},
   "outputs": [
    {
     "data": {
      "text/plain": [
       "7"
      ]
     },
     "execution_count": 30,
     "metadata": {},
     "output_type": "execute_result"
    }
   ],
   "source": [
    "s.nunique()"
   ]
  },
  {
   "cell_type": "markdown",
   "metadata": {},
   "source": [
    "È possibile ottenere i valori univoci di una serie insieme alle frequenze con le quali essi appaiono nella serie mediante il metodo\n",
    "<code>value_counts</code>."
   ]
  },
  {
   "cell_type": "code",
   "execution_count": 36,
   "metadata": {},
   "outputs": [
    {
     "name": "stdout",
     "output_type": "stream",
     "text": [
      "[7 5 0 1 4 2 8 9 6 3]\n"
     ]
    },
    {
     "data": {
      "text/plain": [
       "7    19\n",
       "4    14\n",
       "5    12\n",
       "0    11\n",
       "6     9\n",
       "2     9\n",
       "8     7\n",
       "3     7\n",
       "9     6\n",
       "1     6\n",
       "dtype: int64"
      ]
     },
     "execution_count": 36,
     "metadata": {},
     "output_type": "execute_result"
    }
   ],
   "source": [
    "import numpy as np\n",
    "tmp = pd.Series(np.random.randint(0,10,100))\n",
    "print(tmp.unique()) #valori univoci\n",
    "tmp.value_counts() #valori univoci con relative frequenze\n",
    "#print(tmp)"
   ]
  },
  {
   "cell_type": "markdown",
   "metadata": {},
   "source": [
    "Il risultato di <code>value_counts</code> è una <code>Series</code> in cui gli indici rappresentano i valori univoci, mentre i valori sono le frequenze con cui essi appaiono nella serie. La serie è ordinata per valori."
   ]
  },
  {
   "cell_type": "markdown",
   "metadata": {},
   "source": [
    "Il metodo <code>describe</code> permette di calcolare diverse statistiche dei valori contenuti nella serie."
   ]
  },
  {
   "cell_type": "code",
   "execution_count": 34,
   "metadata": {},
   "outputs": [
    {
     "data": {
      "text/plain": [
       "count    100.000000\n",
       "mean       4.020000\n",
       "std        2.828356\n",
       "min        0.000000\n",
       "25%        1.750000\n",
       "50%        4.000000\n",
       "75%        6.000000\n",
       "max        9.000000\n",
       "dtype: float64"
      ]
     },
     "execution_count": 34,
     "metadata": {},
     "output_type": "execute_result"
    }
   ],
   "source": [
    "tmp.describe()"
   ]
  },
  {
   "cell_type": "code",
   "execution_count": 28,
   "metadata": {},
   "outputs": [
    {
     "data": {
      "text/plain": [
       "count    100.000000\n",
       "mean       4.240000\n",
       "std        2.640477\n",
       "min        0.000000\n",
       "20%        2.000000\n",
       "40%        3.000000\n",
       "50%        4.000000\n",
       "60%        5.000000\n",
       "80%        6.200000\n",
       "max        9.000000\n",
       "dtype: float64"
      ]
     },
     "execution_count": 28,
     "metadata": {},
     "output_type": "execute_result"
    }
   ],
   "source": [
    "perc =[.20, .40, .60, .80]\n",
    "tmp.describe(percentiles=perc)"
   ]
  },
  {
   "cell_type": "markdown",
   "metadata": {},
   "source": [
    "Nel caso in cui alcuni indici dovessero essere mancanti, le caselle corrispondenti verranno riempite con <code>NaN</code> (not a number)."
   ]
  },
  {
   "cell_type": "code",
   "execution_count": 29,
   "metadata": {},
   "outputs": [
    {
     "name": "stdout",
     "output_type": "stream",
     "text": [
      "1    1\n",
      "2    4\n",
      "3    2\n",
      "dtype: int64 \n",
      "\n",
      "0    4\n",
      "1    2\n",
      "2    8\n",
      "dtype: int64 \n",
      "\n",
      "0     NaN\n",
      "1     3.0\n",
      "2    12.0\n",
      "3     NaN\n",
      "dtype: float64\n"
     ]
    }
   ],
   "source": [
    "s1 = pd.Series([1,4,2], index = [1,2,3])\n",
    "s2 = pd.Series([4,2,8], index = [0,1,2])\n",
    "print(s1,'\\n')\n",
    "print(s2,'\\n')\n",
    "print(s1+s2)"
   ]
  },
  {
   "cell_type": "markdown",
   "metadata": {},
   "source": [
    "In questo caso, l'indice <code>0</code> era presente solo nella seconda serie (<code>s2</code>), mentre l'indice <code>3</code> era presente solo nella prima serie (<code>s1</code>)."
   ]
  },
  {
   "cell_type": "markdown",
   "metadata": {},
   "source": [
    "Se vogliamo escludere i valori <code>NaN</code> (inclusi i relativi indici) possiamo utilizzare il metodo <code>dropna</code>."
   ]
  },
  {
   "cell_type": "code",
   "execution_count": 30,
   "metadata": {},
   "outputs": [
    {
     "name": "stdout",
     "output_type": "stream",
     "text": [
      "0     NaN\n",
      "1     3.0\n",
      "2    12.0\n",
      "3     NaN\n",
      "dtype: float64 \n",
      "\n",
      "1     3.0\n",
      "2    12.0\n",
      "dtype: float64\n"
     ]
    }
   ],
   "source": [
    "s3=s1+s2\n",
    "print(s3,\"\\n\")\n",
    "print(s3.dropna())"
   ]
  },
  {
   "cell_type": "markdown",
   "metadata": {},
   "source": [
    "Possiamo applicare una funzione a tutti gli elementi di una serie mediante il metodo <code>apply</code>. Supponiamo ad esempio di voler\n",
    "trasformare delle stringhe contenute in una serie in uppercase. Possiamo applicare la funzione <code>str.upper</code> mediante il metodo\n",
    "<code>apply</code>."
   ]
  },
  {
   "cell_type": "code",
   "execution_count": 39,
   "metadata": {},
   "outputs": [
    {
     "data": {
      "text/plain": [
       "0    100\n",
       "1     60\n",
       "2     40\n",
       "3     20\n",
       "dtype: int64"
      ]
     },
     "execution_count": 39,
     "metadata": {},
     "output_type": "execute_result"
    }
   ],
   "source": [
    "s=pd.Series(['aba','cda','daf','acc'])\n",
    "s.apply(str.upper)\n",
    "ss=pd.Series(['50','30','20','10'])\n",
    "ss.apply(lambda x:int(x)*2)"
   ]
  },
  {
   "cell_type": "markdown",
   "metadata": {},
   "source": [
    "Tramite apply possiamo applicare funzioni definite dall'utente attraverso le funzioni lambda o mediante la normale sintassi."
   ]
  },
  {
   "cell_type": "code",
   "execution_count": 32,
   "metadata": {},
   "outputs": [
    {
     "data": {
      "text/plain": [
       "0    Stringa: aba\n",
       "1    Stringa: cda\n",
       "2    Stringa: daf\n",
       "3    Stringa: acc\n",
       "dtype: object"
      ]
     },
     "execution_count": 32,
     "metadata": {},
     "output_type": "execute_result"
    }
   ],
   "source": [
    "def miafun(x):\n",
    "    y=\"Stringa: \"\n",
    "    return y+x\n",
    "s.apply(miafun)"
   ]
  },
  {
   "cell_type": "markdown",
   "metadata": {},
   "source": [
    "Possiamo scrivere la stessa funzione, in maniera più compatta, attraverso la funzione lambda."
   ]
  },
  {
   "cell_type": "code",
   "execution_count": 33,
   "metadata": {},
   "outputs": [
    {
     "data": {
      "text/plain": [
       "0    Stringa: aba\n",
       "1    Stringa: cda\n",
       "2    Stringa: daf\n",
       "3    Stringa: acc\n",
       "dtype: object"
      ]
     },
     "execution_count": 33,
     "metadata": {},
     "output_type": "execute_result"
    }
   ],
   "source": [
    "s.apply(lambda x: \"Stringa: \"+x)"
   ]
  },
  {
   "cell_type": "markdown",
   "metadata": {},
   "source": [
    "È possibile modificare tutte le occorrenze di un dato valore di una serie mediante il metodo <code>replace</code>."
   ]
  },
  {
   "cell_type": "code",
   "execution_count": 40,
   "metadata": {},
   "outputs": [
    {
     "name": "stdout",
     "output_type": "stream",
     "text": [
      "0     2\n",
      "1     5\n",
      "2    -4\n",
      "3    12\n",
      "4    -4\n",
      "5     8\n",
      "6    -9\n",
      "7     0\n",
      "dtype: int64 \n",
      "\n",
      "0           2\n",
      "1           5\n",
      "2    DIO BOIA\n",
      "3          12\n",
      "4    DIO BOIA\n",
      "5           8\n",
      "6          -9\n",
      "7           0\n",
      "dtype: object\n"
     ]
    }
   ],
   "source": [
    "serie = pd.Series([2,5,-4,12,-4,8,-9,0])\n",
    "print(serie,\"\\n\")\n",
    "serie=serie.replace({-4:\"DIO BOIA\"}) #sostituisci tutti le occorrenze di -4 con 0\n",
    "print(serie)"
   ]
  },
  {
   "cell_type": "markdown",
   "metadata": {},
   "source": [
    "#### 4.1.4 Conversione in array di NumPy"
   ]
  },
  {
   "cell_type": "markdown",
   "metadata": {},
   "source": [
    "È possibile accedere ai valori della serie in forma di array di numpy tramite la proprietà <code>values</code>"
   ]
  },
  {
   "cell_type": "code",
   "execution_count": 41,
   "metadata": {},
   "outputs": [
    {
     "name": "stdout",
     "output_type": "stream",
     "text": [
      "[ 5 12 94  5]\n"
     ]
    }
   ],
   "source": [
    "print(s3.values)"
   ]
  },
  {
   "cell_type": "markdown",
   "metadata": {},
   "source": [
    "<b>N.B.:</b> <code>values</code> non crea una copia indipendente della serie, quindi se modifichiamo l'array di numpy\n",
    "tramite <code>values</code> modifichiamo anche la serie."
   ]
  },
  {
   "cell_type": "code",
   "execution_count": 44,
   "metadata": {},
   "outputs": [
    {
     "name": "stdout",
     "output_type": "stream",
     "text": [
      "[-1 12 94  5]\n",
      "a1       -1\n",
      "a2       12\n",
      "n        94\n",
      "nuovo     5\n",
      "dtype: int64 \n",
      "\n",
      "a1       -2\n",
      "a2       12\n",
      "n        94\n",
      "nuovo     5\n",
      "dtype: int64\n"
     ]
    }
   ],
   "source": [
    "a = s3.values\n",
    "print(a)\n",
    "print(s3,\"\\n\")\n",
    "a[0]=-2\n",
    "print(s3)"
   ]
  },
  {
   "cell_type": "code",
   "execution_count": 45,
   "metadata": {},
   "outputs": [
    {
     "name": "stdout",
     "output_type": "stream",
     "text": [
      "a1       -2\n",
      "a2       12\n",
      "n        94\n",
      "nuovo     5\n",
      "dtype: int64\n"
     ]
    }
   ],
   "source": [
    "b = s3.copy().values #in questo modo otteniamo un array di numpy indipendente (tramite copy)\n",
    "b[1]=-9\n",
    "print(s3)"
   ]
  },
  {
   "cell_type": "markdown",
   "metadata": {},
   "source": [
    "### 4.2 DataFrame"
   ]
  },
  {
   "cell_type": "markdown",
   "metadata": {},
   "source": [
    "Un <b>DataFrame</b>, in pratica, è una tabella in cui:\n",
    "<ul>\n",
    "    <li>ogni riga rappresenta un'osservazione;\n",
    "    <li>ogni colonna rappresenta una variabile.\n",
    "</ul>\n",
    "Righe e colonne possono essere indentificate da nomi. È molto comune assegnare nomi alle colonne."
   ]
  },
  {
   "cell_type": "markdown",
   "metadata": {},
   "source": [
    "#### 4.2.1 Costruzione e visualizzazione di un DataFrame"
   ]
  },
  {
   "cell_type": "markdown",
   "metadata": {},
   "source": [
    "Un DataFrame può essere costruito da un array bidimensionale (una matrice) di NumPy."
   ]
  },
  {
   "cell_type": "code",
   "execution_count": 38,
   "metadata": {},
   "outputs": [
    {
     "data": {
      "text/html": [
       "<div>\n",
       "<style scoped>\n",
       "    .dataframe tbody tr th:only-of-type {\n",
       "        vertical-align: middle;\n",
       "    }\n",
       "\n",
       "    .dataframe tbody tr th {\n",
       "        vertical-align: top;\n",
       "    }\n",
       "\n",
       "    .dataframe thead th {\n",
       "        text-align: right;\n",
       "    }\n",
       "</style>\n",
       "<table border=\"1\" class=\"dataframe\">\n",
       "  <thead>\n",
       "    <tr style=\"text-align: right;\">\n",
       "      <th></th>\n",
       "      <th>A</th>\n",
       "      <th>B</th>\n",
       "      <th>C</th>\n",
       "    </tr>\n",
       "  </thead>\n",
       "  <tbody>\n",
       "    <tr>\n",
       "      <th>0</th>\n",
       "      <td>0.104205</td>\n",
       "      <td>0.338090</td>\n",
       "      <td>0.495214</td>\n",
       "    </tr>\n",
       "    <tr>\n",
       "      <th>1</th>\n",
       "      <td>0.866914</td>\n",
       "      <td>0.729168</td>\n",
       "      <td>0.149378</td>\n",
       "    </tr>\n",
       "    <tr>\n",
       "      <th>2</th>\n",
       "      <td>0.589555</td>\n",
       "      <td>0.584619</td>\n",
       "      <td>0.240965</td>\n",
       "    </tr>\n",
       "    <tr>\n",
       "      <th>3</th>\n",
       "      <td>0.253101</td>\n",
       "      <td>0.806298</td>\n",
       "      <td>0.876240</td>\n",
       "    </tr>\n",
       "    <tr>\n",
       "      <th>4</th>\n",
       "      <td>0.719982</td>\n",
       "      <td>0.326846</td>\n",
       "      <td>0.046792</td>\n",
       "    </tr>\n",
       "    <tr>\n",
       "      <th>5</th>\n",
       "      <td>0.509902</td>\n",
       "      <td>0.947252</td>\n",
       "      <td>0.242290</td>\n",
       "    </tr>\n",
       "    <tr>\n",
       "      <th>6</th>\n",
       "      <td>0.471285</td>\n",
       "      <td>0.731364</td>\n",
       "      <td>0.438659</td>\n",
       "    </tr>\n",
       "    <tr>\n",
       "      <th>7</th>\n",
       "      <td>0.143250</td>\n",
       "      <td>0.467292</td>\n",
       "      <td>0.958352</td>\n",
       "    </tr>\n",
       "    <tr>\n",
       "      <th>8</th>\n",
       "      <td>0.110412</td>\n",
       "      <td>0.490435</td>\n",
       "      <td>0.759531</td>\n",
       "    </tr>\n",
       "    <tr>\n",
       "      <th>9</th>\n",
       "      <td>0.327430</td>\n",
       "      <td>0.342399</td>\n",
       "      <td>0.765806</td>\n",
       "    </tr>\n",
       "  </tbody>\n",
       "</table>\n",
       "</div>"
      ],
      "text/plain": [
       "          A         B         C\n",
       "0  0.104205  0.338090  0.495214\n",
       "1  0.866914  0.729168  0.149378\n",
       "2  0.589555  0.584619  0.240965\n",
       "3  0.253101  0.806298  0.876240\n",
       "4  0.719982  0.326846  0.046792\n",
       "5  0.509902  0.947252  0.242290\n",
       "6  0.471285  0.731364  0.438659\n",
       "7  0.143250  0.467292  0.958352\n",
       "8  0.110412  0.490435  0.759531\n",
       "9  0.327430  0.342399  0.765806"
      ]
     },
     "execution_count": 38,
     "metadata": {},
     "output_type": "execute_result"
    }
   ],
   "source": [
    "import pandas as pd\n",
    "import numpy as np\n",
    "dati = np.random.rand(10,3) #matrice di valori random 10 x 3\n",
    "#si tratta di una matrice di 10 osservazioni, ognuna caratterizzata da 3 variabili\n",
    "df = pd.DataFrame(dati,columns=['A','B','C'])\n",
    "df #in jupyter o in una shell ipython possiamo stampare il dataframe\n",
    "#semplicemente scrivendo \"df\". In uno script dovremmo scrivere \"print df\"."
   ]
  },
  {
   "cell_type": "markdown",
   "metadata": {},
   "source": [
    "Ad ogni riga è stato assegnato in automatico un indice numerico. Se vogliamo possiamo specificare nomi anche per le righe."
   ]
  },
  {
   "cell_type": "code",
   "execution_count": 46,
   "metadata": {},
   "outputs": [
    {
     "data": {
      "text/html": [
       "<div>\n",
       "<style scoped>\n",
       "    .dataframe tbody tr th:only-of-type {\n",
       "        vertical-align: middle;\n",
       "    }\n",
       "\n",
       "    .dataframe tbody tr th {\n",
       "        vertical-align: top;\n",
       "    }\n",
       "\n",
       "    .dataframe thead th {\n",
       "        text-align: right;\n",
       "    }\n",
       "</style>\n",
       "<table border=\"1\" class=\"dataframe\">\n",
       "  <thead>\n",
       "    <tr style=\"text-align: right;\">\n",
       "      <th></th>\n",
       "      <th>A</th>\n",
       "      <th>B</th>\n",
       "      <th>C</th>\n",
       "    </tr>\n",
       "  </thead>\n",
       "  <tbody>\n",
       "    <tr>\n",
       "      <th>X</th>\n",
       "      <td>0.929616</td>\n",
       "      <td>0.316376</td>\n",
       "      <td>0.183919</td>\n",
       "    </tr>\n",
       "    <tr>\n",
       "      <th>Y</th>\n",
       "      <td>0.204560</td>\n",
       "      <td>0.567725</td>\n",
       "      <td>0.595545</td>\n",
       "    </tr>\n",
       "    <tr>\n",
       "      <th>Z</th>\n",
       "      <td>0.964515</td>\n",
       "      <td>0.653177</td>\n",
       "      <td>0.748907</td>\n",
       "    </tr>\n",
       "    <tr>\n",
       "      <th>W</th>\n",
       "      <td>0.653570</td>\n",
       "      <td>0.747715</td>\n",
       "      <td>0.961307</td>\n",
       "    </tr>\n",
       "  </tbody>\n",
       "</table>\n",
       "</div>"
      ],
      "text/plain": [
       "          A         B         C\n",
       "X  0.929616  0.316376  0.183919\n",
       "Y  0.204560  0.567725  0.595545\n",
       "Z  0.964515  0.653177  0.748907\n",
       "W  0.653570  0.747715  0.961307"
      ]
     },
     "execution_count": 46,
     "metadata": {},
     "output_type": "execute_result"
    }
   ],
   "source": [
    "np.random.seed(12345) #imposiamo un seed per ripetitibilità\n",
    "df = pd.DataFrame(np.random.rand(4,3),columns=['A','B','C'],index=['X','Y','Z','W'])\n",
    "df"
   ]
  },
  {
   "cell_type": "markdown",
   "metadata": {},
   "source": [
    "Analogamente a quanto visto nel caso delle serie, è possibile costruire un DataFrame mediante un dizionario che specifica nome e valori\n",
    "di ogni colonna"
   ]
  },
  {
   "cell_type": "code",
   "execution_count": 49,
   "metadata": {},
   "outputs": [
    {
     "data": {
      "text/html": [
       "<div>\n",
       "<style scoped>\n",
       "    .dataframe tbody tr th:only-of-type {\n",
       "        vertical-align: middle;\n",
       "    }\n",
       "\n",
       "    .dataframe tbody tr th {\n",
       "        vertical-align: top;\n",
       "    }\n",
       "\n",
       "    .dataframe thead th {\n",
       "        text-align: right;\n",
       "    }\n",
       "</style>\n",
       "<table border=\"1\" class=\"dataframe\">\n",
       "  <thead>\n",
       "    <tr style=\"text-align: right;\">\n",
       "      <th></th>\n",
       "      <th>A</th>\n",
       "      <th>B</th>\n",
       "      <th>C</th>\n",
       "    </tr>\n",
       "  </thead>\n",
       "  <tbody>\n",
       "    <tr>\n",
       "      <th>0</th>\n",
       "      <td>0.252493</td>\n",
       "      <td>0.852409</td>\n",
       "      <td>0.627000</td>\n",
       "    </tr>\n",
       "    <tr>\n",
       "      <th>1</th>\n",
       "      <td>0.720862</td>\n",
       "      <td>0.949906</td>\n",
       "      <td>0.086223</td>\n",
       "    </tr>\n",
       "    <tr>\n",
       "      <th>2</th>\n",
       "      <td>0.367439</td>\n",
       "      <td>0.107323</td>\n",
       "      <td>0.142945</td>\n",
       "    </tr>\n",
       "    <tr>\n",
       "      <th>3</th>\n",
       "      <td>0.498648</td>\n",
       "      <td>0.910725</td>\n",
       "      <td>0.515827</td>\n",
       "    </tr>\n",
       "    <tr>\n",
       "      <th>4</th>\n",
       "      <td>0.226575</td>\n",
       "      <td>0.336055</td>\n",
       "      <td>0.689341</td>\n",
       "    </tr>\n",
       "    <tr>\n",
       "      <th>5</th>\n",
       "      <td>0.353566</td>\n",
       "      <td>0.826380</td>\n",
       "      <td>0.856626</td>\n",
       "    </tr>\n",
       "    <tr>\n",
       "      <th>6</th>\n",
       "      <td>0.650852</td>\n",
       "      <td>0.898101</td>\n",
       "      <td>0.647362</td>\n",
       "    </tr>\n",
       "    <tr>\n",
       "      <th>7</th>\n",
       "      <td>0.312933</td>\n",
       "      <td>0.042715</td>\n",
       "      <td>0.581619</td>\n",
       "    </tr>\n",
       "    <tr>\n",
       "      <th>8</th>\n",
       "      <td>0.768735</td>\n",
       "      <td>0.195795</td>\n",
       "      <td>0.711116</td>\n",
       "    </tr>\n",
       "    <tr>\n",
       "      <th>9</th>\n",
       "      <td>0.781837</td>\n",
       "      <td>0.294501</td>\n",
       "      <td>0.252417</td>\n",
       "    </tr>\n",
       "  </tbody>\n",
       "</table>\n",
       "</div>"
      ],
      "text/plain": [
       "          A         B         C\n",
       "0  0.252493  0.852409  0.627000\n",
       "1  0.720862  0.949906  0.086223\n",
       "2  0.367439  0.107323  0.142945\n",
       "3  0.498648  0.910725  0.515827\n",
       "4  0.226575  0.336055  0.689341\n",
       "5  0.353566  0.826380  0.856626\n",
       "6  0.650852  0.898101  0.647362\n",
       "7  0.312933  0.042715  0.581619\n",
       "8  0.768735  0.195795  0.711116\n",
       "9  0.781837  0.294501  0.252417"
      ]
     },
     "execution_count": 49,
     "metadata": {},
     "output_type": "execute_result"
    }
   ],
   "source": [
    "pd.DataFrame({'A':np.random.rand(10), 'B':np.random.rand(10), 'C':np.random.rand(10)})"
   ]
  },
  {
   "cell_type": "markdown",
   "metadata": {},
   "source": [
    "Nel caso di dataset molto grandi, possiamo visualizzare solo le prime righe usando il metodo <b>head</b>."
   ]
  },
  {
   "cell_type": "code",
   "execution_count": 50,
   "metadata": {},
   "outputs": [
    {
     "data": {
      "text/html": [
       "<div>\n",
       "<style scoped>\n",
       "    .dataframe tbody tr th:only-of-type {\n",
       "        vertical-align: middle;\n",
       "    }\n",
       "\n",
       "    .dataframe tbody tr th {\n",
       "        vertical-align: top;\n",
       "    }\n",
       "\n",
       "    .dataframe thead th {\n",
       "        text-align: right;\n",
       "    }\n",
       "</style>\n",
       "<table border=\"1\" class=\"dataframe\">\n",
       "  <thead>\n",
       "    <tr style=\"text-align: right;\">\n",
       "      <th></th>\n",
       "      <th>A</th>\n",
       "      <th>B</th>\n",
       "      <th>C</th>\n",
       "    </tr>\n",
       "  </thead>\n",
       "  <tbody>\n",
       "    <tr>\n",
       "      <th>0</th>\n",
       "      <td>0.900160</td>\n",
       "      <td>0.442294</td>\n",
       "      <td>0.020521</td>\n",
       "    </tr>\n",
       "    <tr>\n",
       "      <th>1</th>\n",
       "      <td>0.959661</td>\n",
       "      <td>0.652225</td>\n",
       "      <td>0.513206</td>\n",
       "    </tr>\n",
       "    <tr>\n",
       "      <th>2</th>\n",
       "      <td>0.682356</td>\n",
       "      <td>0.489540</td>\n",
       "      <td>0.926490</td>\n",
       "    </tr>\n",
       "    <tr>\n",
       "      <th>3</th>\n",
       "      <td>0.515880</td>\n",
       "      <td>0.072160</td>\n",
       "      <td>0.567508</td>\n",
       "    </tr>\n",
       "    <tr>\n",
       "      <th>4</th>\n",
       "      <td>0.615243</td>\n",
       "      <td>0.941546</td>\n",
       "      <td>0.415363</td>\n",
       "    </tr>\n",
       "  </tbody>\n",
       "</table>\n",
       "</div>"
      ],
      "text/plain": [
       "          A         B         C\n",
       "0  0.900160  0.442294  0.020521\n",
       "1  0.959661  0.652225  0.513206\n",
       "2  0.682356  0.489540  0.926490\n",
       "3  0.515880  0.072160  0.567508\n",
       "4  0.615243  0.941546  0.415363"
      ]
     },
     "execution_count": 50,
     "metadata": {},
     "output_type": "execute_result"
    }
   ],
   "source": [
    "big_df = pd.DataFrame(np.random.rand(100,3),columns=['A','B','C'])\n",
    "big_df.head() #mostra di default le prime 5 righe"
   ]
  },
  {
   "cell_type": "code",
   "execution_count": null,
   "metadata": {},
   "outputs": [],
   "source": [
    "big_df.head(10) #possiamo passare come argomento il numero di righe da visulalizzare "
   ]
  },
  {
   "cell_type": "markdown",
   "metadata": {},
   "source": [
    "Possiamo invece visualizzare, in maniera analoga, le ultime righe tramite <b>tail</b>."
   ]
  },
  {
   "cell_type": "code",
   "execution_count": null,
   "metadata": {},
   "outputs": [],
   "source": [
    "big_df.tail(10) #se non specifichiamo un numero verranno mostrate, di default, le ultime 5 righe"
   ]
  },
  {
   "cell_type": "markdown",
   "metadata": {},
   "source": [
    "Possiamo ottenere il numero di righe del DataFrame mediante la funzione <b>len</b>."
   ]
  },
  {
   "cell_type": "code",
   "execution_count": 51,
   "metadata": {},
   "outputs": [
    {
     "name": "stdout",
     "output_type": "stream",
     "text": [
      "100\n"
     ]
    }
   ],
   "source": [
    "print(len(big_df))"
   ]
  },
  {
   "cell_type": "markdown",
   "metadata": {},
   "source": [
    "Per conoscere il numero di righe e colonne di un DataFrame possiamo utilizzare il metodo <b>shape</b>."
   ]
  },
  {
   "cell_type": "code",
   "execution_count": 52,
   "metadata": {},
   "outputs": [
    {
     "name": "stdout",
     "output_type": "stream",
     "text": [
      "(100, 3)\n"
     ]
    }
   ],
   "source": [
    "print(big_df.shape)"
   ]
  },
  {
   "cell_type": "markdown",
   "metadata": {},
   "source": [
    "Analogamente a quanto visto per le Series, possiamo visualizzare un DataFrame come un array di numpy richiamando il metodo <b>values</b>."
   ]
  },
  {
   "cell_type": "code",
   "execution_count": 54,
   "metadata": {},
   "outputs": [
    {
     "name": "stdout",
     "output_type": "stream",
     "text": [
      "          A         B         C\n",
      "X  0.929616  0.316376  0.183919\n",
      "Y  0.204560  0.567725  0.595545\n",
      "Z  0.964515  0.653177  0.748907\n",
      "W  0.653570  0.747715  0.961307 \n",
      "\n",
      "[[0.92961609 0.31637555 0.18391881]\n",
      " [0.20456028 0.56772503 0.5955447 ]\n",
      " [0.96451452 0.6531771  0.74890664]\n",
      " [0.65356987 0.74771481 0.96130674]]\n"
     ]
    }
   ],
   "source": [
    "print(df,'\\n')\n",
    "print(df.values) ##matrix numpy"
   ]
  },
  {
   "cell_type": "markdown",
   "metadata": {},
   "source": [
    "Anche per i DataFrame valgono le stesse considerazioni sulla memoria fatte per le Series. Per ottenere una copia indipendente di una\n",
    "DataFrame è possibile utilizzare il metodo <b>copy</b>."
   ]
  },
  {
   "cell_type": "code",
   "execution_count": null,
   "metadata": {},
   "outputs": [],
   "source": [
    "df2=df.copy()"
   ]
  },
  {
   "cell_type": "markdown",
   "metadata": {},
   "source": [
    "#### 4.2.2 Indicizzazione"
   ]
  },
  {
   "cell_type": "markdown",
   "metadata": {},
   "source": [
    "Pandas mette a disposizione una serie di strumenti per indicizzare i DataFrame selezionandone righe o colonne. Ad esempio,\n",
    "possiamo selezionare la colonna B in questo modo:"
   ]
  },
  {
   "cell_type": "code",
   "execution_count": 55,
   "metadata": {},
   "outputs": [
    {
     "name": "stdout",
     "output_type": "stream",
     "text": [
      "X    0.316376\n",
      "Y    0.567725\n",
      "Z    0.653177\n",
      "W    0.747715\n",
      "Name: B, dtype: float64 \n",
      "\n",
      "Tipo di s: <class 'pandas.core.series.Series'>\n"
     ]
    }
   ],
   "source": [
    "s=df['B']\n",
    "print(s,'\\n')\n",
    "print(\"Tipo di s:\",type(s)) # SERIES"
   ]
  },
  {
   "cell_type": "markdown",
   "metadata": {},
   "source": [
    "Da notare che il risultato di questa operazione è una <code>Series</code> (un <code>DataFrame</code> è in fondo una collezione di <code>Series</code>, ognuna rappresentata da una colonna) che ha come nome il nome della colonna considerata."
   ]
  },
  {
   "cell_type": "code",
   "execution_count": 56,
   "metadata": {},
   "outputs": [
    {
     "data": {
      "text/html": [
       "<div>\n",
       "<style scoped>\n",
       "    .dataframe tbody tr th:only-of-type {\n",
       "        vertical-align: middle;\n",
       "    }\n",
       "\n",
       "    .dataframe tbody tr th {\n",
       "        vertical-align: top;\n",
       "    }\n",
       "\n",
       "    .dataframe thead th {\n",
       "        text-align: right;\n",
       "    }\n",
       "</style>\n",
       "<table border=\"1\" class=\"dataframe\">\n",
       "  <thead>\n",
       "    <tr style=\"text-align: right;\">\n",
       "      <th></th>\n",
       "      <th>A</th>\n",
       "      <th>C</th>\n",
       "    </tr>\n",
       "  </thead>\n",
       "  <tbody>\n",
       "    <tr>\n",
       "      <th>X</th>\n",
       "      <td>0.929616</td>\n",
       "      <td>0.183919</td>\n",
       "    </tr>\n",
       "    <tr>\n",
       "      <th>Y</th>\n",
       "      <td>0.204560</td>\n",
       "      <td>0.595545</td>\n",
       "    </tr>\n",
       "    <tr>\n",
       "      <th>Z</th>\n",
       "      <td>0.964515</td>\n",
       "      <td>0.748907</td>\n",
       "    </tr>\n",
       "    <tr>\n",
       "      <th>W</th>\n",
       "      <td>0.653570</td>\n",
       "      <td>0.961307</td>\n",
       "    </tr>\n",
       "  </tbody>\n",
       "</table>\n",
       "</div>"
      ],
      "text/plain": [
       "          A         C\n",
       "X  0.929616  0.183919\n",
       "Y  0.204560  0.595545\n",
       "Z  0.964515  0.748907\n",
       "W  0.653570  0.961307"
      ]
     },
     "execution_count": 56,
     "metadata": {},
     "output_type": "execute_result"
    }
   ],
   "source": [
    "dfAC = df[['A','C']]\n",
    "dfAC #il risultato in questo caso sarà un DataFrame"
   ]
  },
  {
   "cell_type": "markdown",
   "metadata": {},
   "source": [
    "Per selezionare invece una riga utilizziamo il metodo <b>loc</b>."
   ]
  },
  {
   "cell_type": "code",
   "execution_count": 60,
   "metadata": {},
   "outputs": [
    {
     "data": {
      "text/html": [
       "<div>\n",
       "<style scoped>\n",
       "    .dataframe tbody tr th:only-of-type {\n",
       "        vertical-align: middle;\n",
       "    }\n",
       "\n",
       "    .dataframe tbody tr th {\n",
       "        vertical-align: top;\n",
       "    }\n",
       "\n",
       "    .dataframe thead th {\n",
       "        text-align: right;\n",
       "    }\n",
       "</style>\n",
       "<table border=\"1\" class=\"dataframe\">\n",
       "  <thead>\n",
       "    <tr style=\"text-align: right;\">\n",
       "      <th></th>\n",
       "      <th>A</th>\n",
       "      <th>B</th>\n",
       "      <th>C</th>\n",
       "    </tr>\n",
       "  </thead>\n",
       "  <tbody>\n",
       "    <tr>\n",
       "      <th>X</th>\n",
       "      <td>0.929616</td>\n",
       "      <td>0.316376</td>\n",
       "      <td>0.183919</td>\n",
       "    </tr>\n",
       "    <tr>\n",
       "      <th>Y</th>\n",
       "      <td>0.204560</td>\n",
       "      <td>0.567725</td>\n",
       "      <td>0.595545</td>\n",
       "    </tr>\n",
       "    <tr>\n",
       "      <th>Z</th>\n",
       "      <td>0.964515</td>\n",
       "      <td>0.653177</td>\n",
       "      <td>0.748907</td>\n",
       "    </tr>\n",
       "  </tbody>\n",
       "</table>\n",
       "</div>"
      ],
      "text/plain": [
       "          A         B         C\n",
       "X  0.929616  0.316376  0.183919\n",
       "Y  0.204560  0.567725  0.595545\n",
       "Z  0.964515  0.653177  0.748907"
      ]
     },
     "execution_count": 60,
     "metadata": {},
     "output_type": "execute_result"
    }
   ],
   "source": [
    "df_rigaX = df.loc[['X','Z']] ## row\n",
    "df_rigaX = df.loc['X':'Z'] ## row\n",
    "df_rigaX"
   ]
  },
  {
   "cell_type": "markdown",
   "metadata": {},
   "source": [
    "Anche il risultato di questa operazione è una Series, ma in questo caso gli indici rappresentano i nomi delle colonne mentre il nome\n",
    "della serie corrisponde all'indice della riga selezionata. Come nel caso delle Series, possiamo usare <b>iloc</b> visualizzare le righe in base all'indice numerico."
   ]
  },
  {
   "cell_type": "code",
   "execution_count": 61,
   "metadata": {},
   "outputs": [
    {
     "data": {
      "text/plain": [
       "A    0.964515\n",
       "B    0.653177\n",
       "C    0.748907\n",
       "Name: Z, dtype: float64"
      ]
     },
     "execution_count": 61,
     "metadata": {},
     "output_type": "execute_result"
    }
   ],
   "source": [
    "df.iloc[2] #equivalente a df.loc['Y']"
   ]
  },
  {
   "cell_type": "markdown",
   "metadata": {},
   "source": [
    "È anche possibile concatenare le operazioni di indicizzazione per selezionare uno specifico valore."
   ]
  },
  {
   "cell_type": "code",
   "execution_count": 62,
   "metadata": {},
   "outputs": [
    {
     "name": "stdout",
     "output_type": "stream",
     "text": [
      "0.2045602785530397\n",
      "0.2045602785530397\n"
     ]
    }
   ],
   "source": [
    "print(df.iloc[1]['A'])\n",
    "print(df['A'].iloc[1])"
   ]
  },
  {
   "cell_type": "markdown",
   "metadata": {},
   "source": [
    "Anche in questo caso possiamo utilizzare l'indicizzazione logica in in maniera simile a quanto visto per numpy."
   ]
  },
  {
   "cell_type": "code",
   "execution_count": 63,
   "metadata": {},
   "outputs": [
    {
     "name": "stdout",
     "output_type": "stream",
     "text": [
      "100 42\n"
     ]
    },
    {
     "data": {
      "text/html": [
       "<div>\n",
       "<style scoped>\n",
       "    .dataframe tbody tr th:only-of-type {\n",
       "        vertical-align: middle;\n",
       "    }\n",
       "\n",
       "    .dataframe tbody tr th {\n",
       "        vertical-align: top;\n",
       "    }\n",
       "\n",
       "    .dataframe thead th {\n",
       "        text-align: right;\n",
       "    }\n",
       "</style>\n",
       "<table border=\"1\" class=\"dataframe\">\n",
       "  <thead>\n",
       "    <tr style=\"text-align: right;\">\n",
       "      <th></th>\n",
       "      <th>A</th>\n",
       "      <th>B</th>\n",
       "      <th>C</th>\n",
       "    </tr>\n",
       "  </thead>\n",
       "  <tbody>\n",
       "    <tr>\n",
       "      <th>1</th>\n",
       "      <td>0.959661</td>\n",
       "      <td>0.652225</td>\n",
       "      <td>0.513206</td>\n",
       "    </tr>\n",
       "    <tr>\n",
       "      <th>4</th>\n",
       "      <td>0.615243</td>\n",
       "      <td>0.941546</td>\n",
       "      <td>0.415363</td>\n",
       "    </tr>\n",
       "    <tr>\n",
       "      <th>7</th>\n",
       "      <td>0.716947</td>\n",
       "      <td>0.729811</td>\n",
       "      <td>0.414351</td>\n",
       "    </tr>\n",
       "    <tr>\n",
       "      <th>8</th>\n",
       "      <td>0.015099</td>\n",
       "      <td>0.908975</td>\n",
       "      <td>0.789379</td>\n",
       "    </tr>\n",
       "    <tr>\n",
       "      <th>14</th>\n",
       "      <td>0.198624</td>\n",
       "      <td>0.931683</td>\n",
       "      <td>0.854414</td>\n",
       "    </tr>\n",
       "  </tbody>\n",
       "</table>\n",
       "</div>"
      ],
      "text/plain": [
       "           A         B         C\n",
       "1   0.959661  0.652225  0.513206\n",
       "4   0.615243  0.941546  0.415363\n",
       "7   0.716947  0.729811  0.414351\n",
       "8   0.015099  0.908975  0.789379\n",
       "14  0.198624  0.931683  0.854414"
      ]
     },
     "execution_count": 63,
     "metadata": {},
     "output_type": "execute_result"
    }
   ],
   "source": [
    "big_df_new=big_df[big_df['B']>0.6]\n",
    "print(len(big_df), len(big_df_new))\n",
    "big_df_new.head() #alcuni indici sono mancanti in quanto le righe corrispondenti sono state rimosse"
   ]
  },
  {
   "cell_type": "markdown",
   "metadata": {},
   "source": [
    "È possibile combinare quanto visto finora per manipolare i dati in maniera semplice e veloce. Supponiamo di voler selezionare le righe\n",
    "per le quali la somma tra i valori di B e C è maggiore di 1 e supponiamo di essere interessati solo ai valori A di tali righe (e non all'intera\n",
    "riga di valori A,B,C). Il risultato che ci aspettiamo è un array monodimensionale di valori."
   ]
  },
  {
   "cell_type": "code",
   "execution_count": 64,
   "metadata": {},
   "outputs": [
    {
     "name": "stdout",
     "output_type": "stream",
     "text": [
      "          A         B         C\n",
      "X  0.929616  0.316376  0.183919\n",
      "Y  0.204560  0.567725  0.595545\n",
      "Z  0.964515  0.653177  0.748907\n",
      "W  0.653570  0.747715  0.961307 \n",
      "\n",
      "\n",
      "Y    0.204560\n",
      "Z    0.964515\n",
      "W    0.653570\n",
      "Name: A, dtype: float64 (3,)\n"
     ]
    }
   ],
   "source": [
    "print(df,\"\\n\\n\")\n",
    "res = df[(df['B']+df['C'])>1]['A']\n",
    "print(res.head(), res.shape)"
   ]
  },
  {
   "cell_type": "markdown",
   "metadata": {},
   "source": [
    "Possiamo applicare l'indicizzazione anche a livello dell'intera tabella (oltre che al livello delle singole colonne)."
   ]
  },
  {
   "cell_type": "code",
   "execution_count": 65,
   "metadata": {},
   "outputs": [
    {
     "data": {
      "text/html": [
       "<div>\n",
       "<style scoped>\n",
       "    .dataframe tbody tr th:only-of-type {\n",
       "        vertical-align: middle;\n",
       "    }\n",
       "\n",
       "    .dataframe tbody tr th {\n",
       "        vertical-align: top;\n",
       "    }\n",
       "\n",
       "    .dataframe thead th {\n",
       "        text-align: right;\n",
       "    }\n",
       "</style>\n",
       "<table border=\"1\" class=\"dataframe\">\n",
       "  <thead>\n",
       "    <tr style=\"text-align: right;\">\n",
       "      <th></th>\n",
       "      <th>A</th>\n",
       "      <th>B</th>\n",
       "      <th>C</th>\n",
       "    </tr>\n",
       "  </thead>\n",
       "  <tbody>\n",
       "    <tr>\n",
       "      <th>X</th>\n",
       "      <td>True</td>\n",
       "      <td>True</td>\n",
       "      <td>False</td>\n",
       "    </tr>\n",
       "    <tr>\n",
       "      <th>Y</th>\n",
       "      <td>False</td>\n",
       "      <td>True</td>\n",
       "      <td>True</td>\n",
       "    </tr>\n",
       "    <tr>\n",
       "      <th>Z</th>\n",
       "      <td>True</td>\n",
       "      <td>True</td>\n",
       "      <td>True</td>\n",
       "    </tr>\n",
       "    <tr>\n",
       "      <th>W</th>\n",
       "      <td>True</td>\n",
       "      <td>True</td>\n",
       "      <td>True</td>\n",
       "    </tr>\n",
       "  </tbody>\n",
       "</table>\n",
       "</div>"
      ],
      "text/plain": [
       "       A     B      C\n",
       "X   True  True  False\n",
       "Y  False  True   True\n",
       "Z   True  True   True\n",
       "W   True  True   True"
      ]
     },
     "execution_count": 65,
     "metadata": {},
     "output_type": "execute_result"
    }
   ],
   "source": [
    "df>0.3"
   ]
  },
  {
   "cell_type": "markdown",
   "metadata": {},
   "source": [
    "Se applichiamo questa indicizzazione al DataFrame otterremo l'apparizione di alcuni <code>NaN</code>, che indicano la presenza degli elementi che\n",
    "non rispettano la condizione considerata"
   ]
  },
  {
   "cell_type": "code",
   "execution_count": 66,
   "metadata": {},
   "outputs": [
    {
     "data": {
      "text/html": [
       "<div>\n",
       "<style scoped>\n",
       "    .dataframe tbody tr th:only-of-type {\n",
       "        vertical-align: middle;\n",
       "    }\n",
       "\n",
       "    .dataframe tbody tr th {\n",
       "        vertical-align: top;\n",
       "    }\n",
       "\n",
       "    .dataframe thead th {\n",
       "        text-align: right;\n",
       "    }\n",
       "</style>\n",
       "<table border=\"1\" class=\"dataframe\">\n",
       "  <thead>\n",
       "    <tr style=\"text-align: right;\">\n",
       "      <th></th>\n",
       "      <th>A</th>\n",
       "      <th>B</th>\n",
       "      <th>C</th>\n",
       "    </tr>\n",
       "  </thead>\n",
       "  <tbody>\n",
       "    <tr>\n",
       "      <th>X</th>\n",
       "      <td>0.929616</td>\n",
       "      <td>0.316376</td>\n",
       "      <td>NaN</td>\n",
       "    </tr>\n",
       "    <tr>\n",
       "      <th>Y</th>\n",
       "      <td>NaN</td>\n",
       "      <td>0.567725</td>\n",
       "      <td>0.595545</td>\n",
       "    </tr>\n",
       "    <tr>\n",
       "      <th>Z</th>\n",
       "      <td>0.964515</td>\n",
       "      <td>0.653177</td>\n",
       "      <td>0.748907</td>\n",
       "    </tr>\n",
       "    <tr>\n",
       "      <th>W</th>\n",
       "      <td>0.653570</td>\n",
       "      <td>0.747715</td>\n",
       "      <td>0.961307</td>\n",
       "    </tr>\n",
       "  </tbody>\n",
       "</table>\n",
       "</div>"
      ],
      "text/plain": [
       "          A         B         C\n",
       "X  0.929616  0.316376       NaN\n",
       "Y       NaN  0.567725  0.595545\n",
       "Z  0.964515  0.653177  0.748907\n",
       "W  0.653570  0.747715  0.961307"
      ]
     },
     "execution_count": 66,
     "metadata": {},
     "output_type": "execute_result"
    }
   ],
   "source": [
    "df[df>0.3]"
   ]
  },
  {
   "cell_type": "markdown",
   "metadata": {},
   "source": [
    "Possiamo rimuovere i valori <code>NaN</code> mediante il metodo <code>dropna</code> come visto nel caso delle Series.<br>\n",
    "<b>N.B.:</b> verranno rimosse tutte le righe che presentano almeno un NaN."
   ]
  },
  {
   "cell_type": "code",
   "execution_count": null,
   "metadata": {},
   "outputs": [],
   "source": [
    "df[df>0.3].dropna()"
   ]
  },
  {
   "cell_type": "markdown",
   "metadata": {},
   "source": [
    "Possiamo chiedere a <code>dropna</code> di rimuovere le colonne che presentano almeno un <code>NaN</code> specificando <code>axis=1</code>."
   ]
  },
  {
   "cell_type": "code",
   "execution_count": 68,
   "metadata": {},
   "outputs": [
    {
     "data": {
      "text/html": [
       "<div>\n",
       "<style scoped>\n",
       "    .dataframe tbody tr th:only-of-type {\n",
       "        vertical-align: middle;\n",
       "    }\n",
       "\n",
       "    .dataframe tbody tr th {\n",
       "        vertical-align: top;\n",
       "    }\n",
       "\n",
       "    .dataframe thead th {\n",
       "        text-align: right;\n",
       "    }\n",
       "</style>\n",
       "<table border=\"1\" class=\"dataframe\">\n",
       "  <thead>\n",
       "    <tr style=\"text-align: right;\">\n",
       "      <th></th>\n",
       "      <th>B</th>\n",
       "    </tr>\n",
       "  </thead>\n",
       "  <tbody>\n",
       "    <tr>\n",
       "      <th>X</th>\n",
       "      <td>0.316376</td>\n",
       "    </tr>\n",
       "    <tr>\n",
       "      <th>Y</th>\n",
       "      <td>0.567725</td>\n",
       "    </tr>\n",
       "    <tr>\n",
       "      <th>Z</th>\n",
       "      <td>0.653177</td>\n",
       "    </tr>\n",
       "    <tr>\n",
       "      <th>W</th>\n",
       "      <td>0.747715</td>\n",
       "    </tr>\n",
       "  </tbody>\n",
       "</table>\n",
       "</div>"
      ],
      "text/plain": [
       "          B\n",
       "X  0.316376\n",
       "Y  0.567725\n",
       "Z  0.653177\n",
       "W  0.747715"
      ]
     },
     "execution_count": 68,
     "metadata": {},
     "output_type": "execute_result"
    }
   ],
   "source": [
    "df[df>0.3].dropna(axis=1)"
   ]
  },
  {
   "cell_type": "markdown",
   "metadata": {},
   "source": [
    "Alternativamente possiamo sostituire i valori <code>NaN</code> al volo mediante la funzione <code>fillna</code>."
   ]
  },
  {
   "cell_type": "code",
   "execution_count": 67,
   "metadata": {},
   "outputs": [
    {
     "data": {
      "text/html": [
       "<div>\n",
       "<style scoped>\n",
       "    .dataframe tbody tr th:only-of-type {\n",
       "        vertical-align: middle;\n",
       "    }\n",
       "\n",
       "    .dataframe tbody tr th {\n",
       "        vertical-align: top;\n",
       "    }\n",
       "\n",
       "    .dataframe thead th {\n",
       "        text-align: right;\n",
       "    }\n",
       "</style>\n",
       "<table border=\"1\" class=\"dataframe\">\n",
       "  <thead>\n",
       "    <tr style=\"text-align: right;\">\n",
       "      <th></th>\n",
       "      <th>A</th>\n",
       "      <th>B</th>\n",
       "      <th>C</th>\n",
       "    </tr>\n",
       "  </thead>\n",
       "  <tbody>\n",
       "    <tr>\n",
       "      <th>X</th>\n",
       "      <td>0.929616</td>\n",
       "      <td>0.316376</td>\n",
       "      <td>VAL</td>\n",
       "    </tr>\n",
       "    <tr>\n",
       "      <th>Y</th>\n",
       "      <td>VAL</td>\n",
       "      <td>0.567725</td>\n",
       "      <td>0.595545</td>\n",
       "    </tr>\n",
       "    <tr>\n",
       "      <th>Z</th>\n",
       "      <td>0.964515</td>\n",
       "      <td>0.653177</td>\n",
       "      <td>0.748907</td>\n",
       "    </tr>\n",
       "    <tr>\n",
       "      <th>W</th>\n",
       "      <td>0.65357</td>\n",
       "      <td>0.747715</td>\n",
       "      <td>0.961307</td>\n",
       "    </tr>\n",
       "  </tbody>\n",
       "</table>\n",
       "</div>"
      ],
      "text/plain": [
       "          A         B         C\n",
       "X  0.929616  0.316376       VAL\n",
       "Y       VAL  0.567725  0.595545\n",
       "Z  0.964515  0.653177  0.748907\n",
       "W   0.65357  0.747715  0.961307"
      ]
     },
     "execution_count": 67,
     "metadata": {},
     "output_type": "execute_result"
    }
   ],
   "source": [
    "df[df>0.3].fillna('VAL') #sostiuisce i NaN con 'VAL'"
   ]
  },
  {
   "cell_type": "markdown",
   "metadata": {},
   "source": [
    "Anche in questo caso, come visto nel caso delle Series possiamo ripristinare l'ordine degli indici mediante il metodo <code>reset_index</code>."
   ]
  },
  {
   "cell_type": "code",
   "execution_count": 69,
   "metadata": {},
   "outputs": [
    {
     "name": "stdout",
     "output_type": "stream",
     "text": [
      "          A         B         C\n",
      "X  0.929616  0.316376  0.183919\n",
      "Y  0.204560  0.567725  0.595545\n",
      "Z  0.964515  0.653177  0.748907\n",
      "W  0.653570  0.747715  0.961307\n",
      "          A         B         C\n",
      "0  0.929616  0.316376  0.183919\n",
      "1  0.204560  0.567725  0.595545\n",
      "2  0.964515  0.653177  0.748907\n",
      "3  0.653570  0.747715  0.961307\n"
     ]
    }
   ],
   "source": [
    "print(df)\n",
    "print(df.reset_index(drop=True))"
   ]
  },
  {
   "cell_type": "markdown",
   "metadata": {},
   "source": [
    "Se non specifichiamo <code>drop=True</code>, i vecchi indici verranno mantenuti in una nuova colonna."
   ]
  },
  {
   "cell_type": "code",
   "execution_count": 70,
   "metadata": {},
   "outputs": [
    {
     "name": "stdout",
     "output_type": "stream",
     "text": [
      "  index         A         B         C\n",
      "0     X  0.929616  0.316376  0.183919\n",
      "1     Y  0.204560  0.567725  0.595545\n",
      "2     Z  0.964515  0.653177  0.748907\n",
      "3     W  0.653570  0.747715  0.961307\n"
     ]
    }
   ],
   "source": [
    "print(df.reset_index())"
   ]
  },
  {
   "cell_type": "markdown",
   "metadata": {},
   "source": [
    "Possiamo impostare qualsiasi colonna come nuovo indice."
   ]
  },
  {
   "cell_type": "code",
   "execution_count": 73,
   "metadata": {},
   "outputs": [
    {
     "data": {
      "text/html": [
       "<div>\n",
       "<style scoped>\n",
       "    .dataframe tbody tr th:only-of-type {\n",
       "        vertical-align: middle;\n",
       "    }\n",
       "\n",
       "    .dataframe tbody tr th {\n",
       "        vertical-align: top;\n",
       "    }\n",
       "\n",
       "    .dataframe thead th {\n",
       "        text-align: right;\n",
       "    }\n",
       "</style>\n",
       "<table border=\"1\" class=\"dataframe\">\n",
       "  <thead>\n",
       "    <tr style=\"text-align: right;\">\n",
       "      <th></th>\n",
       "      <th>B</th>\n",
       "      <th>C</th>\n",
       "    </tr>\n",
       "    <tr>\n",
       "      <th>A</th>\n",
       "      <th></th>\n",
       "      <th></th>\n",
       "    </tr>\n",
       "  </thead>\n",
       "  <tbody>\n",
       "    <tr>\n",
       "      <th>0.929616</th>\n",
       "      <td>0.316376</td>\n",
       "      <td>0.183919</td>\n",
       "    </tr>\n",
       "    <tr>\n",
       "      <th>0.204560</th>\n",
       "      <td>0.567725</td>\n",
       "      <td>0.595545</td>\n",
       "    </tr>\n",
       "    <tr>\n",
       "      <th>0.964515</th>\n",
       "      <td>0.653177</td>\n",
       "      <td>0.748907</td>\n",
       "    </tr>\n",
       "    <tr>\n",
       "      <th>0.653570</th>\n",
       "      <td>0.747715</td>\n",
       "      <td>0.961307</td>\n",
       "    </tr>\n",
       "  </tbody>\n",
       "</table>\n",
       "</div>"
      ],
      "text/plain": [
       "                 B         C\n",
       "A                           \n",
       "0.929616  0.316376  0.183919\n",
       "0.204560  0.567725  0.595545\n",
       "0.964515  0.653177  0.748907\n",
       "0.653570  0.747715  0.961307"
      ]
     },
     "execution_count": 73,
     "metadata": {},
     "output_type": "execute_result"
    }
   ],
   "source": [
    "df.set_index('A')"
   ]
  },
  {
   "cell_type": "markdown",
   "metadata": {},
   "source": [
    "Va notato che questa operazione non modifica di fatto il DataFrame, ma crea una nuova \"vista\" dei dati con la modifica richiesta."
   ]
  },
  {
   "cell_type": "code",
   "execution_count": 72,
   "metadata": {},
   "outputs": [
    {
     "data": {
      "text/html": [
       "<div>\n",
       "<style scoped>\n",
       "    .dataframe tbody tr th:only-of-type {\n",
       "        vertical-align: middle;\n",
       "    }\n",
       "\n",
       "    .dataframe tbody tr th {\n",
       "        vertical-align: top;\n",
       "    }\n",
       "\n",
       "    .dataframe thead th {\n",
       "        text-align: right;\n",
       "    }\n",
       "</style>\n",
       "<table border=\"1\" class=\"dataframe\">\n",
       "  <thead>\n",
       "    <tr style=\"text-align: right;\">\n",
       "      <th></th>\n",
       "      <th>A</th>\n",
       "      <th>B</th>\n",
       "      <th>C</th>\n",
       "    </tr>\n",
       "  </thead>\n",
       "  <tbody>\n",
       "    <tr>\n",
       "      <th>X</th>\n",
       "      <td>0.929616</td>\n",
       "      <td>0.316376</td>\n",
       "      <td>0.183919</td>\n",
       "    </tr>\n",
       "    <tr>\n",
       "      <th>Y</th>\n",
       "      <td>0.204560</td>\n",
       "      <td>0.567725</td>\n",
       "      <td>0.595545</td>\n",
       "    </tr>\n",
       "    <tr>\n",
       "      <th>Z</th>\n",
       "      <td>0.964515</td>\n",
       "      <td>0.653177</td>\n",
       "      <td>0.748907</td>\n",
       "    </tr>\n",
       "    <tr>\n",
       "      <th>W</th>\n",
       "      <td>0.653570</td>\n",
       "      <td>0.747715</td>\n",
       "      <td>0.961307</td>\n",
       "    </tr>\n",
       "  </tbody>\n",
       "</table>\n",
       "</div>"
      ],
      "text/plain": [
       "          A         B         C\n",
       "X  0.929616  0.316376  0.183919\n",
       "Y  0.204560  0.567725  0.595545\n",
       "Z  0.964515  0.653177  0.748907\n",
       "W  0.653570  0.747715  0.961307"
      ]
     },
     "execution_count": 72,
     "metadata": {},
     "output_type": "execute_result"
    }
   ],
   "source": [
    "df"
   ]
  },
  {
   "cell_type": "markdown",
   "metadata": {},
   "source": [
    "Possiamo salvare questa versione modificata del dataframe in uno nuovo."
   ]
  },
  {
   "cell_type": "code",
   "execution_count": 74,
   "metadata": {},
   "outputs": [
    {
     "data": {
      "text/html": [
       "<div>\n",
       "<style scoped>\n",
       "    .dataframe tbody tr th:only-of-type {\n",
       "        vertical-align: middle;\n",
       "    }\n",
       "\n",
       "    .dataframe tbody tr th {\n",
       "        vertical-align: top;\n",
       "    }\n",
       "\n",
       "    .dataframe thead th {\n",
       "        text-align: right;\n",
       "    }\n",
       "</style>\n",
       "<table border=\"1\" class=\"dataframe\">\n",
       "  <thead>\n",
       "    <tr style=\"text-align: right;\">\n",
       "      <th></th>\n",
       "      <th>B</th>\n",
       "      <th>C</th>\n",
       "    </tr>\n",
       "    <tr>\n",
       "      <th>A</th>\n",
       "      <th></th>\n",
       "      <th></th>\n",
       "    </tr>\n",
       "  </thead>\n",
       "  <tbody>\n",
       "    <tr>\n",
       "      <th>0.929616</th>\n",
       "      <td>0.316376</td>\n",
       "      <td>0.183919</td>\n",
       "    </tr>\n",
       "    <tr>\n",
       "      <th>0.204560</th>\n",
       "      <td>0.567725</td>\n",
       "      <td>0.595545</td>\n",
       "    </tr>\n",
       "    <tr>\n",
       "      <th>0.964515</th>\n",
       "      <td>0.653177</td>\n",
       "      <td>0.748907</td>\n",
       "    </tr>\n",
       "    <tr>\n",
       "      <th>0.653570</th>\n",
       "      <td>0.747715</td>\n",
       "      <td>0.961307</td>\n",
       "    </tr>\n",
       "  </tbody>\n",
       "</table>\n",
       "</div>"
      ],
      "text/plain": [
       "                 B         C\n",
       "A                           \n",
       "0.929616  0.316376  0.183919\n",
       "0.204560  0.567725  0.595545\n",
       "0.964515  0.653177  0.748907\n",
       "0.653570  0.747715  0.961307"
      ]
     },
     "execution_count": 74,
     "metadata": {},
     "output_type": "execute_result"
    }
   ],
   "source": [
    "df2=df.set_index('A')\n",
    "df2"
   ]
  },
  {
   "cell_type": "markdown",
   "metadata": {},
   "source": [
    "#### 4.2.3 Manipolazione di DataFrame"
   ]
  },
  {
   "cell_type": "markdown",
   "metadata": {},
   "source": [
    "È possibile modificare i valori contenuti nelle righe e nelle colone di un DataFrame."
   ]
  },
  {
   "cell_type": "code",
   "execution_count": 77,
   "metadata": {},
   "outputs": [
    {
     "data": {
      "text/html": [
       "<div>\n",
       "<style scoped>\n",
       "    .dataframe tbody tr th:only-of-type {\n",
       "        vertical-align: middle;\n",
       "    }\n",
       "\n",
       "    .dataframe tbody tr th {\n",
       "        vertical-align: top;\n",
       "    }\n",
       "\n",
       "    .dataframe thead th {\n",
       "        text-align: right;\n",
       "    }\n",
       "</style>\n",
       "<table border=\"1\" class=\"dataframe\">\n",
       "  <thead>\n",
       "    <tr style=\"text-align: right;\">\n",
       "      <th></th>\n",
       "      <th>A</th>\n",
       "      <th>B</th>\n",
       "      <th>C</th>\n",
       "    </tr>\n",
       "  </thead>\n",
       "  <tbody>\n",
       "    <tr>\n",
       "      <th>X</th>\n",
       "      <td>0.929616</td>\n",
       "      <td>1.265502</td>\n",
       "      <td>0.183919</td>\n",
       "    </tr>\n",
       "    <tr>\n",
       "      <th>Y</th>\n",
       "      <td>0.204560</td>\n",
       "      <td>2.270900</td>\n",
       "      <td>0.595545</td>\n",
       "    </tr>\n",
       "    <tr>\n",
       "      <th>Z</th>\n",
       "      <td>0.321505</td>\n",
       "      <td>0.870903</td>\n",
       "      <td>0.249636</td>\n",
       "    </tr>\n",
       "    <tr>\n",
       "      <th>W</th>\n",
       "      <td>0.653570</td>\n",
       "      <td>2.990859</td>\n",
       "      <td>0.961307</td>\n",
       "    </tr>\n",
       "  </tbody>\n",
       "</table>\n",
       "</div>"
      ],
      "text/plain": [
       "          A         B         C\n",
       "X  0.929616  1.265502  0.183919\n",
       "Y  0.204560  2.270900  0.595545\n",
       "Z  0.321505  0.870903  0.249636\n",
       "W  0.653570  2.990859  0.961307"
      ]
     },
     "execution_count": 77,
     "metadata": {},
     "output_type": "execute_result"
    }
   ],
   "source": [
    "df['B']*=2 #moltiplica tutti i valori della colonna B per 2\n",
    "df.head()"
   ]
  },
  {
   "cell_type": "code",
   "execution_count": 80,
   "metadata": {},
   "outputs": [
    {
     "data": {
      "text/html": [
       "<div>\n",
       "<style scoped>\n",
       "    .dataframe tbody tr th:only-of-type {\n",
       "        vertical-align: middle;\n",
       "    }\n",
       "\n",
       "    .dataframe tbody tr th {\n",
       "        vertical-align: top;\n",
       "    }\n",
       "\n",
       "    .dataframe thead th {\n",
       "        text-align: right;\n",
       "    }\n",
       "</style>\n",
       "<table border=\"1\" class=\"dataframe\">\n",
       "  <thead>\n",
       "    <tr style=\"text-align: right;\">\n",
       "      <th></th>\n",
       "      <th>A</th>\n",
       "      <th>B</th>\n",
       "      <th>C</th>\n",
       "    </tr>\n",
       "  </thead>\n",
       "  <tbody>\n",
       "    <tr>\n",
       "      <th>X</th>\n",
       "      <td>0.929616</td>\n",
       "      <td>1.265502</td>\n",
       "      <td>0.183919</td>\n",
       "    </tr>\n",
       "    <tr>\n",
       "      <th>Y</th>\n",
       "      <td>0.204560</td>\n",
       "      <td>2.270900</td>\n",
       "      <td>0.595545</td>\n",
       "    </tr>\n",
       "    <tr>\n",
       "      <th>Z</th>\n",
       "      <td>0.011908</td>\n",
       "      <td>0.032256</td>\n",
       "      <td>0.009246</td>\n",
       "    </tr>\n",
       "    <tr>\n",
       "      <th>W</th>\n",
       "      <td>0.653570</td>\n",
       "      <td>2.990859</td>\n",
       "      <td>0.961307</td>\n",
       "    </tr>\n",
       "  </tbody>\n",
       "</table>\n",
       "</div>"
      ],
      "text/plain": [
       "          A         B         C\n",
       "X  0.929616  1.265502  0.183919\n",
       "Y  0.204560  2.270900  0.595545\n",
       "Z  0.011908  0.032256  0.009246\n",
       "W  0.653570  2.990859  0.961307"
      ]
     },
     "execution_count": 80,
     "metadata": {},
     "output_type": "execute_result"
    }
   ],
   "source": [
    "df.iloc[2]=df.iloc[2]/3 #divide per 3 tutti i valori della riga di indice 2 \n",
    "df.head()"
   ]
  },
  {
   "cell_type": "markdown",
   "metadata": {},
   "source": [
    "Possiamo definire una nuova colonna con una semplice operazione di assegnamento."
   ]
  },
  {
   "cell_type": "code",
   "execution_count": 81,
   "metadata": {},
   "outputs": [
    {
     "data": {
      "text/html": [
       "<div>\n",
       "<style scoped>\n",
       "    .dataframe tbody tr th:only-of-type {\n",
       "        vertical-align: middle;\n",
       "    }\n",
       "\n",
       "    .dataframe tbody tr th {\n",
       "        vertical-align: top;\n",
       "    }\n",
       "\n",
       "    .dataframe thead th {\n",
       "        text-align: right;\n",
       "    }\n",
       "</style>\n",
       "<table border=\"1\" class=\"dataframe\">\n",
       "  <thead>\n",
       "    <tr style=\"text-align: right;\">\n",
       "      <th></th>\n",
       "      <th>A</th>\n",
       "      <th>B</th>\n",
       "      <th>C</th>\n",
       "      <th>D</th>\n",
       "      <th>E</th>\n",
       "    </tr>\n",
       "  </thead>\n",
       "  <tbody>\n",
       "    <tr>\n",
       "      <th>X</th>\n",
       "      <td>0.929616</td>\n",
       "      <td>1.265502</td>\n",
       "      <td>0.183919</td>\n",
       "      <td>1.113535</td>\n",
       "      <td>3.0</td>\n",
       "    </tr>\n",
       "    <tr>\n",
       "      <th>Y</th>\n",
       "      <td>0.204560</td>\n",
       "      <td>2.270900</td>\n",
       "      <td>0.595545</td>\n",
       "      <td>0.800105</td>\n",
       "      <td>3.0</td>\n",
       "    </tr>\n",
       "    <tr>\n",
       "      <th>Z</th>\n",
       "      <td>0.011908</td>\n",
       "      <td>0.032256</td>\n",
       "      <td>0.009246</td>\n",
       "      <td>0.021153</td>\n",
       "      <td>3.0</td>\n",
       "    </tr>\n",
       "    <tr>\n",
       "      <th>W</th>\n",
       "      <td>0.653570</td>\n",
       "      <td>2.990859</td>\n",
       "      <td>0.961307</td>\n",
       "      <td>1.614877</td>\n",
       "      <td>3.0</td>\n",
       "    </tr>\n",
       "  </tbody>\n",
       "</table>\n",
       "</div>"
      ],
      "text/plain": [
       "          A         B         C         D    E\n",
       "X  0.929616  1.265502  0.183919  1.113535  3.0\n",
       "Y  0.204560  2.270900  0.595545  0.800105  3.0\n",
       "Z  0.011908  0.032256  0.009246  0.021153  3.0\n",
       "W  0.653570  2.990859  0.961307  1.614877  3.0"
      ]
     },
     "execution_count": 81,
     "metadata": {},
     "output_type": "execute_result"
    }
   ],
   "source": [
    "df['D'] = df['A'] + df['C']\n",
    "df['E'] = np.ones(len(df))*3\n",
    "df.head()"
   ]
  },
  {
   "cell_type": "markdown",
   "metadata": {},
   "source": [
    "Possiamo rimuovere una colonna mediante il metodo <code>drop</code> e specificando <code>axis=1</code> per indicare che vogliamo rimuovere una colonna."
   ]
  },
  {
   "cell_type": "code",
   "execution_count": 82,
   "metadata": {},
   "outputs": [
    {
     "data": {
      "text/html": [
       "<div>\n",
       "<style scoped>\n",
       "    .dataframe tbody tr th:only-of-type {\n",
       "        vertical-align: middle;\n",
       "    }\n",
       "\n",
       "    .dataframe tbody tr th {\n",
       "        vertical-align: top;\n",
       "    }\n",
       "\n",
       "    .dataframe thead th {\n",
       "        text-align: right;\n",
       "    }\n",
       "</style>\n",
       "<table border=\"1\" class=\"dataframe\">\n",
       "  <thead>\n",
       "    <tr style=\"text-align: right;\">\n",
       "      <th></th>\n",
       "      <th>A</th>\n",
       "      <th>B</th>\n",
       "      <th>C</th>\n",
       "      <th>D</th>\n",
       "    </tr>\n",
       "  </thead>\n",
       "  <tbody>\n",
       "    <tr>\n",
       "      <th>X</th>\n",
       "      <td>0.929616</td>\n",
       "      <td>1.265502</td>\n",
       "      <td>0.183919</td>\n",
       "      <td>1.113535</td>\n",
       "    </tr>\n",
       "    <tr>\n",
       "      <th>Y</th>\n",
       "      <td>0.204560</td>\n",
       "      <td>2.270900</td>\n",
       "      <td>0.595545</td>\n",
       "      <td>0.800105</td>\n",
       "    </tr>\n",
       "    <tr>\n",
       "      <th>Z</th>\n",
       "      <td>0.011908</td>\n",
       "      <td>0.032256</td>\n",
       "      <td>0.009246</td>\n",
       "      <td>0.021153</td>\n",
       "    </tr>\n",
       "    <tr>\n",
       "      <th>W</th>\n",
       "      <td>0.653570</td>\n",
       "      <td>2.990859</td>\n",
       "      <td>0.961307</td>\n",
       "      <td>1.614877</td>\n",
       "    </tr>\n",
       "  </tbody>\n",
       "</table>\n",
       "</div>"
      ],
      "text/plain": [
       "          A         B         C         D\n",
       "X  0.929616  1.265502  0.183919  1.113535\n",
       "Y  0.204560  2.270900  0.595545  0.800105\n",
       "Z  0.011908  0.032256  0.009246  0.021153\n",
       "W  0.653570  2.990859  0.961307  1.614877"
      ]
     },
     "execution_count": 82,
     "metadata": {},
     "output_type": "execute_result"
    }
   ],
   "source": [
    "df.drop('E',axis=1).head()"
   ]
  },
  {
   "cell_type": "markdown",
   "metadata": {},
   "source": [
    "Il metodo <code>drop</code> non modifica il DataFrame ma genera solo una nuova \"vista\"."
   ]
  },
  {
   "cell_type": "code",
   "execution_count": 83,
   "metadata": {},
   "outputs": [
    {
     "data": {
      "text/html": [
       "<div>\n",
       "<style scoped>\n",
       "    .dataframe tbody tr th:only-of-type {\n",
       "        vertical-align: middle;\n",
       "    }\n",
       "\n",
       "    .dataframe tbody tr th {\n",
       "        vertical-align: top;\n",
       "    }\n",
       "\n",
       "    .dataframe thead th {\n",
       "        text-align: right;\n",
       "    }\n",
       "</style>\n",
       "<table border=\"1\" class=\"dataframe\">\n",
       "  <thead>\n",
       "    <tr style=\"text-align: right;\">\n",
       "      <th></th>\n",
       "      <th>A</th>\n",
       "      <th>B</th>\n",
       "      <th>C</th>\n",
       "      <th>D</th>\n",
       "      <th>E</th>\n",
       "    </tr>\n",
       "  </thead>\n",
       "  <tbody>\n",
       "    <tr>\n",
       "      <th>X</th>\n",
       "      <td>0.929616</td>\n",
       "      <td>1.265502</td>\n",
       "      <td>0.183919</td>\n",
       "      <td>1.113535</td>\n",
       "      <td>3.0</td>\n",
       "    </tr>\n",
       "    <tr>\n",
       "      <th>Y</th>\n",
       "      <td>0.204560</td>\n",
       "      <td>2.270900</td>\n",
       "      <td>0.595545</td>\n",
       "      <td>0.800105</td>\n",
       "      <td>3.0</td>\n",
       "    </tr>\n",
       "    <tr>\n",
       "      <th>Z</th>\n",
       "      <td>0.011908</td>\n",
       "      <td>0.032256</td>\n",
       "      <td>0.009246</td>\n",
       "      <td>0.021153</td>\n",
       "      <td>3.0</td>\n",
       "    </tr>\n",
       "    <tr>\n",
       "      <th>W</th>\n",
       "      <td>0.653570</td>\n",
       "      <td>2.990859</td>\n",
       "      <td>0.961307</td>\n",
       "      <td>1.614877</td>\n",
       "      <td>3.0</td>\n",
       "    </tr>\n",
       "  </tbody>\n",
       "</table>\n",
       "</div>"
      ],
      "text/plain": [
       "          A         B         C         D    E\n",
       "X  0.929616  1.265502  0.183919  1.113535  3.0\n",
       "Y  0.204560  2.270900  0.595545  0.800105  3.0\n",
       "Z  0.011908  0.032256  0.009246  0.021153  3.0\n",
       "W  0.653570  2.990859  0.961307  1.614877  3.0"
      ]
     },
     "execution_count": 83,
     "metadata": {},
     "output_type": "execute_result"
    }
   ],
   "source": [
    "df.head()"
   ]
  },
  {
   "cell_type": "markdown",
   "metadata": {},
   "source": [
    "Possiamo rimuovere la colonna effettivamente mediante un assegnamento."
   ]
  },
  {
   "cell_type": "code",
   "execution_count": 84,
   "metadata": {},
   "outputs": [
    {
     "data": {
      "text/html": [
       "<div>\n",
       "<style scoped>\n",
       "    .dataframe tbody tr th:only-of-type {\n",
       "        vertical-align: middle;\n",
       "    }\n",
       "\n",
       "    .dataframe tbody tr th {\n",
       "        vertical-align: top;\n",
       "    }\n",
       "\n",
       "    .dataframe thead th {\n",
       "        text-align: right;\n",
       "    }\n",
       "</style>\n",
       "<table border=\"1\" class=\"dataframe\">\n",
       "  <thead>\n",
       "    <tr style=\"text-align: right;\">\n",
       "      <th></th>\n",
       "      <th>A</th>\n",
       "      <th>B</th>\n",
       "      <th>C</th>\n",
       "      <th>D</th>\n",
       "    </tr>\n",
       "  </thead>\n",
       "  <tbody>\n",
       "    <tr>\n",
       "      <th>X</th>\n",
       "      <td>0.929616</td>\n",
       "      <td>1.265502</td>\n",
       "      <td>0.183919</td>\n",
       "      <td>1.113535</td>\n",
       "    </tr>\n",
       "    <tr>\n",
       "      <th>Y</th>\n",
       "      <td>0.204560</td>\n",
       "      <td>2.270900</td>\n",
       "      <td>0.595545</td>\n",
       "      <td>0.800105</td>\n",
       "    </tr>\n",
       "    <tr>\n",
       "      <th>Z</th>\n",
       "      <td>0.011908</td>\n",
       "      <td>0.032256</td>\n",
       "      <td>0.009246</td>\n",
       "      <td>0.021153</td>\n",
       "    </tr>\n",
       "    <tr>\n",
       "      <th>W</th>\n",
       "      <td>0.653570</td>\n",
       "      <td>2.990859</td>\n",
       "      <td>0.961307</td>\n",
       "      <td>1.614877</td>\n",
       "    </tr>\n",
       "  </tbody>\n",
       "</table>\n",
       "</div>"
      ],
      "text/plain": [
       "          A         B         C         D\n",
       "X  0.929616  1.265502  0.183919  1.113535\n",
       "Y  0.204560  2.270900  0.595545  0.800105\n",
       "Z  0.011908  0.032256  0.009246  0.021153\n",
       "W  0.653570  2.990859  0.961307  1.614877"
      ]
     },
     "execution_count": 84,
     "metadata": {},
     "output_type": "execute_result"
    }
   ],
   "source": [
    "df=df.drop('E',axis=1)\n",
    "df.head()"
   ]
  },
  {
   "cell_type": "markdown",
   "metadata": {},
   "source": [
    "La rimozione delle righe avviene allo stesso modo, ma bisogna specificare <code>axis = 0</code>."
   ]
  },
  {
   "cell_type": "code",
   "execution_count": 87,
   "metadata": {},
   "outputs": [
    {
     "data": {
      "text/html": [
       "<div>\n",
       "<style scoped>\n",
       "    .dataframe tbody tr th:only-of-type {\n",
       "        vertical-align: middle;\n",
       "    }\n",
       "\n",
       "    .dataframe tbody tr th {\n",
       "        vertical-align: top;\n",
       "    }\n",
       "\n",
       "    .dataframe thead th {\n",
       "        text-align: right;\n",
       "    }\n",
       "</style>\n",
       "<table border=\"1\" class=\"dataframe\">\n",
       "  <thead>\n",
       "    <tr style=\"text-align: right;\">\n",
       "      <th></th>\n",
       "      <th>A</th>\n",
       "      <th>B</th>\n",
       "      <th>C</th>\n",
       "      <th>D</th>\n",
       "    </tr>\n",
       "  </thead>\n",
       "  <tbody>\n",
       "    <tr>\n",
       "      <th>Y</th>\n",
       "      <td>0.204560</td>\n",
       "      <td>2.270900</td>\n",
       "      <td>0.595545</td>\n",
       "      <td>0.800105</td>\n",
       "    </tr>\n",
       "    <tr>\n",
       "      <th>Z</th>\n",
       "      <td>0.011908</td>\n",
       "      <td>0.032256</td>\n",
       "      <td>0.009246</td>\n",
       "      <td>0.021153</td>\n",
       "    </tr>\n",
       "    <tr>\n",
       "      <th>W</th>\n",
       "      <td>0.653570</td>\n",
       "      <td>2.990859</td>\n",
       "      <td>0.961307</td>\n",
       "      <td>1.614877</td>\n",
       "    </tr>\n",
       "  </tbody>\n",
       "</table>\n",
       "</div>"
      ],
      "text/plain": [
       "          A         B         C         D\n",
       "Y  0.204560  2.270900  0.595545  0.800105\n",
       "Z  0.011908  0.032256  0.009246  0.021153\n",
       "W  0.653570  2.990859  0.961307  1.614877"
      ]
     },
     "execution_count": 87,
     "metadata": {},
     "output_type": "execute_result"
    }
   ],
   "source": [
    "df.drop('X', axis=0)"
   ]
  },
  {
   "cell_type": "markdown",
   "metadata": {},
   "source": [
    "È possibile aggiungere una nuova riga in coda al DataFrame mediante il metodo <b>append</b>. Anche le righe di un DataFrame\n",
    "possono essere viste come delle Series. Costruiamo quindi una serie con i giusti indici (corrispondenti alle colonne del DataFrame) e il giusto nome (corrispondente al nuovo indice)"
   ]
  },
  {
   "cell_type": "code",
   "execution_count": null,
   "metadata": {},
   "outputs": [],
   "source": [
    "new_row=pd.Series([1,2,3,4], index=['A','B','C','D'], name='H')\n",
    "print(new_row)\n",
    "df.append(new_row)"
   ]
  },
  {
   "cell_type": "markdown",
   "metadata": {},
   "source": [
    "Possiamo aggiungere più di una riga alla volta specificando un DataFrame."
   ]
  },
  {
   "cell_type": "code",
   "execution_count": 88,
   "metadata": {},
   "outputs": [
    {
     "data": {
      "text/html": [
       "<div>\n",
       "<style scoped>\n",
       "    .dataframe tbody tr th:only-of-type {\n",
       "        vertical-align: middle;\n",
       "    }\n",
       "\n",
       "    .dataframe tbody tr th {\n",
       "        vertical-align: top;\n",
       "    }\n",
       "\n",
       "    .dataframe thead th {\n",
       "        text-align: right;\n",
       "    }\n",
       "</style>\n",
       "<table border=\"1\" class=\"dataframe\">\n",
       "  <thead>\n",
       "    <tr style=\"text-align: right;\">\n",
       "      <th></th>\n",
       "      <th>A</th>\n",
       "      <th>B</th>\n",
       "      <th>C</th>\n",
       "      <th>D</th>\n",
       "    </tr>\n",
       "  </thead>\n",
       "  <tbody>\n",
       "    <tr>\n",
       "      <th>H</th>\n",
       "      <td>0</td>\n",
       "      <td>2</td>\n",
       "      <td>4</td>\n",
       "      <td>6</td>\n",
       "    </tr>\n",
       "    <tr>\n",
       "      <th>K</th>\n",
       "      <td>1</td>\n",
       "      <td>3</td>\n",
       "      <td>5</td>\n",
       "      <td>7</td>\n",
       "    </tr>\n",
       "  </tbody>\n",
       "</table>\n",
       "</div>"
      ],
      "text/plain": [
       "   A  B  C  D\n",
       "H  0  2  4  6\n",
       "K  1  3  5  7"
      ]
     },
     "execution_count": 88,
     "metadata": {},
     "output_type": "execute_result"
    }
   ],
   "source": [
    "new_rows = pd.DataFrame({'A':[0,1],'B':[2,3],'C':[4,5],'D':[6,7]}, index=['H','K'])\n",
    "new_rows"
   ]
  },
  {
   "cell_type": "code",
   "execution_count": 89,
   "metadata": {},
   "outputs": [
    {
     "data": {
      "text/html": [
       "<div>\n",
       "<style scoped>\n",
       "    .dataframe tbody tr th:only-of-type {\n",
       "        vertical-align: middle;\n",
       "    }\n",
       "\n",
       "    .dataframe tbody tr th {\n",
       "        vertical-align: top;\n",
       "    }\n",
       "\n",
       "    .dataframe thead th {\n",
       "        text-align: right;\n",
       "    }\n",
       "</style>\n",
       "<table border=\"1\" class=\"dataframe\">\n",
       "  <thead>\n",
       "    <tr style=\"text-align: right;\">\n",
       "      <th></th>\n",
       "      <th>A</th>\n",
       "      <th>B</th>\n",
       "      <th>C</th>\n",
       "      <th>D</th>\n",
       "    </tr>\n",
       "  </thead>\n",
       "  <tbody>\n",
       "    <tr>\n",
       "      <th>X</th>\n",
       "      <td>0.929616</td>\n",
       "      <td>1.265502</td>\n",
       "      <td>0.183919</td>\n",
       "      <td>1.113535</td>\n",
       "    </tr>\n",
       "    <tr>\n",
       "      <th>Y</th>\n",
       "      <td>0.204560</td>\n",
       "      <td>2.270900</td>\n",
       "      <td>0.595545</td>\n",
       "      <td>0.800105</td>\n",
       "    </tr>\n",
       "    <tr>\n",
       "      <th>Z</th>\n",
       "      <td>0.011908</td>\n",
       "      <td>0.032256</td>\n",
       "      <td>0.009246</td>\n",
       "      <td>0.021153</td>\n",
       "    </tr>\n",
       "    <tr>\n",
       "      <th>W</th>\n",
       "      <td>0.653570</td>\n",
       "      <td>2.990859</td>\n",
       "      <td>0.961307</td>\n",
       "      <td>1.614877</td>\n",
       "    </tr>\n",
       "    <tr>\n",
       "      <th>H</th>\n",
       "      <td>0.000000</td>\n",
       "      <td>2.000000</td>\n",
       "      <td>4.000000</td>\n",
       "      <td>6.000000</td>\n",
       "    </tr>\n",
       "    <tr>\n",
       "      <th>K</th>\n",
       "      <td>1.000000</td>\n",
       "      <td>3.000000</td>\n",
       "      <td>5.000000</td>\n",
       "      <td>7.000000</td>\n",
       "    </tr>\n",
       "  </tbody>\n",
       "</table>\n",
       "</div>"
      ],
      "text/plain": [
       "          A         B         C         D\n",
       "X  0.929616  1.265502  0.183919  1.113535\n",
       "Y  0.204560  2.270900  0.595545  0.800105\n",
       "Z  0.011908  0.032256  0.009246  0.021153\n",
       "W  0.653570  2.990859  0.961307  1.614877\n",
       "H  0.000000  2.000000  4.000000  6.000000\n",
       "K  1.000000  3.000000  5.000000  7.000000"
      ]
     },
     "execution_count": 89,
     "metadata": {},
     "output_type": "execute_result"
    }
   ],
   "source": [
    "df.append(new_rows)"
   ]
  },
  {
   "cell_type": "markdown",
   "metadata": {},
   "source": [
    "#### 4.2.4 Operazioni"
   ]
  },
  {
   "cell_type": "markdown",
   "metadata": {},
   "source": [
    "Restano definite sui DataFrame, con le opportune differenze, le operazioni viste nel caso delle serie. In genere, queste vengono applicate\n",
    "a tutte le colonne del DataFrame in maniera indipendente."
   ]
  },
  {
   "cell_type": "code",
   "execution_count": null,
   "metadata": {},
   "outputs": [],
   "source": [
    "df.mean() #media di ogni colonna"
   ]
  },
  {
   "cell_type": "code",
   "execution_count": null,
   "metadata": {},
   "outputs": [],
   "source": [
    "df.max() #massimo di ogni colonna"
   ]
  },
  {
   "cell_type": "code",
   "execution_count": null,
   "metadata": {},
   "outputs": [],
   "source": [
    " df.max() #massimo di ogni colonna"
   ]
  },
  {
   "cell_type": "markdown",
   "metadata": {},
   "source": [
    "Dato che le colonne di un DataFrame sono delle serie, ad esse può essere applicato il metodo <b>apply</b>."
   ]
  },
  {
   "cell_type": "code",
   "execution_count": 90,
   "metadata": {},
   "outputs": [
    {
     "data": {
      "text/html": [
       "<div>\n",
       "<style scoped>\n",
       "    .dataframe tbody tr th:only-of-type {\n",
       "        vertical-align: middle;\n",
       "    }\n",
       "\n",
       "    .dataframe tbody tr th {\n",
       "        vertical-align: top;\n",
       "    }\n",
       "\n",
       "    .dataframe thead th {\n",
       "        text-align: right;\n",
       "    }\n",
       "</style>\n",
       "<table border=\"1\" class=\"dataframe\">\n",
       "  <thead>\n",
       "    <tr style=\"text-align: right;\">\n",
       "      <th></th>\n",
       "      <th>A</th>\n",
       "      <th>B</th>\n",
       "      <th>C</th>\n",
       "      <th>D</th>\n",
       "    </tr>\n",
       "  </thead>\n",
       "  <tbody>\n",
       "    <tr>\n",
       "      <th>X</th>\n",
       "      <td>Numero: 0.9296160928171479</td>\n",
       "      <td>1.265502</td>\n",
       "      <td>0.183919</td>\n",
       "      <td>1.113535</td>\n",
       "    </tr>\n",
       "    <tr>\n",
       "      <th>Y</th>\n",
       "      <td>Numero: 0.2045602785530397</td>\n",
       "      <td>2.270900</td>\n",
       "      <td>0.595545</td>\n",
       "      <td>0.800105</td>\n",
       "    </tr>\n",
       "    <tr>\n",
       "      <th>Z</th>\n",
       "      <td>Numero: 0.011907586663402735</td>\n",
       "      <td>0.032256</td>\n",
       "      <td>0.009246</td>\n",
       "      <td>0.021153</td>\n",
       "    </tr>\n",
       "    <tr>\n",
       "      <th>W</th>\n",
       "      <td>Numero: 0.6535698708517353</td>\n",
       "      <td>2.990859</td>\n",
       "      <td>0.961307</td>\n",
       "      <td>1.614877</td>\n",
       "    </tr>\n",
       "  </tbody>\n",
       "</table>\n",
       "</div>"
      ],
      "text/plain": [
       "                              A         B         C         D\n",
       "X    Numero: 0.9296160928171479  1.265502  0.183919  1.113535\n",
       "Y    Numero: 0.2045602785530397  2.270900  0.595545  0.800105\n",
       "Z  Numero: 0.011907586663402735  0.032256  0.009246  0.021153\n",
       "W    Numero: 0.6535698708517353  2.990859  0.961307  1.614877"
      ]
     },
     "execution_count": 90,
     "metadata": {},
     "output_type": "execute_result"
    }
   ],
   "source": [
    "df['A']=df['A'].apply(lambda x: \"Numero: \"+str(x))\n",
    "df"
   ]
  },
  {
   "cell_type": "markdown",
   "metadata": {},
   "source": [
    "Possiamo ordinare le righe di un DataFrame rispetto ai valori di una delle colonne mediante il metodo <b>sort_values</b>."
   ]
  },
  {
   "cell_type": "code",
   "execution_count": 91,
   "metadata": {},
   "outputs": [
    {
     "data": {
      "text/html": [
       "<div>\n",
       "<style scoped>\n",
       "    .dataframe tbody tr th:only-of-type {\n",
       "        vertical-align: middle;\n",
       "    }\n",
       "\n",
       "    .dataframe tbody tr th {\n",
       "        vertical-align: top;\n",
       "    }\n",
       "\n",
       "    .dataframe thead th {\n",
       "        text-align: right;\n",
       "    }\n",
       "</style>\n",
       "<table border=\"1\" class=\"dataframe\">\n",
       "  <thead>\n",
       "    <tr style=\"text-align: right;\">\n",
       "      <th></th>\n",
       "      <th>A</th>\n",
       "      <th>B</th>\n",
       "      <th>C</th>\n",
       "      <th>D</th>\n",
       "    </tr>\n",
       "  </thead>\n",
       "  <tbody>\n",
       "    <tr>\n",
       "      <th>Z</th>\n",
       "      <td>Numero: 0.011907586663402735</td>\n",
       "      <td>0.032256</td>\n",
       "      <td>0.009246</td>\n",
       "      <td>0.021153</td>\n",
       "    </tr>\n",
       "    <tr>\n",
       "      <th>Y</th>\n",
       "      <td>Numero: 0.2045602785530397</td>\n",
       "      <td>2.270900</td>\n",
       "      <td>0.595545</td>\n",
       "      <td>0.800105</td>\n",
       "    </tr>\n",
       "    <tr>\n",
       "      <th>X</th>\n",
       "      <td>Numero: 0.9296160928171479</td>\n",
       "      <td>1.265502</td>\n",
       "      <td>0.183919</td>\n",
       "      <td>1.113535</td>\n",
       "    </tr>\n",
       "    <tr>\n",
       "      <th>W</th>\n",
       "      <td>Numero: 0.6535698708517353</td>\n",
       "      <td>2.990859</td>\n",
       "      <td>0.961307</td>\n",
       "      <td>1.614877</td>\n",
       "    </tr>\n",
       "  </tbody>\n",
       "</table>\n",
       "</div>"
      ],
      "text/plain": [
       "                              A         B         C         D\n",
       "Z  Numero: 0.011907586663402735  0.032256  0.009246  0.021153\n",
       "Y    Numero: 0.2045602785530397  2.270900  0.595545  0.800105\n",
       "X    Numero: 0.9296160928171479  1.265502  0.183919  1.113535\n",
       "W    Numero: 0.6535698708517353  2.990859  0.961307  1.614877"
      ]
     },
     "execution_count": 91,
     "metadata": {},
     "output_type": "execute_result"
    }
   ],
   "source": [
    "df.sort_values(by='D')"
   ]
  },
  {
   "cell_type": "markdown",
   "metadata": {},
   "source": [
    "Per rendere l'ordinamento permanente, dobbiamo effettuare un assegnamento."
   ]
  },
  {
   "cell_type": "code",
   "execution_count": 92,
   "metadata": {},
   "outputs": [
    {
     "data": {
      "text/html": [
       "<div>\n",
       "<style scoped>\n",
       "    .dataframe tbody tr th:only-of-type {\n",
       "        vertical-align: middle;\n",
       "    }\n",
       "\n",
       "    .dataframe tbody tr th {\n",
       "        vertical-align: top;\n",
       "    }\n",
       "\n",
       "    .dataframe thead th {\n",
       "        text-align: right;\n",
       "    }\n",
       "</style>\n",
       "<table border=\"1\" class=\"dataframe\">\n",
       "  <thead>\n",
       "    <tr style=\"text-align: right;\">\n",
       "      <th></th>\n",
       "      <th>A</th>\n",
       "      <th>B</th>\n",
       "      <th>C</th>\n",
       "      <th>D</th>\n",
       "    </tr>\n",
       "  </thead>\n",
       "  <tbody>\n",
       "    <tr>\n",
       "      <th>Z</th>\n",
       "      <td>Numero: 0.011907586663402735</td>\n",
       "      <td>0.032256</td>\n",
       "      <td>0.009246</td>\n",
       "      <td>0.021153</td>\n",
       "    </tr>\n",
       "    <tr>\n",
       "      <th>Y</th>\n",
       "      <td>Numero: 0.2045602785530397</td>\n",
       "      <td>2.270900</td>\n",
       "      <td>0.595545</td>\n",
       "      <td>0.800105</td>\n",
       "    </tr>\n",
       "    <tr>\n",
       "      <th>X</th>\n",
       "      <td>Numero: 0.9296160928171479</td>\n",
       "      <td>1.265502</td>\n",
       "      <td>0.183919</td>\n",
       "      <td>1.113535</td>\n",
       "    </tr>\n",
       "    <tr>\n",
       "      <th>W</th>\n",
       "      <td>Numero: 0.6535698708517353</td>\n",
       "      <td>2.990859</td>\n",
       "      <td>0.961307</td>\n",
       "      <td>1.614877</td>\n",
       "    </tr>\n",
       "  </tbody>\n",
       "</table>\n",
       "</div>"
      ],
      "text/plain": [
       "                              A         B         C         D\n",
       "Z  Numero: 0.011907586663402735  0.032256  0.009246  0.021153\n",
       "Y    Numero: 0.2045602785530397  2.270900  0.595545  0.800105\n",
       "X    Numero: 0.9296160928171479  1.265502  0.183919  1.113535\n",
       "W    Numero: 0.6535698708517353  2.990859  0.961307  1.614877"
      ]
     },
     "execution_count": 92,
     "metadata": {},
     "output_type": "execute_result"
    }
   ],
   "source": [
    "df=df.sort_values(by='D')\n",
    "df"
   ]
  },
  {
   "cell_type": "markdown",
   "metadata": {},
   "source": [
    "#### 4.2.5 Groupby"
   ]
  },
  {
   "cell_type": "markdown",
   "metadata": {},
   "source": [
    "Il metodo <b>groupby</b> permette di raggruppare le righe di un DataFrame e richiamare delle funzioni aggreggate su di esse.\n",
    "Consideriamo un DataFrame un po' più rappresentativo."
   ]
  },
  {
   "cell_type": "code",
   "execution_count": 93,
   "metadata": {},
   "outputs": [
    {
     "data": {
      "text/html": [
       "<div>\n",
       "<style scoped>\n",
       "    .dataframe tbody tr th:only-of-type {\n",
       "        vertical-align: middle;\n",
       "    }\n",
       "\n",
       "    .dataframe tbody tr th {\n",
       "        vertical-align: top;\n",
       "    }\n",
       "\n",
       "    .dataframe thead th {\n",
       "        text-align: right;\n",
       "    }\n",
       "</style>\n",
       "<table border=\"1\" class=\"dataframe\">\n",
       "  <thead>\n",
       "    <tr style=\"text-align: right;\">\n",
       "      <th></th>\n",
       "      <th>income</th>\n",
       "      <th>age</th>\n",
       "      <th>sex</th>\n",
       "      <th>company</th>\n",
       "    </tr>\n",
       "  </thead>\n",
       "  <tbody>\n",
       "    <tr>\n",
       "      <th>0</th>\n",
       "      <td>10000</td>\n",
       "      <td>32</td>\n",
       "      <td>M</td>\n",
       "      <td>CDX</td>\n",
       "    </tr>\n",
       "    <tr>\n",
       "      <th>1</th>\n",
       "      <td>11000</td>\n",
       "      <td>32</td>\n",
       "      <td>F</td>\n",
       "      <td>FLZ</td>\n",
       "    </tr>\n",
       "    <tr>\n",
       "      <th>2</th>\n",
       "      <td>9000</td>\n",
       "      <td>45</td>\n",
       "      <td>M</td>\n",
       "      <td>PTX</td>\n",
       "    </tr>\n",
       "    <tr>\n",
       "      <th>3</th>\n",
       "      <td>3000</td>\n",
       "      <td>35</td>\n",
       "      <td>M</td>\n",
       "      <td>CDX</td>\n",
       "    </tr>\n",
       "    <tr>\n",
       "      <th>4</th>\n",
       "      <td>1000</td>\n",
       "      <td>28</td>\n",
       "      <td>M</td>\n",
       "      <td>PTX</td>\n",
       "    </tr>\n",
       "    <tr>\n",
       "      <th>5</th>\n",
       "      <td>5000</td>\n",
       "      <td>18</td>\n",
       "      <td>F</td>\n",
       "      <td>CDX</td>\n",
       "    </tr>\n",
       "    <tr>\n",
       "      <th>6</th>\n",
       "      <td>7000</td>\n",
       "      <td>27</td>\n",
       "      <td>F</td>\n",
       "      <td>FLZ</td>\n",
       "    </tr>\n",
       "    <tr>\n",
       "      <th>7</th>\n",
       "      <td>2000</td>\n",
       "      <td>45</td>\n",
       "      <td>M</td>\n",
       "      <td>CDX</td>\n",
       "    </tr>\n",
       "    <tr>\n",
       "      <th>8</th>\n",
       "      <td>7000</td>\n",
       "      <td>39</td>\n",
       "      <td>M</td>\n",
       "      <td>FLZ</td>\n",
       "    </tr>\n",
       "    <tr>\n",
       "      <th>9</th>\n",
       "      <td>12000</td>\n",
       "      <td>33</td>\n",
       "      <td>F</td>\n",
       "      <td>PTX</td>\n",
       "    </tr>\n",
       "    <tr>\n",
       "      <th>10</th>\n",
       "      <td>8000</td>\n",
       "      <td>32</td>\n",
       "      <td>F</td>\n",
       "      <td>FLZ</td>\n",
       "    </tr>\n",
       "  </tbody>\n",
       "</table>\n",
       "</div>"
      ],
      "text/plain": [
       "    income  age sex company\n",
       "0    10000   32   M     CDX\n",
       "1    11000   32   F     FLZ\n",
       "2     9000   45   M     PTX\n",
       "3     3000   35   M     CDX\n",
       "4     1000   28   M     PTX\n",
       "5     5000   18   F     CDX\n",
       "6     7000   27   F     FLZ\n",
       "7     2000   45   M     CDX\n",
       "8     7000   39   M     FLZ\n",
       "9    12000   33   F     PTX\n",
       "10    8000   32   F     FLZ"
      ]
     },
     "execution_count": 93,
     "metadata": {},
     "output_type": "execute_result"
    }
   ],
   "source": [
    "df=pd.DataFrame({'income':[10000,11000,9000,3000,1000,5000,7000,2000,7000,12000,8000],\\\n",
    "'age':[32,32,45,35,28,18,27,45,39,33,32],\\\n",
    "'sex':['M','F','M','M','M','F','F','M','M','F','F'],\\\n",
    "'company':['CDX','FLZ','PTX','CDX','PTX','CDX','FLZ','CDX','FLZ','PTX','FLZ']})\n",
    "df"
   ]
  },
  {
   "cell_type": "markdown",
   "metadata": {},
   "source": [
    "Il metodo <code>groupby</code> ci permette di raggruppare le righe del DataFrame per valore, rispetto a una colonna specificata. Supponiamo di voler raggruppare tutte le righe che hanno lo stesso valore di <i>sex</i>."
   ]
  },
  {
   "cell_type": "code",
   "execution_count": 94,
   "metadata": {},
   "outputs": [
    {
     "data": {
      "text/plain": [
       "<pandas.core.groupby.generic.DataFrameGroupBy object at 0x0000021A9841CF70>"
      ]
     },
     "execution_count": 94,
     "metadata": {},
     "output_type": "execute_result"
    }
   ],
   "source": [
    "df.groupby('sex')"
   ]
  },
  {
   "cell_type": "markdown",
   "metadata": {},
   "source": [
    "Questa operazione restituisce un oggetto di tipo <i>DataFrameGroupby</i> sul quale sarà possibile effettuare delle operazioni aggregate (ad\n",
    "esempio, somme e medie). Supponiamo adesso di voler calcolare la media di tutti i valori che ricadono nello stesso gruppo (ovvero\n",
    "calcoliamo la media delle righe che hanno lo stesso valore di sex)."
   ]
  },
  {
   "cell_type": "code",
   "execution_count": 95,
   "metadata": {},
   "outputs": [
    {
     "data": {
      "text/html": [
       "<div>\n",
       "<style scoped>\n",
       "    .dataframe tbody tr th:only-of-type {\n",
       "        vertical-align: middle;\n",
       "    }\n",
       "\n",
       "    .dataframe tbody tr th {\n",
       "        vertical-align: top;\n",
       "    }\n",
       "\n",
       "    .dataframe thead th {\n",
       "        text-align: right;\n",
       "    }\n",
       "</style>\n",
       "<table border=\"1\" class=\"dataframe\">\n",
       "  <thead>\n",
       "    <tr style=\"text-align: right;\">\n",
       "      <th></th>\n",
       "      <th>income</th>\n",
       "      <th>age</th>\n",
       "    </tr>\n",
       "    <tr>\n",
       "      <th>sex</th>\n",
       "      <th></th>\n",
       "      <th></th>\n",
       "    </tr>\n",
       "  </thead>\n",
       "  <tbody>\n",
       "    <tr>\n",
       "      <th>F</th>\n",
       "      <td>8600.000000</td>\n",
       "      <td>28.400000</td>\n",
       "    </tr>\n",
       "    <tr>\n",
       "      <th>M</th>\n",
       "      <td>5333.333333</td>\n",
       "      <td>37.333333</td>\n",
       "    </tr>\n",
       "  </tbody>\n",
       "</table>\n",
       "</div>"
      ],
      "text/plain": [
       "          income        age\n",
       "sex                        \n",
       "F    8600.000000  28.400000\n",
       "M    5333.333333  37.333333"
      ]
     },
     "execution_count": 95,
     "metadata": {},
     "output_type": "execute_result"
    }
   ],
   "source": [
    "df.groupby('sex').mean()"
   ]
  },
  {
   "cell_type": "markdown",
   "metadata": {},
   "source": [
    "Se siamo interessati a una sola delle variabili possiamo selezionarla prima o dopo l'operazione sui dati aggregati."
   ]
  },
  {
   "cell_type": "code",
   "execution_count": 97,
   "metadata": {},
   "outputs": [
    {
     "data": {
      "text/html": [
       "<div>\n",
       "<style scoped>\n",
       "    .dataframe tbody tr th:only-of-type {\n",
       "        vertical-align: middle;\n",
       "    }\n",
       "\n",
       "    .dataframe tbody tr th {\n",
       "        vertical-align: top;\n",
       "    }\n",
       "\n",
       "    .dataframe thead th {\n",
       "        text-align: right;\n",
       "    }\n",
       "</style>\n",
       "<table border=\"1\" class=\"dataframe\">\n",
       "  <thead>\n",
       "    <tr style=\"text-align: right;\">\n",
       "      <th></th>\n",
       "      <th>income</th>\n",
       "      <th>age</th>\n",
       "    </tr>\n",
       "    <tr>\n",
       "      <th>sex</th>\n",
       "      <th></th>\n",
       "      <th></th>\n",
       "    </tr>\n",
       "  </thead>\n",
       "  <tbody>\n",
       "    <tr>\n",
       "      <th>F</th>\n",
       "      <td>8600.000000</td>\n",
       "      <td>28.400000</td>\n",
       "    </tr>\n",
       "    <tr>\n",
       "      <th>M</th>\n",
       "      <td>5333.333333</td>\n",
       "      <td>37.333333</td>\n",
       "    </tr>\n",
       "  </tbody>\n",
       "</table>\n",
       "</div>"
      ],
      "text/plain": [
       "          income        age\n",
       "sex                        \n",
       "F    8600.000000  28.400000\n",
       "M    5333.333333  37.333333"
      ]
     },
     "execution_count": 97,
     "metadata": {},
     "output_type": "execute_result"
    }
   ],
   "source": [
    "df.groupby('sex').mean() #equivalente a: df.groupby('sex').mean()['age']"
   ]
  },
  {
   "cell_type": "markdown",
   "metadata": {},
   "source": [
    "La tabella mostra il reddito medio e l'età media dei soggetti di sesso maschile e femminile. Dato che l'operazione di media si può applicare solo a valori numerici, la colonna Company è stata esclusa. Possiamo ottenere una tabella simile in cui mostriamo la somma dei redditi e la somma delle età cambiando <code>mean</code> in <code>sum</code>."
   ]
  },
  {
   "cell_type": "code",
   "execution_count": 105,
   "metadata": {},
   "outputs": [
    {
     "data": {
      "text/html": [
       "<div>\n",
       "<style scoped>\n",
       "    .dataframe tbody tr th:only-of-type {\n",
       "        vertical-align: middle;\n",
       "    }\n",
       "\n",
       "    .dataframe tbody tr th {\n",
       "        vertical-align: top;\n",
       "    }\n",
       "\n",
       "    .dataframe thead th {\n",
       "        text-align: right;\n",
       "    }\n",
       "</style>\n",
       "<table border=\"1\" class=\"dataframe\">\n",
       "  <thead>\n",
       "    <tr style=\"text-align: right;\">\n",
       "      <th>sex</th>\n",
       "      <th>F</th>\n",
       "      <th>M</th>\n",
       "    </tr>\n",
       "  </thead>\n",
       "  <tbody>\n",
       "    <tr>\n",
       "      <th>income</th>\n",
       "      <td>43000</td>\n",
       "      <td>32000</td>\n",
       "    </tr>\n",
       "    <tr>\n",
       "      <th>age</th>\n",
       "      <td>142</td>\n",
       "      <td>224</td>\n",
       "    </tr>\n",
       "  </tbody>\n",
       "</table>\n",
       "</div>"
      ],
      "text/plain": [
       "sex         F      M\n",
       "income  43000  32000\n",
       "age       142    224"
      ]
     },
     "execution_count": 105,
     "metadata": {},
     "output_type": "execute_result"
    }
   ],
   "source": [
    "df.groupby('sex').sum().T"
   ]
  },
  {
   "cell_type": "markdown",
   "metadata": {},
   "source": [
    "In generale, è possibile utilizzare diverse funzioni aggregate oltre a <code>mean</code> e <code>sum</code> (ad es. <code>min</code>, <code>max</code>, <code>std</code>). Due funzioni particolarmente interessanti da usare in questo contesto sono <code>count</code> e <code>describe</code>. In particolare, <code>count</code> conta il numero di elementi interessati, mentre <code>describe</code> calcola diverse statistiche dei valori interessati."
   ]
  },
  {
   "cell_type": "code",
   "execution_count": 99,
   "metadata": {},
   "outputs": [
    {
     "data": {
      "text/html": [
       "<div>\n",
       "<style scoped>\n",
       "    .dataframe tbody tr th:only-of-type {\n",
       "        vertical-align: middle;\n",
       "    }\n",
       "\n",
       "    .dataframe tbody tr th {\n",
       "        vertical-align: top;\n",
       "    }\n",
       "\n",
       "    .dataframe thead th {\n",
       "        text-align: right;\n",
       "    }\n",
       "</style>\n",
       "<table border=\"1\" class=\"dataframe\">\n",
       "  <thead>\n",
       "    <tr style=\"text-align: right;\">\n",
       "      <th></th>\n",
       "      <th>income</th>\n",
       "      <th>age</th>\n",
       "      <th>company</th>\n",
       "    </tr>\n",
       "    <tr>\n",
       "      <th>sex</th>\n",
       "      <th></th>\n",
       "      <th></th>\n",
       "      <th></th>\n",
       "    </tr>\n",
       "  </thead>\n",
       "  <tbody>\n",
       "    <tr>\n",
       "      <th>F</th>\n",
       "      <td>5</td>\n",
       "      <td>5</td>\n",
       "      <td>5</td>\n",
       "    </tr>\n",
       "    <tr>\n",
       "      <th>M</th>\n",
       "      <td>6</td>\n",
       "      <td>6</td>\n",
       "      <td>6</td>\n",
       "    </tr>\n",
       "  </tbody>\n",
       "</table>\n",
       "</div>"
      ],
      "text/plain": [
       "     income  age  company\n",
       "sex                      \n",
       "F         5    5        5\n",
       "M         6    6        6"
      ]
     },
     "execution_count": 99,
     "metadata": {},
     "output_type": "execute_result"
    }
   ],
   "source": [
    "df.groupby('sex').count()"
   ]
  },
  {
   "cell_type": "markdown",
   "metadata": {},
   "source": [
    "Il numero di elementi è uguale per le varie colonne in quanto non ci sono valori NaN nel DataFrame."
   ]
  },
  {
   "cell_type": "code",
   "execution_count": 103,
   "metadata": {},
   "outputs": [
    {
     "data": {
      "text/html": [
       "<div>\n",
       "<style scoped>\n",
       "    .dataframe tbody tr th:only-of-type {\n",
       "        vertical-align: middle;\n",
       "    }\n",
       "\n",
       "    .dataframe tbody tr th {\n",
       "        vertical-align: top;\n",
       "    }\n",
       "\n",
       "    .dataframe thead tr th {\n",
       "        text-align: left;\n",
       "    }\n",
       "\n",
       "    .dataframe thead tr:last-of-type th {\n",
       "        text-align: right;\n",
       "    }\n",
       "</style>\n",
       "<table border=\"1\" class=\"dataframe\">\n",
       "  <thead>\n",
       "    <tr>\n",
       "      <th></th>\n",
       "      <th colspan=\"8\" halign=\"left\">income</th>\n",
       "      <th colspan=\"8\" halign=\"left\">age</th>\n",
       "    </tr>\n",
       "    <tr>\n",
       "      <th></th>\n",
       "      <th>count</th>\n",
       "      <th>mean</th>\n",
       "      <th>std</th>\n",
       "      <th>min</th>\n",
       "      <th>25%</th>\n",
       "      <th>50%</th>\n",
       "      <th>75%</th>\n",
       "      <th>max</th>\n",
       "      <th>count</th>\n",
       "      <th>mean</th>\n",
       "      <th>std</th>\n",
       "      <th>min</th>\n",
       "      <th>25%</th>\n",
       "      <th>50%</th>\n",
       "      <th>75%</th>\n",
       "      <th>max</th>\n",
       "    </tr>\n",
       "    <tr>\n",
       "      <th>sex</th>\n",
       "      <th></th>\n",
       "      <th></th>\n",
       "      <th></th>\n",
       "      <th></th>\n",
       "      <th></th>\n",
       "      <th></th>\n",
       "      <th></th>\n",
       "      <th></th>\n",
       "      <th></th>\n",
       "      <th></th>\n",
       "      <th></th>\n",
       "      <th></th>\n",
       "      <th></th>\n",
       "      <th></th>\n",
       "      <th></th>\n",
       "      <th></th>\n",
       "    </tr>\n",
       "  </thead>\n",
       "  <tbody>\n",
       "    <tr>\n",
       "      <th>F</th>\n",
       "      <td>5.0</td>\n",
       "      <td>8600.000000</td>\n",
       "      <td>2880.972058</td>\n",
       "      <td>5000.0</td>\n",
       "      <td>7000.0</td>\n",
       "      <td>8000.0</td>\n",
       "      <td>11000.0</td>\n",
       "      <td>12000.0</td>\n",
       "      <td>5.0</td>\n",
       "      <td>28.400000</td>\n",
       "      <td>6.268971</td>\n",
       "      <td>18.0</td>\n",
       "      <td>27.00</td>\n",
       "      <td>32.0</td>\n",
       "      <td>32.0</td>\n",
       "      <td>33.0</td>\n",
       "    </tr>\n",
       "    <tr>\n",
       "      <th>M</th>\n",
       "      <td>6.0</td>\n",
       "      <td>5333.333333</td>\n",
       "      <td>3829.708431</td>\n",
       "      <td>1000.0</td>\n",
       "      <td>2250.0</td>\n",
       "      <td>5000.0</td>\n",
       "      <td>8500.0</td>\n",
       "      <td>10000.0</td>\n",
       "      <td>6.0</td>\n",
       "      <td>37.333333</td>\n",
       "      <td>6.947422</td>\n",
       "      <td>28.0</td>\n",
       "      <td>32.75</td>\n",
       "      <td>37.0</td>\n",
       "      <td>43.5</td>\n",
       "      <td>45.0</td>\n",
       "    </tr>\n",
       "  </tbody>\n",
       "</table>\n",
       "</div>"
      ],
      "text/plain": [
       "    income                                                             \\\n",
       "     count         mean          std     min     25%     50%      75%   \n",
       "sex                                                                     \n",
       "F      5.0  8600.000000  2880.972058  5000.0  7000.0  8000.0  11000.0   \n",
       "M      6.0  5333.333333  3829.708431  1000.0  2250.0  5000.0   8500.0   \n",
       "\n",
       "               age                                                      \n",
       "         max count       mean       std   min    25%   50%   75%   max  \n",
       "sex                                                                     \n",
       "F    12000.0   5.0  28.400000  6.268971  18.0  27.00  32.0  32.0  33.0  \n",
       "M    10000.0   6.0  37.333333  6.947422  28.0  32.75  37.0  43.5  45.0  "
      ]
     },
     "execution_count": 103,
     "metadata": {},
     "output_type": "execute_result"
    }
   ],
   "source": [
    "df.groupby('sex').describe()\n",
    "#import seaborn as sns\n",
    "\n",
    "#sns.set()\n",
    "#sns.heatmap(df.groupby('sex').describe())"
   ]
  },
  {
   "cell_type": "markdown",
   "metadata": {},
   "source": [
    "Per ogni variabile numerica (age e income) sono state calcolate diverse statistiche. A volte può essere più chiaro visualizzare il dataframe trasposto."
   ]
  },
  {
   "cell_type": "code",
   "execution_count": 104,
   "metadata": {},
   "outputs": [
    {
     "data": {
      "text/html": [
       "<div>\n",
       "<style scoped>\n",
       "    .dataframe tbody tr th:only-of-type {\n",
       "        vertical-align: middle;\n",
       "    }\n",
       "\n",
       "    .dataframe tbody tr th {\n",
       "        vertical-align: top;\n",
       "    }\n",
       "\n",
       "    .dataframe thead th {\n",
       "        text-align: right;\n",
       "    }\n",
       "</style>\n",
       "<table border=\"1\" class=\"dataframe\">\n",
       "  <thead>\n",
       "    <tr style=\"text-align: right;\">\n",
       "      <th></th>\n",
       "      <th>sex</th>\n",
       "      <th>F</th>\n",
       "      <th>M</th>\n",
       "    </tr>\n",
       "  </thead>\n",
       "  <tbody>\n",
       "    <tr>\n",
       "      <th rowspan=\"8\" valign=\"top\">income</th>\n",
       "      <th>count</th>\n",
       "      <td>5.000000</td>\n",
       "      <td>6.000000</td>\n",
       "    </tr>\n",
       "    <tr>\n",
       "      <th>mean</th>\n",
       "      <td>8600.000000</td>\n",
       "      <td>5333.333333</td>\n",
       "    </tr>\n",
       "    <tr>\n",
       "      <th>std</th>\n",
       "      <td>2880.972058</td>\n",
       "      <td>3829.708431</td>\n",
       "    </tr>\n",
       "    <tr>\n",
       "      <th>min</th>\n",
       "      <td>5000.000000</td>\n",
       "      <td>1000.000000</td>\n",
       "    </tr>\n",
       "    <tr>\n",
       "      <th>25%</th>\n",
       "      <td>7000.000000</td>\n",
       "      <td>2250.000000</td>\n",
       "    </tr>\n",
       "    <tr>\n",
       "      <th>50%</th>\n",
       "      <td>8000.000000</td>\n",
       "      <td>5000.000000</td>\n",
       "    </tr>\n",
       "    <tr>\n",
       "      <th>75%</th>\n",
       "      <td>11000.000000</td>\n",
       "      <td>8500.000000</td>\n",
       "    </tr>\n",
       "    <tr>\n",
       "      <th>max</th>\n",
       "      <td>12000.000000</td>\n",
       "      <td>10000.000000</td>\n",
       "    </tr>\n",
       "    <tr>\n",
       "      <th rowspan=\"8\" valign=\"top\">age</th>\n",
       "      <th>count</th>\n",
       "      <td>5.000000</td>\n",
       "      <td>6.000000</td>\n",
       "    </tr>\n",
       "    <tr>\n",
       "      <th>mean</th>\n",
       "      <td>28.400000</td>\n",
       "      <td>37.333333</td>\n",
       "    </tr>\n",
       "    <tr>\n",
       "      <th>std</th>\n",
       "      <td>6.268971</td>\n",
       "      <td>6.947422</td>\n",
       "    </tr>\n",
       "    <tr>\n",
       "      <th>min</th>\n",
       "      <td>18.000000</td>\n",
       "      <td>28.000000</td>\n",
       "    </tr>\n",
       "    <tr>\n",
       "      <th>25%</th>\n",
       "      <td>27.000000</td>\n",
       "      <td>32.750000</td>\n",
       "    </tr>\n",
       "    <tr>\n",
       "      <th>50%</th>\n",
       "      <td>32.000000</td>\n",
       "      <td>37.000000</td>\n",
       "    </tr>\n",
       "    <tr>\n",
       "      <th>75%</th>\n",
       "      <td>32.000000</td>\n",
       "      <td>43.500000</td>\n",
       "    </tr>\n",
       "    <tr>\n",
       "      <th>max</th>\n",
       "      <td>33.000000</td>\n",
       "      <td>45.000000</td>\n",
       "    </tr>\n",
       "  </tbody>\n",
       "</table>\n",
       "</div>"
      ],
      "text/plain": [
       "sex                      F             M\n",
       "income count      5.000000      6.000000\n",
       "       mean    8600.000000   5333.333333\n",
       "       std     2880.972058   3829.708431\n",
       "       min     5000.000000   1000.000000\n",
       "       25%     7000.000000   2250.000000\n",
       "       50%     8000.000000   5000.000000\n",
       "       75%    11000.000000   8500.000000\n",
       "       max    12000.000000  10000.000000\n",
       "age    count      5.000000      6.000000\n",
       "       mean      28.400000     37.333333\n",
       "       std        6.268971      6.947422\n",
       "       min       18.000000     28.000000\n",
       "       25%       27.000000     32.750000\n",
       "       50%       32.000000     37.000000\n",
       "       75%       32.000000     43.500000\n",
       "       max       33.000000     45.000000"
      ]
     },
     "execution_count": 104,
     "metadata": {},
     "output_type": "execute_result"
    }
   ],
   "source": [
    "df.groupby('sex').describe().transpose() #equivalente a df.groupby('sex').describe().T"
   ]
  },
  {
   "cell_type": "markdown",
   "metadata": {},
   "source": [
    "Questa vista ci permette di comparare diverse statistiche delle due variabili <i>age</i> e <i>income</i> per <i>M</i> e <i>F</i> ."
   ]
  },
  {
   "cell_type": "markdown",
   "metadata": {},
   "source": [
    "#### 4.2.6 Crosstab"
   ]
  },
  {
   "cell_type": "markdown",
   "metadata": {},
   "source": [
    "Le <b>Crosstab</b> permettono di descrivere le relazioni tra due o più variabili <i>categoriche</i>. Una volta specificata una coppia di variabili categoriche, le righe e colonne della crosstab (nota anche come \"tabella di contingenza\") enumerano indipendentemente tutti i valori univoci delle due variabili categoriche, così che ogni cella della crosstab identifica una determinata coppia di volari. All'interno delle celle vengono dunque riportati i numeri di elementi per i quali le due variabili categoriche assumono una determinata coppia di valori."
   ]
  },
  {
   "cell_type": "markdown",
   "metadata": {},
   "source": [
    "Supponiamo di voler studiare le relazioni tra <i>company</i> e <i>sex</i>."
   ]
  },
  {
   "cell_type": "code",
   "execution_count": 107,
   "metadata": {},
   "outputs": [
    {
     "data": {
      "text/html": [
       "<div>\n",
       "<style scoped>\n",
       "    .dataframe tbody tr th:only-of-type {\n",
       "        vertical-align: middle;\n",
       "    }\n",
       "\n",
       "    .dataframe tbody tr th {\n",
       "        vertical-align: top;\n",
       "    }\n",
       "\n",
       "    .dataframe thead th {\n",
       "        text-align: right;\n",
       "    }\n",
       "</style>\n",
       "<table border=\"1\" class=\"dataframe\">\n",
       "  <thead>\n",
       "    <tr style=\"text-align: right;\">\n",
       "      <th>company</th>\n",
       "      <th>CDX</th>\n",
       "      <th>FLZ</th>\n",
       "      <th>PTX</th>\n",
       "    </tr>\n",
       "    <tr>\n",
       "      <th>sex</th>\n",
       "      <th></th>\n",
       "      <th></th>\n",
       "      <th></th>\n",
       "    </tr>\n",
       "  </thead>\n",
       "  <tbody>\n",
       "    <tr>\n",
       "      <th>F</th>\n",
       "      <td>1</td>\n",
       "      <td>3</td>\n",
       "      <td>1</td>\n",
       "    </tr>\n",
       "    <tr>\n",
       "      <th>M</th>\n",
       "      <td>3</td>\n",
       "      <td>1</td>\n",
       "      <td>2</td>\n",
       "    </tr>\n",
       "  </tbody>\n",
       "</table>\n",
       "</div>"
      ],
      "text/plain": [
       "company  CDX  FLZ  PTX\n",
       "sex                   \n",
       "F          1    3    1\n",
       "M          3    1    2"
      ]
     },
     "execution_count": 107,
     "metadata": {},
     "output_type": "execute_result"
    }
   ],
   "source": [
    "pd.crosstab(df['sex'],df['company'])"
   ]
  },
  {
   "cell_type": "code",
   "execution_count": 108,
   "metadata": {},
   "outputs": [
    {
     "data": {
      "text/html": [
       "<div>\n",
       "<style scoped>\n",
       "    .dataframe tbody tr th:only-of-type {\n",
       "        vertical-align: middle;\n",
       "    }\n",
       "\n",
       "    .dataframe tbody tr th {\n",
       "        vertical-align: top;\n",
       "    }\n",
       "\n",
       "    .dataframe thead th {\n",
       "        text-align: right;\n",
       "    }\n",
       "</style>\n",
       "<table border=\"1\" class=\"dataframe\">\n",
       "  <thead>\n",
       "    <tr style=\"text-align: right;\">\n",
       "      <th>age</th>\n",
       "      <th>18</th>\n",
       "      <th>27</th>\n",
       "      <th>28</th>\n",
       "      <th>32</th>\n",
       "      <th>33</th>\n",
       "      <th>35</th>\n",
       "      <th>39</th>\n",
       "      <th>45</th>\n",
       "    </tr>\n",
       "    <tr>\n",
       "      <th>sex</th>\n",
       "      <th></th>\n",
       "      <th></th>\n",
       "      <th></th>\n",
       "      <th></th>\n",
       "      <th></th>\n",
       "      <th></th>\n",
       "      <th></th>\n",
       "      <th></th>\n",
       "    </tr>\n",
       "  </thead>\n",
       "  <tbody>\n",
       "    <tr>\n",
       "      <th>F</th>\n",
       "      <td>1</td>\n",
       "      <td>1</td>\n",
       "      <td>0</td>\n",
       "      <td>2</td>\n",
       "      <td>1</td>\n",
       "      <td>0</td>\n",
       "      <td>0</td>\n",
       "      <td>0</td>\n",
       "    </tr>\n",
       "    <tr>\n",
       "      <th>M</th>\n",
       "      <td>0</td>\n",
       "      <td>0</td>\n",
       "      <td>1</td>\n",
       "      <td>1</td>\n",
       "      <td>0</td>\n",
       "      <td>1</td>\n",
       "      <td>1</td>\n",
       "      <td>2</td>\n",
       "    </tr>\n",
       "  </tbody>\n",
       "</table>\n",
       "</div>"
      ],
      "text/plain": [
       "age  18  27  28  32  33  35  39  45\n",
       "sex                                \n",
       "F     1   1   0   2   1   0   0   0\n",
       "M     0   0   1   1   0   1   1   2"
      ]
     },
     "execution_count": 108,
     "metadata": {},
     "output_type": "execute_result"
    }
   ],
   "source": [
    "pd.crosstab(df['sex'],df['age'])"
   ]
  },
  {
   "cell_type": "code",
   "execution_count": 111,
   "metadata": {},
   "outputs": [
    {
     "data": {
      "text/html": [
       "<div>\n",
       "<style scoped>\n",
       "    .dataframe tbody tr th:only-of-type {\n",
       "        vertical-align: middle;\n",
       "    }\n",
       "\n",
       "    .dataframe tbody tr th {\n",
       "        vertical-align: top;\n",
       "    }\n",
       "\n",
       "    .dataframe thead th {\n",
       "        text-align: right;\n",
       "    }\n",
       "</style>\n",
       "<table border=\"1\" class=\"dataframe\">\n",
       "  <thead>\n",
       "    <tr style=\"text-align: right;\">\n",
       "      <th>income</th>\n",
       "      <th>1000</th>\n",
       "      <th>2000</th>\n",
       "      <th>3000</th>\n",
       "      <th>5000</th>\n",
       "      <th>7000</th>\n",
       "      <th>8000</th>\n",
       "      <th>9000</th>\n",
       "      <th>10000</th>\n",
       "      <th>11000</th>\n",
       "      <th>12000</th>\n",
       "    </tr>\n",
       "    <tr>\n",
       "      <th>sex</th>\n",
       "      <th></th>\n",
       "      <th></th>\n",
       "      <th></th>\n",
       "      <th></th>\n",
       "      <th></th>\n",
       "      <th></th>\n",
       "      <th></th>\n",
       "      <th></th>\n",
       "      <th></th>\n",
       "      <th></th>\n",
       "    </tr>\n",
       "  </thead>\n",
       "  <tbody>\n",
       "    <tr>\n",
       "      <th>F</th>\n",
       "      <td>0.000000</td>\n",
       "      <td>0.000000</td>\n",
       "      <td>0.000000</td>\n",
       "      <td>0.090909</td>\n",
       "      <td>0.090909</td>\n",
       "      <td>0.090909</td>\n",
       "      <td>0.000000</td>\n",
       "      <td>0.000000</td>\n",
       "      <td>0.090909</td>\n",
       "      <td>0.090909</td>\n",
       "    </tr>\n",
       "    <tr>\n",
       "      <th>M</th>\n",
       "      <td>0.090909</td>\n",
       "      <td>0.090909</td>\n",
       "      <td>0.090909</td>\n",
       "      <td>0.000000</td>\n",
       "      <td>0.090909</td>\n",
       "      <td>0.000000</td>\n",
       "      <td>0.090909</td>\n",
       "      <td>0.090909</td>\n",
       "      <td>0.000000</td>\n",
       "      <td>0.000000</td>\n",
       "    </tr>\n",
       "  </tbody>\n",
       "</table>\n",
       "</div>"
      ],
      "text/plain": [
       "income     1000      2000      3000      5000      7000      8000      9000   \\\n",
       "sex                                                                            \n",
       "F       0.000000  0.000000  0.000000  0.090909  0.090909  0.090909  0.000000   \n",
       "M       0.090909  0.090909  0.090909  0.000000  0.090909  0.000000  0.090909   \n",
       "\n",
       "income     10000     11000     12000  \n",
       "sex                                   \n",
       "F       0.000000  0.090909  0.090909  \n",
       "M       0.090909  0.000000  0.000000  "
      ]
     },
     "execution_count": 111,
     "metadata": {},
     "output_type": "execute_result"
    }
   ],
   "source": [
    "pd.crosstab(df['sex'],df['income'],normalize=True)"
   ]
  },
  {
   "cell_type": "markdown",
   "metadata": {},
   "source": [
    "La tabella sopra ci dice che nella compagnia CDX, un soggetto è di sesso femminile, mentre tre soggetti sono di sesso maschile. Allo stesso modo, un soggetto della compagnia FLZ è di sesso maschile, mentre tre soggetti sono di sesso femminile. È possibile ottenere delle frequenze invece che dei conteggi mediante <code>normalize=True</code>"
   ]
  },
  {
   "cell_type": "code",
   "execution_count": 110,
   "metadata": {},
   "outputs": [
    {
     "data": {
      "text/html": [
       "<div>\n",
       "<style scoped>\n",
       "    .dataframe tbody tr th:only-of-type {\n",
       "        vertical-align: middle;\n",
       "    }\n",
       "\n",
       "    .dataframe tbody tr th {\n",
       "        vertical-align: top;\n",
       "    }\n",
       "\n",
       "    .dataframe thead th {\n",
       "        text-align: right;\n",
       "    }\n",
       "</style>\n",
       "<table border=\"1\" class=\"dataframe\">\n",
       "  <thead>\n",
       "    <tr style=\"text-align: right;\">\n",
       "      <th>company</th>\n",
       "      <th>CDX</th>\n",
       "      <th>FLZ</th>\n",
       "      <th>PTX</th>\n",
       "    </tr>\n",
       "    <tr>\n",
       "      <th>sex</th>\n",
       "      <th></th>\n",
       "      <th></th>\n",
       "      <th></th>\n",
       "    </tr>\n",
       "  </thead>\n",
       "  <tbody>\n",
       "    <tr>\n",
       "      <th>F</th>\n",
       "      <td>0.090909</td>\n",
       "      <td>0.272727</td>\n",
       "      <td>0.090909</td>\n",
       "    </tr>\n",
       "    <tr>\n",
       "      <th>M</th>\n",
       "      <td>0.272727</td>\n",
       "      <td>0.090909</td>\n",
       "      <td>0.181818</td>\n",
       "    </tr>\n",
       "  </tbody>\n",
       "</table>\n",
       "</div>"
      ],
      "text/plain": [
       "company       CDX       FLZ       PTX\n",
       "sex                                  \n",
       "F        0.090909  0.272727  0.090909\n",
       "M        0.272727  0.090909  0.181818"
      ]
     },
     "execution_count": 110,
     "metadata": {},
     "output_type": "execute_result"
    }
   ],
   "source": [
    "pd.crosstab(df['sex'],df['company'], normalize=True)"
   ]
  },
  {
   "cell_type": "markdown",
   "metadata": {},
   "source": [
    "Alternativamente, possiamo normalizzare la tabella solo per righe o solo per colonne specificando <code>normalize='index'</code> o\n",
    "<code>normalize='columns'</code>."
   ]
  },
  {
   "cell_type": "code",
   "execution_count": 113,
   "metadata": {},
   "outputs": [
    {
     "data": {
      "text/html": [
       "<div>\n",
       "<style scoped>\n",
       "    .dataframe tbody tr th:only-of-type {\n",
       "        vertical-align: middle;\n",
       "    }\n",
       "\n",
       "    .dataframe tbody tr th {\n",
       "        vertical-align: top;\n",
       "    }\n",
       "\n",
       "    .dataframe thead th {\n",
       "        text-align: right;\n",
       "    }\n",
       "</style>\n",
       "<table border=\"1\" class=\"dataframe\">\n",
       "  <thead>\n",
       "    <tr style=\"text-align: right;\">\n",
       "      <th>company</th>\n",
       "      <th>CDX</th>\n",
       "      <th>FLZ</th>\n",
       "      <th>PTX</th>\n",
       "    </tr>\n",
       "    <tr>\n",
       "      <th>sex</th>\n",
       "      <th></th>\n",
       "      <th></th>\n",
       "      <th></th>\n",
       "    </tr>\n",
       "  </thead>\n",
       "  <tbody>\n",
       "    <tr>\n",
       "      <th>F</th>\n",
       "      <td>0.2</td>\n",
       "      <td>0.600000</td>\n",
       "      <td>0.200000</td>\n",
       "    </tr>\n",
       "    <tr>\n",
       "      <th>M</th>\n",
       "      <td>0.5</td>\n",
       "      <td>0.166667</td>\n",
       "      <td>0.333333</td>\n",
       "    </tr>\n",
       "  </tbody>\n",
       "</table>\n",
       "</div>"
      ],
      "text/plain": [
       "company  CDX       FLZ       PTX\n",
       "sex                             \n",
       "F        0.2  0.600000  0.200000\n",
       "M        0.5  0.166667  0.333333"
      ]
     },
     "execution_count": 113,
     "metadata": {},
     "output_type": "execute_result"
    }
   ],
   "source": [
    "pd.crosstab(df['sex'],df['company'], normalize='index') ## per righe normalizza"
   ]
  },
  {
   "cell_type": "markdown",
   "metadata": {},
   "source": [
    "Questa tabella riporta le percentuali di persone, suddivise per sesso, che lavorano nelle tre diverse compagnie per ciascun sesso (ad es. il 20% delle donne lavora presso CDX). Analogamente possiamo normalizzare per colonne."
   ]
  },
  {
   "cell_type": "code",
   "execution_count": 115,
   "metadata": {},
   "outputs": [
    {
     "data": {
      "text/plain": [
       "<matplotlib.axes._subplots.AxesSubplot at 0x21a9b6d6b20>"
      ]
     },
     "execution_count": 115,
     "metadata": {},
     "output_type": "execute_result"
    },
    {
     "data": {
      "image/png": "[encoded data removed]",
      "text/plain": [
       "<Figure size 432x288 with 2 Axes>"
      ]
     },
     "metadata": {},
     "output_type": "display_data"
    }
   ],
   "source": [
    "cc=pd.crosstab(df['sex'],df['company'], normalize='columns')\n",
    "sns.heatmap(cc)"
   ]
  },
  {
   "cell_type": "markdown",
   "metadata": {},
   "source": [
    "Questa tabella riporta le percentuali di uomini e donne che lavorano in ciascuna compagnia (per es. il 25% dei lavoratori di CDX è donna)."
   ]
  },
  {
   "cell_type": "markdown",
   "metadata": {},
   "source": [
    "Se vogliamo studiare le relazioni tra più di due variabili categoriche possiamo specificare una lista di colonne quando costruiamo la\n",
    "crosstab."
   ]
  },
  {
   "cell_type": "code",
   "execution_count": 124,
   "metadata": {},
   "outputs": [
    {
     "data": {
      "text/html": [
       "<div>\n",
       "<style scoped>\n",
       "    .dataframe tbody tr th:only-of-type {\n",
       "        vertical-align: middle;\n",
       "    }\n",
       "\n",
       "    .dataframe tbody tr th {\n",
       "        vertical-align: top;\n",
       "    }\n",
       "\n",
       "    .dataframe thead tr th {\n",
       "        text-align: left;\n",
       "    }\n",
       "\n",
       "    .dataframe thead tr:last-of-type th {\n",
       "        text-align: right;\n",
       "    }\n",
       "</style>\n",
       "<table border=\"1\" class=\"dataframe\">\n",
       "  <thead>\n",
       "    <tr>\n",
       "      <th></th>\n",
       "      <th>age</th>\n",
       "      <th>18</th>\n",
       "      <th>27</th>\n",
       "      <th>28</th>\n",
       "      <th colspan=\"2\" halign=\"left\">32</th>\n",
       "      <th>33</th>\n",
       "      <th>35</th>\n",
       "      <th>39</th>\n",
       "      <th colspan=\"2\" halign=\"left\">45</th>\n",
       "    </tr>\n",
       "    <tr>\n",
       "      <th></th>\n",
       "      <th>company</th>\n",
       "      <th>CDX</th>\n",
       "      <th>FLZ</th>\n",
       "      <th>PTX</th>\n",
       "      <th>CDX</th>\n",
       "      <th>FLZ</th>\n",
       "      <th>PTX</th>\n",
       "      <th>CDX</th>\n",
       "      <th>FLZ</th>\n",
       "      <th>CDX</th>\n",
       "      <th>PTX</th>\n",
       "    </tr>\n",
       "    <tr>\n",
       "      <th>sex</th>\n",
       "      <th>income</th>\n",
       "      <th></th>\n",
       "      <th></th>\n",
       "      <th></th>\n",
       "      <th></th>\n",
       "      <th></th>\n",
       "      <th></th>\n",
       "      <th></th>\n",
       "      <th></th>\n",
       "      <th></th>\n",
       "      <th></th>\n",
       "    </tr>\n",
       "  </thead>\n",
       "  <tbody>\n",
       "    <tr>\n",
       "      <th rowspan=\"5\" valign=\"top\">F</th>\n",
       "      <th>5000</th>\n",
       "      <td>1.0</td>\n",
       "      <td>0.0</td>\n",
       "      <td>0.0</td>\n",
       "      <td>0.0</td>\n",
       "      <td>0.0</td>\n",
       "      <td>0.0</td>\n",
       "      <td>0.0</td>\n",
       "      <td>0.0</td>\n",
       "      <td>0.0</td>\n",
       "      <td>0.0</td>\n",
       "    </tr>\n",
       "    <tr>\n",
       "      <th>7000</th>\n",
       "      <td>0.0</td>\n",
       "      <td>1.0</td>\n",
       "      <td>0.0</td>\n",
       "      <td>0.0</td>\n",
       "      <td>0.0</td>\n",
       "      <td>0.0</td>\n",
       "      <td>0.0</td>\n",
       "      <td>0.0</td>\n",
       "      <td>0.0</td>\n",
       "      <td>0.0</td>\n",
       "    </tr>\n",
       "    <tr>\n",
       "      <th>8000</th>\n",
       "      <td>0.0</td>\n",
       "      <td>0.0</td>\n",
       "      <td>0.0</td>\n",
       "      <td>0.0</td>\n",
       "      <td>0.5</td>\n",
       "      <td>0.0</td>\n",
       "      <td>0.0</td>\n",
       "      <td>0.0</td>\n",
       "      <td>0.0</td>\n",
       "      <td>0.0</td>\n",
       "    </tr>\n",
       "    <tr>\n",
       "      <th>11000</th>\n",
       "      <td>0.0</td>\n",
       "      <td>0.0</td>\n",
       "      <td>0.0</td>\n",
       "      <td>0.0</td>\n",
       "      <td>0.5</td>\n",
       "      <td>0.0</td>\n",
       "      <td>0.0</td>\n",
       "      <td>0.0</td>\n",
       "      <td>0.0</td>\n",
       "      <td>0.0</td>\n",
       "    </tr>\n",
       "    <tr>\n",
       "      <th>12000</th>\n",
       "      <td>0.0</td>\n",
       "      <td>0.0</td>\n",
       "      <td>0.0</td>\n",
       "      <td>0.0</td>\n",
       "      <td>0.0</td>\n",
       "      <td>1.0</td>\n",
       "      <td>0.0</td>\n",
       "      <td>0.0</td>\n",
       "      <td>0.0</td>\n",
       "      <td>0.0</td>\n",
       "    </tr>\n",
       "    <tr>\n",
       "      <th rowspan=\"6\" valign=\"top\">M</th>\n",
       "      <th>1000</th>\n",
       "      <td>0.0</td>\n",
       "      <td>0.0</td>\n",
       "      <td>1.0</td>\n",
       "      <td>0.0</td>\n",
       "      <td>0.0</td>\n",
       "      <td>0.0</td>\n",
       "      <td>0.0</td>\n",
       "      <td>0.0</td>\n",
       "      <td>0.0</td>\n",
       "      <td>0.0</td>\n",
       "    </tr>\n",
       "    <tr>\n",
       "      <th>2000</th>\n",
       "      <td>0.0</td>\n",
       "      <td>0.0</td>\n",
       "      <td>0.0</td>\n",
       "      <td>0.0</td>\n",
       "      <td>0.0</td>\n",
       "      <td>0.0</td>\n",
       "      <td>0.0</td>\n",
       "      <td>0.0</td>\n",
       "      <td>1.0</td>\n",
       "      <td>0.0</td>\n",
       "    </tr>\n",
       "    <tr>\n",
       "      <th>3000</th>\n",
       "      <td>0.0</td>\n",
       "      <td>0.0</td>\n",
       "      <td>0.0</td>\n",
       "      <td>0.0</td>\n",
       "      <td>0.0</td>\n",
       "      <td>0.0</td>\n",
       "      <td>1.0</td>\n",
       "      <td>0.0</td>\n",
       "      <td>0.0</td>\n",
       "      <td>0.0</td>\n",
       "    </tr>\n",
       "    <tr>\n",
       "      <th>7000</th>\n",
       "      <td>0.0</td>\n",
       "      <td>0.0</td>\n",
       "      <td>0.0</td>\n",
       "      <td>0.0</td>\n",
       "      <td>0.0</td>\n",
       "      <td>0.0</td>\n",
       "      <td>0.0</td>\n",
       "      <td>1.0</td>\n",
       "      <td>0.0</td>\n",
       "      <td>0.0</td>\n",
       "    </tr>\n",
       "    <tr>\n",
       "      <th>9000</th>\n",
       "      <td>0.0</td>\n",
       "      <td>0.0</td>\n",
       "      <td>0.0</td>\n",
       "      <td>0.0</td>\n",
       "      <td>0.0</td>\n",
       "      <td>0.0</td>\n",
       "      <td>0.0</td>\n",
       "      <td>0.0</td>\n",
       "      <td>0.0</td>\n",
       "      <td>1.0</td>\n",
       "    </tr>\n",
       "    <tr>\n",
       "      <th>10000</th>\n",
       "      <td>0.0</td>\n",
       "      <td>0.0</td>\n",
       "      <td>0.0</td>\n",
       "      <td>1.0</td>\n",
       "      <td>0.0</td>\n",
       "      <td>0.0</td>\n",
       "      <td>0.0</td>\n",
       "      <td>0.0</td>\n",
       "      <td>0.0</td>\n",
       "      <td>0.0</td>\n",
       "    </tr>\n",
       "  </tbody>\n",
       "</table>\n",
       "</div>"
      ],
      "text/plain": [
       "age          18   27   28   32        33   35   39   45     \n",
       "company     CDX  FLZ  PTX  CDX  FLZ  PTX  CDX  FLZ  CDX  PTX\n",
       "sex income                                                  \n",
       "F   5000    1.0  0.0  0.0  0.0  0.0  0.0  0.0  0.0  0.0  0.0\n",
       "    7000    0.0  1.0  0.0  0.0  0.0  0.0  0.0  0.0  0.0  0.0\n",
       "    8000    0.0  0.0  0.0  0.0  0.5  0.0  0.0  0.0  0.0  0.0\n",
       "    11000   0.0  0.0  0.0  0.0  0.5  0.0  0.0  0.0  0.0  0.0\n",
       "    12000   0.0  0.0  0.0  0.0  0.0  1.0  0.0  0.0  0.0  0.0\n",
       "M   1000    0.0  0.0  1.0  0.0  0.0  0.0  0.0  0.0  0.0  0.0\n",
       "    2000    0.0  0.0  0.0  0.0  0.0  0.0  0.0  0.0  1.0  0.0\n",
       "    3000    0.0  0.0  0.0  0.0  0.0  0.0  1.0  0.0  0.0  0.0\n",
       "    7000    0.0  0.0  0.0  0.0  0.0  0.0  0.0  1.0  0.0  0.0\n",
       "    9000    0.0  0.0  0.0  0.0  0.0  0.0  0.0  0.0  0.0  1.0\n",
       "    10000   0.0  0.0  0.0  1.0  0.0  0.0  0.0  0.0  0.0  0.0"
      ]
     },
     "execution_count": 124,
     "metadata": {},
     "output_type": "execute_result"
    }
   ],
   "source": [
    "pd.crosstab([df['sex'],df['income']],[df['age'],df['company']],normalize='columns')\n",
    "#sns.heatmap(cg)"
   ]
  },
  {
   "cell_type": "markdown",
   "metadata": {},
   "source": [
    "Ogni cella di questa crosstab conta il numero di osservazioni che riportano una determinata terna di valori (ad es. un soggetto è di sesso maschile, lavora per PTX e 28 ha anni, mentre due soggetti sono di sesso femminile, lavorano per FLZ e hanno 32 anni).\n",
    "Oltre a riportare conteggi e frequenze una crosstab permette di calcolare statistiche di terze variabili considerate non categoriche.\n",
    "Supponiamo di voler conoscere l'età media delle persone di un dato sesso in una data azienda. Possiamo costruire una\n",
    "crosstab specificando una nuova variabile (age) per <code>values</code>. Dato che di questa variabile bisognerà calcolare un qualche valore\n",
    "aggregato, dobbiamo anche specificare <code>aggfunc</code> per esempio pari a <code>mean</code>."
   ]
  },
  {
   "cell_type": "code",
   "execution_count": 126,
   "metadata": {},
   "outputs": [
    {
     "data": {
      "text/html": [
       "<div>\n",
       "<style scoped>\n",
       "    .dataframe tbody tr th:only-of-type {\n",
       "        vertical-align: middle;\n",
       "    }\n",
       "\n",
       "    .dataframe tbody tr th {\n",
       "        vertical-align: top;\n",
       "    }\n",
       "\n",
       "    .dataframe thead th {\n",
       "        text-align: right;\n",
       "    }\n",
       "</style>\n",
       "<table border=\"1\" class=\"dataframe\">\n",
       "  <thead>\n",
       "    <tr style=\"text-align: right;\">\n",
       "      <th>company</th>\n",
       "      <th>CDX</th>\n",
       "      <th>FLZ</th>\n",
       "      <th>PTX</th>\n",
       "    </tr>\n",
       "    <tr>\n",
       "      <th>sex</th>\n",
       "      <th></th>\n",
       "      <th></th>\n",
       "      <th></th>\n",
       "    </tr>\n",
       "  </thead>\n",
       "  <tbody>\n",
       "    <tr>\n",
       "      <th>F</th>\n",
       "      <td>18</td>\n",
       "      <td>91</td>\n",
       "      <td>33</td>\n",
       "    </tr>\n",
       "    <tr>\n",
       "      <th>M</th>\n",
       "      <td>112</td>\n",
       "      <td>39</td>\n",
       "      <td>73</td>\n",
       "    </tr>\n",
       "  </tbody>\n",
       "</table>\n",
       "</div>"
      ],
      "text/plain": [
       "company  CDX  FLZ  PTX\n",
       "sex                   \n",
       "F         18   91   33\n",
       "M        112   39   73"
      ]
     },
     "execution_count": 126,
     "metadata": {},
     "output_type": "execute_result"
    }
   ],
   "source": [
    "pd.crosstab(df['sex'],df['company'], values=df['age'], aggfunc='sum')"
   ]
  },
  {
   "cell_type": "markdown",
   "metadata": {},
   "source": [
    "La crosstab indica che l'età media delle persone di sesso maschile che lavorano per CDX è di 37,33 anni."
   ]
  },
  {
   "cell_type": "markdown",
   "metadata": {},
   "source": [
    "#### 4.2.7 Manipolazione \"esplicita\" di DataFrame"
   ]
  },
  {
   "cell_type": "markdown",
   "metadata": {},
   "source": [
    "In alcuni casi può essere utile trattare i DataFrame \"esplicitamente\" come matrici di valori. Consideriamo ad esempio il seguente\n",
    "DataFrame:"
   ]
  },
  {
   "cell_type": "code",
   "execution_count": 127,
   "metadata": {},
   "outputs": [
    {
     "data": {
      "text/html": [
       "<div>\n",
       "<style scoped>\n",
       "    .dataframe tbody tr th:only-of-type {\n",
       "        vertical-align: middle;\n",
       "    }\n",
       "\n",
       "    .dataframe tbody tr th {\n",
       "        vertical-align: top;\n",
       "    }\n",
       "\n",
       "    .dataframe thead th {\n",
       "        text-align: right;\n",
       "    }\n",
       "</style>\n",
       "<table border=\"1\" class=\"dataframe\">\n",
       "  <thead>\n",
       "    <tr style=\"text-align: right;\">\n",
       "      <th></th>\n",
       "      <th>Category</th>\n",
       "      <th>NumberOfElements</th>\n",
       "    </tr>\n",
       "  </thead>\n",
       "  <tbody>\n",
       "    <tr>\n",
       "      <th>0</th>\n",
       "      <td>1</td>\n",
       "      <td>3</td>\n",
       "    </tr>\n",
       "    <tr>\n",
       "      <th>1</th>\n",
       "      <td>2</td>\n",
       "      <td>1</td>\n",
       "    </tr>\n",
       "    <tr>\n",
       "      <th>2</th>\n",
       "      <td>3</td>\n",
       "      <td>2</td>\n",
       "    </tr>\n",
       "  </tbody>\n",
       "</table>\n",
       "</div>"
      ],
      "text/plain": [
       "   Category  NumberOfElements\n",
       "0         1                 3\n",
       "1         2                 1\n",
       "2         3                 2"
      ]
     },
     "execution_count": 127,
     "metadata": {},
     "output_type": "execute_result"
    }
   ],
   "source": [
    "df123 = pd.DataFrame({'Category':[1,2,3], 'NumberOfElements':[3,1,2]})\n",
    "df123"
   ]
  },
  {
   "cell_type": "markdown",
   "metadata": {},
   "source": [
    "Supponiamo di voler costruire un nuovo DataFrame che, per ogni riga del dataframe df123, contenga esattamente \"NumberOfElements\"\n",
    "righe con valore di \"NumberOfElements\" pari a uno. Vogliamo in pratica \"espandere\" il DataFrame in questo modo:"
   ]
  },
  {
   "cell_type": "code",
   "execution_count": 128,
   "metadata": {},
   "outputs": [
    {
     "data": {
      "text/html": [
       "<div>\n",
       "<style scoped>\n",
       "    .dataframe tbody tr th:only-of-type {\n",
       "        vertical-align: middle;\n",
       "    }\n",
       "\n",
       "    .dataframe tbody tr th {\n",
       "        vertical-align: top;\n",
       "    }\n",
       "\n",
       "    .dataframe thead th {\n",
       "        text-align: right;\n",
       "    }\n",
       "</style>\n",
       "<table border=\"1\" class=\"dataframe\">\n",
       "  <thead>\n",
       "    <tr style=\"text-align: right;\">\n",
       "      <th></th>\n",
       "      <th>Category</th>\n",
       "      <th>NumberOfElements</th>\n",
       "    </tr>\n",
       "  </thead>\n",
       "  <tbody>\n",
       "    <tr>\n",
       "      <th>0</th>\n",
       "      <td>1</td>\n",
       "      <td>1</td>\n",
       "    </tr>\n",
       "    <tr>\n",
       "      <th>1</th>\n",
       "      <td>1</td>\n",
       "      <td>1</td>\n",
       "    </tr>\n",
       "    <tr>\n",
       "      <th>2</th>\n",
       "      <td>1</td>\n",
       "      <td>1</td>\n",
       "    </tr>\n",
       "    <tr>\n",
       "      <th>3</th>\n",
       "      <td>2</td>\n",
       "      <td>1</td>\n",
       "    </tr>\n",
       "    <tr>\n",
       "      <th>4</th>\n",
       "      <td>3</td>\n",
       "      <td>1</td>\n",
       "    </tr>\n",
       "    <tr>\n",
       "      <th>5</th>\n",
       "      <td>3</td>\n",
       "      <td>1</td>\n",
       "    </tr>\n",
       "  </tbody>\n",
       "</table>\n",
       "</div>"
      ],
      "text/plain": [
       "   Category  NumberOfElements\n",
       "0         1                 1\n",
       "1         1                 1\n",
       "2         1                 1\n",
       "3         2                 1\n",
       "4         3                 1\n",
       "5         3                 1"
      ]
     },
     "execution_count": 128,
     "metadata": {},
     "output_type": "execute_result"
    }
   ],
   "source": [
    "df123 = pd.DataFrame({'Category':[1,1,1,2,3,3], 'NumberOfElements':[1,1,1,1,1,1]})\n",
    "df123"
   ]
  },
  {
   "cell_type": "markdown",
   "metadata": {},
   "source": [
    "Per farlo in maniera automatica, possiamo trattare il DataFrame più \"esplicitamente\" come una matrice di valori iterandone le righe. Il\n",
    "nuovo DataFrame sarà dapprima costruito come una lista di Series (le righe del DataFrame) e poi trasformato in un DataFrame."
   ]
  },
  {
   "cell_type": "code",
   "execution_count": 134,
   "metadata": {},
   "outputs": [
    {
     "data": {
      "text/html": [
       "<div>\n",
       "<style scoped>\n",
       "    .dataframe tbody tr th:only-of-type {\n",
       "        vertical-align: middle;\n",
       "    }\n",
       "\n",
       "    .dataframe tbody tr th {\n",
       "        vertical-align: top;\n",
       "    }\n",
       "\n",
       "    .dataframe thead th {\n",
       "        text-align: right;\n",
       "    }\n",
       "</style>\n",
       "<table border=\"1\" class=\"dataframe\">\n",
       "  <thead>\n",
       "    <tr style=\"text-align: right;\">\n",
       "      <th></th>\n",
       "      <th>Category</th>\n",
       "      <th>NumberOfElements</th>\n",
       "    </tr>\n",
       "  </thead>\n",
       "  <tbody>\n",
       "    <tr>\n",
       "      <th>0</th>\n",
       "      <td>1</td>\n",
       "      <td>1</td>\n",
       "    </tr>\n",
       "    <tr>\n",
       "      <th>1</th>\n",
       "      <td>1</td>\n",
       "      <td>4</td>\n",
       "    </tr>\n",
       "    <tr>\n",
       "      <th>2</th>\n",
       "      <td>1</td>\n",
       "      <td>7</td>\n",
       "    </tr>\n",
       "    <tr>\n",
       "      <th>3</th>\n",
       "      <td>2</td>\n",
       "      <td>10</td>\n",
       "    </tr>\n",
       "    <tr>\n",
       "      <th>4</th>\n",
       "      <td>3</td>\n",
       "      <td>13</td>\n",
       "    </tr>\n",
       "    <tr>\n",
       "      <th>5</th>\n",
       "      <td>3</td>\n",
       "      <td>16</td>\n",
       "    </tr>\n",
       "  </tbody>\n",
       "</table>\n",
       "</div>"
      ],
      "text/plain": [
       "   Category  NumberOfElements\n",
       "0         1                 1\n",
       "1         1                 4\n",
       "2         1                 7\n",
       "3         2                10\n",
       "4         3                13\n",
       "5         3                16"
      ]
     },
     "execution_count": 134,
     "metadata": {},
     "output_type": "execute_result"
    }
   ],
   "source": [
    "newdat = []\n",
    "for index, row in df123.iterrows(): #iterrows permette di iterare le righe di un DataFrame\n",
    "    for j in range(row['NumberOfElements']):\n",
    "        newrow = row.copy()\n",
    "        newrow['NumberOfElements']+=index*3\n",
    "        newdat.append(newrow)\n",
    "pd.DataFrame(newdat)"
   ]
  },
  {
   "cell_type": "markdown",
   "metadata": {},
   "source": [
    "#### 4.2.8 Input/Output"
   ]
  },
  {
   "cell_type": "markdown",
   "metadata": {},
   "source": [
    "Pandas mette a disposizione diverse funzioni per leggere e scrivere dati. Vedremo in particolare le funzioni per leggere e scrivere file <i>csv</i>. I file csv possono essere letti, sia in locale che in remoto, tramite il metodo <code>pd.read_csv</code>."
   ]
  },
  {
   "cell_type": "code",
   "execution_count": null,
   "metadata": {},
   "outputs": [],
   "source": [
    "#https://archive.ics.uci.edu/ml/datasets/iris\n",
    "data=pd.read_csv('https://archive.ics.uci.edu/ml/machine-learning-databases/iris/iris.data')\n",
    "data.head()"
   ]
  },
  {
   "cell_type": "markdown",
   "metadata": {},
   "source": [
    "Se non indichiamo alcun parametro, <code>read_csv</code> considererà la prima riga del csv come header.\n",
    "Se il nostro file csv non contiene un header possiamo utilizzare il parametro <code>header=None</code> per ignorare la prima riga o fornire l'intestazione tramite parametro <code>names=[]</code>."
   ]
  },
  {
   "cell_type": "code",
   "execution_count": null,
   "metadata": {},
   "outputs": [],
   "source": [
    "#hedaer=None: non consideriamo la prima riga come header\n",
    "data=pd.read_csv('https://archive.ics.uci.edu/ml/machine-learning-databases/iris/iris.data', header=None)\n",
    "data.head()"
   ]
  },
  {
   "cell_type": "code",
   "execution_count": null,
   "metadata": {},
   "outputs": [],
   "source": [
    "#names=[lista nomi colonne]: forniamo i nomi delle colonne\n",
    "data=pd.read_csv('https://archive.ics.uci.edu/ml/machine-learning-databases/iris/iris.data',  names=['A','B','C','D','E'])\n",
    "data.head()"
   ]
  },
  {
   "cell_type": "code",
   "execution_count": null,
   "metadata": {},
   "outputs": [],
   "source": [
    "#N.B.: se il numero di colonne indicate non corrisponde al numero di colonne del dataset\n",
    "#alcune colonne verranno \"tagliate\" (nel caso in cui la lista di nomi sia inferiore al numero di colonne del dataset)\n",
    "data=pd.read_csv('https://archive.ics.uci.edu/ml/machine-learning-databases/iris/iris.data',  names=['A','B','C'])\n",
    "data.head()"
   ]
  },
  {
   "cell_type": "code",
   "execution_count": null,
   "metadata": {},
   "outputs": [],
   "source": [
    "#o aggiunte con valore NaN per ogni riga (nel caso in cui la lista passata a \"names\" contenga un numero di colonne maggiore)\n",
    "data=pd.read_csv('https://archive.ics.uci.edu/ml/machine-learning-databases/iris/iris.data',  names=['A','B','C','D','E','F'])\n",
    "data.head()"
   ]
  },
  {
   "cell_type": "code",
   "execution_count": null,
   "metadata": {},
   "outputs": [],
   "source": [
    "#In alternativa possiamo usare il metodo \"coloums\" del dataset appena creato\n",
    "data=pd.read_csv('https://archive.ics.uci.edu/ml/machine-learning-databases/iris/iris.data')\n",
    "data.columns = ['A','B','C','D','E']\n",
    "data.head()"
   ]
  },
  {
   "cell_type": "code",
   "execution_count": null,
   "metadata": {},
   "outputs": [],
   "source": [
    "data=pd.read_csv('https://archive.ics.uci.edu/ml/machine-learning-databases/iris/iris.data',\\\n",
    "                 names=['sepal length in cm', 'sepal width in cm', 'petal length in cm', 'petal width in cm', 'class'])\n",
    "data.head()"
   ]
  },
  {
   "cell_type": "markdown",
   "metadata": {},
   "source": [
    "Possiamo, invece, scrivere un file csv su disco tramite il metodo <code>to_csv</code>."
   ]
  },
  {
   "cell_type": "code",
   "execution_count": null,
   "metadata": {},
   "outputs": [],
   "source": [
    "data.to_csv('file.csv')"
   ]
  },
  {
   "cell_type": "markdown",
   "metadata": {},
   "source": [
    "Leggiamo il file appena scritto."
   ]
  },
  {
   "cell_type": "code",
   "execution_count": null,
   "metadata": {},
   "outputs": [],
   "source": [
    "data=pd.read_csv('file.csv')\n",
    "data.head()"
   ]
  },
  {
   "cell_type": "markdown",
   "metadata": {},
   "source": [
    "Come possiamo notare, la prima colonna contiene i valori degli indici, ma non ha nome poiché viene considerata una colonna a tutti gli effetti quando esportiamo il DataFrame su un file csv."
   ]
  },
  {
   "cell_type": "markdown",
   "metadata": {},
   "source": [
    "Possiamo risolvere il problema in diversi modi:\n",
    "<ul>\n",
    "    <li>Eliminare la colonna \"Unnamed: 0\" dal DataFrame appena caricato (solo se gli indici sono sequenziali)\n",
    "    <li>Specificare di usare la colonna \"Unnamed: 0\" come colonna degli indici durante il caricamento\n",
    "    <li>Salvare il DataFrame senza indici (solo se gli indici sono sequenziali)\n",
    "</ul>"
   ]
  },
  {
   "cell_type": "code",
   "execution_count": null,
   "metadata": {},
   "outputs": [],
   "source": [
    "data=pd.read_csv('file.csv')\n",
    "data.drop('Unnamed: 0', axis=1).head() #eliminiamo la colonna"
   ]
  },
  {
   "cell_type": "code",
   "execution_count": null,
   "metadata": {},
   "outputs": [],
   "source": [
    "#specifichiamo, durante il caricamento, che la colonna \"Unnamed: 0\" contiene gli indidici\n",
    "data=pd.read_csv('file.csv', index_col='Unnamed: 0')\n",
    "data.head() "
   ]
  },
  {
   "cell_type": "code",
   "execution_count": null,
   "metadata": {},
   "outputs": [],
   "source": [
    "data.to_csv('file.csv', index=False) #salviamo il file senza indici\n",
    "pd.read_csv('file.csv').head()"
   ]
  },
  {
   "cell_type": "markdown",
   "metadata": {},
   "source": [
    "## 5 <b>Esempio di manipolazione di dati</b>"
   ]
  },
  {
   "cell_type": "markdown",
   "metadata": {},
   "source": [
    "Spesso un dataset dev'essere opportunamente trattato prima dell'analisi. Vediamo un esempio di come combinare gli strumenti discussi\n",
    "finora per manipolare un dataset reale.<br>\n",
    "Consideriamo il dataset presente su <a href=\"https://www.kaggle.com/lava18/google-play-store-apps\" target=\"_blank\">https://www.kaggle.com/lava18/google-play-store-apps</a> (disponibile per il download)"
   ]
  },
  {
   "cell_type": "code",
   "execution_count": 135,
   "metadata": {},
   "outputs": [
    {
     "data": {
      "text/html": [
       "<div>\n",
       "<style scoped>\n",
       "    .dataframe tbody tr th:only-of-type {\n",
       "        vertical-align: middle;\n",
       "    }\n",
       "\n",
       "    .dataframe tbody tr th {\n",
       "        vertical-align: top;\n",
       "    }\n",
       "\n",
       "    .dataframe thead th {\n",
       "        text-align: right;\n",
       "    }\n",
       "</style>\n",
       "<table border=\"1\" class=\"dataframe\">\n",
       "  <thead>\n",
       "    <tr style=\"text-align: right;\">\n",
       "      <th></th>\n",
       "      <th>App</th>\n",
       "      <th>Category</th>\n",
       "      <th>Rating</th>\n",
       "      <th>Reviews</th>\n",
       "      <th>Size</th>\n",
       "      <th>Installs</th>\n",
       "      <th>Type</th>\n",
       "      <th>Price</th>\n",
       "      <th>Content Rating</th>\n",
       "      <th>Genres</th>\n",
       "      <th>Last Updated</th>\n",
       "      <th>Current Ver</th>\n",
       "      <th>Android Ver</th>\n",
       "    </tr>\n",
       "  </thead>\n",
       "  <tbody>\n",
       "    <tr>\n",
       "      <th>0</th>\n",
       "      <td>Photo Editor &amp; Candy Camera &amp; Grid &amp; ScrapBook</td>\n",
       "      <td>ART_AND_DESIGN</td>\n",
       "      <td>4.1</td>\n",
       "      <td>159</td>\n",
       "      <td>19M</td>\n",
       "      <td>10,000+</td>\n",
       "      <td>Free</td>\n",
       "      <td>0</td>\n",
       "      <td>Everyone</td>\n",
       "      <td>Art &amp; Design</td>\n",
       "      <td>January 7, 2018</td>\n",
       "      <td>1.0.0</td>\n",
       "      <td>4.0.3 and up</td>\n",
       "    </tr>\n",
       "    <tr>\n",
       "      <th>1</th>\n",
       "      <td>Coloring book moana</td>\n",
       "      <td>ART_AND_DESIGN</td>\n",
       "      <td>3.9</td>\n",
       "      <td>967</td>\n",
       "      <td>14M</td>\n",
       "      <td>500,000+</td>\n",
       "      <td>Free</td>\n",
       "      <td>0</td>\n",
       "      <td>Everyone</td>\n",
       "      <td>Art &amp; Design;Pretend Play</td>\n",
       "      <td>January 15, 2018</td>\n",
       "      <td>2.0.0</td>\n",
       "      <td>4.0.3 and up</td>\n",
       "    </tr>\n",
       "    <tr>\n",
       "      <th>2</th>\n",
       "      <td>U Launcher Lite – FREE Live Cool Themes, Hide ...</td>\n",
       "      <td>ART_AND_DESIGN</td>\n",
       "      <td>4.7</td>\n",
       "      <td>87510</td>\n",
       "      <td>8.7M</td>\n",
       "      <td>5,000,000+</td>\n",
       "      <td>Free</td>\n",
       "      <td>0</td>\n",
       "      <td>Everyone</td>\n",
       "      <td>Art &amp; Design</td>\n",
       "      <td>August 1, 2018</td>\n",
       "      <td>1.2.4</td>\n",
       "      <td>4.0.3 and up</td>\n",
       "    </tr>\n",
       "    <tr>\n",
       "      <th>3</th>\n",
       "      <td>Sketch - Draw &amp; Paint</td>\n",
       "      <td>ART_AND_DESIGN</td>\n",
       "      <td>4.5</td>\n",
       "      <td>215644</td>\n",
       "      <td>25M</td>\n",
       "      <td>50,000,000+</td>\n",
       "      <td>Free</td>\n",
       "      <td>0</td>\n",
       "      <td>Teen</td>\n",
       "      <td>Art &amp; Design</td>\n",
       "      <td>June 8, 2018</td>\n",
       "      <td>Varies with device</td>\n",
       "      <td>4.2 and up</td>\n",
       "    </tr>\n",
       "    <tr>\n",
       "      <th>4</th>\n",
       "      <td>Pixel Draw - Number Art Coloring Book</td>\n",
       "      <td>ART_AND_DESIGN</td>\n",
       "      <td>4.3</td>\n",
       "      <td>967</td>\n",
       "      <td>2.8M</td>\n",
       "      <td>100,000+</td>\n",
       "      <td>Free</td>\n",
       "      <td>0</td>\n",
       "      <td>Everyone</td>\n",
       "      <td>Art &amp; Design;Creativity</td>\n",
       "      <td>June 20, 2018</td>\n",
       "      <td>1.1</td>\n",
       "      <td>4.4 and up</td>\n",
       "    </tr>\n",
       "  </tbody>\n",
       "</table>\n",
       "</div>"
      ],
      "text/plain": [
       "                                                 App        Category  Rating  \\\n",
       "0     Photo Editor & Candy Camera & Grid & ScrapBook  ART_AND_DESIGN     4.1   \n",
       "1                                Coloring book moana  ART_AND_DESIGN     3.9   \n",
       "2  U Launcher Lite – FREE Live Cool Themes, Hide ...  ART_AND_DESIGN     4.7   \n",
       "3                              Sketch - Draw & Paint  ART_AND_DESIGN     4.5   \n",
       "4              Pixel Draw - Number Art Coloring Book  ART_AND_DESIGN     4.3   \n",
       "\n",
       "  Reviews  Size     Installs  Type Price Content Rating  \\\n",
       "0     159   19M      10,000+  Free     0       Everyone   \n",
       "1     967   14M     500,000+  Free     0       Everyone   \n",
       "2   87510  8.7M   5,000,000+  Free     0       Everyone   \n",
       "3  215644   25M  50,000,000+  Free     0           Teen   \n",
       "4     967  2.8M     100,000+  Free     0       Everyone   \n",
       "\n",
       "                      Genres      Last Updated         Current Ver  \\\n",
       "0               Art & Design   January 7, 2018               1.0.0   \n",
       "1  Art & Design;Pretend Play  January 15, 2018               2.0.0   \n",
       "2               Art & Design    August 1, 2018               1.2.4   \n",
       "3               Art & Design      June 8, 2018  Varies with device   \n",
       "4    Art & Design;Creativity     June 20, 2018                 1.1   \n",
       "\n",
       "    Android Ver  \n",
       "0  4.0.3 and up  \n",
       "1  4.0.3 and up  \n",
       "2  4.0.3 and up  \n",
       "3    4.2 and up  \n",
       "4    4.4 and up  "
      ]
     },
     "execution_count": 135,
     "metadata": {},
     "output_type": "execute_result"
    }
   ],
   "source": [
    "data = pd.read_csv('googleplaystore.csv')\n",
    "data.head()"
   ]
  },
  {
   "cell_type": "markdown",
   "metadata": {},
   "source": [
    "Visualizziamo le proprietà del dataset."
   ]
  },
  {
   "cell_type": "code",
   "execution_count": 136,
   "metadata": {},
   "outputs": [
    {
     "name": "stdout",
     "output_type": "stream",
     "text": [
      "<class 'pandas.core.frame.DataFrame'>\n",
      "RangeIndex: 10841 entries, 0 to 10840\n",
      "Data columns (total 13 columns):\n",
      " #   Column          Non-Null Count  Dtype  \n",
      "---  ------          --------------  -----  \n",
      " 0   App             10841 non-null  object \n",
      " 1   Category        10841 non-null  object \n",
      " 2   Rating          9367 non-null   float64\n",
      " 3   Reviews         10841 non-null  object \n",
      " 4   Size            10841 non-null  object \n",
      " 5   Installs        10841 non-null  object \n",
      " 6   Type            10840 non-null  object \n",
      " 7   Price           10841 non-null  object \n",
      " 8   Content Rating  10840 non-null  object \n",
      " 9   Genres          10841 non-null  object \n",
      " 10  Last Updated    10841 non-null  object \n",
      " 11  Current Ver     10833 non-null  object \n",
      " 12  Android Ver     10838 non-null  object \n",
      "dtypes: float64(1), object(12)\n",
      "memory usage: 1.1+ MB\n"
     ]
    }
   ],
   "source": [
    "data.info()"
   ]
  },
  {
   "cell_type": "markdown",
   "metadata": {},
   "source": [
    "Il dataset contiene osservazioni e variabili. Osserviamo che molte delle variabili (tranne \"Rating\") sono di tipo \"object\", anche se\n",
    "rappresentano dei valori numerici (es., Reviews, Size, Installs e Price). Osservando le prime righe del DataFrame visualizzate sopra\n",
    "possiamo dedurre che:\n",
    "<ul>\n",
    "    <li>Size non è rappresentato come valore numerico in quanto contiene l'unità di misura \"M\";\n",
    "    <li>Installs è in realtà una variabile categorica (riporta un \"+\" alla fine, quindi indica la classe \"più di n installazioni\");\n",
    "</ul>\n",
    "Non ci sono motivazioni apparenti per cui Reviews e Rating non siano stati interpretati come numeri. Costruiamo una funzione filtro che\n",
    "identifichi se un valore è convertibile in un dato tipo o meno."
   ]
  },
  {
   "cell_type": "code",
   "execution_count": 137,
   "metadata": {},
   "outputs": [
    {
     "name": "stdout",
     "output_type": "stream",
     "text": [
      "False\n",
      "True\n"
     ]
    }
   ],
   "source": [
    "def cannot_convert(x, t=float):\n",
    "    try:\n",
    "        t(x)\n",
    "        return False\n",
    "    except:\n",
    "        return True\n",
    "print(cannot_convert('12'))\n",
    "print(cannot_convert('12f'))"
   ]
  },
  {
   "cell_type": "markdown",
   "metadata": {},
   "source": [
    "Applichiamo il filtro alla colonna Review per visualizzare i valori che non possono essere convertiti."
   ]
  },
  {
   "cell_type": "code",
   "execution_count": 141,
   "metadata": {},
   "outputs": [
    {
     "data": {
      "text/plain": [
       "['Photo Editor & Candy Camera & Grid & ScrapBook',\n",
       " 'Coloring book moana',\n",
       " 'U Launcher Lite – FREE Live Cool Themes, Hide Apps',\n",
       " 'Sketch - Draw & Paint',\n",
       " 'Pixel Draw - Number Art Coloring Book',\n",
       " 'Paper flowers instructions',\n",
       " 'Smoke Effect Photo Maker - Smoke Editor',\n",
       " 'Infinite Painter',\n",
       " 'Garden Coloring Book',\n",
       " 'Kids Paint Free - Drawing Fun',\n",
       " 'Text on Photo - Fonteee',\n",
       " 'Name Art Photo Editor - Focus n Filters',\n",
       " 'Tattoo Name On My Photo Editor',\n",
       " 'Mandala Coloring Book',\n",
       " '3D Color Pixel by Number - Sandbox Art Coloring',\n",
       " 'Learn To Draw Kawaii Characters',\n",
       " 'Photo Designer - Write your name with shapes',\n",
       " '350 Diy Room Decor Ideas',\n",
       " 'FlipaClip - Cartoon animation',\n",
       " 'ibis Paint X',\n",
       " 'Logo Maker - Small Business',\n",
       " \"Boys Photo Editor - Six Pack & Men's Suit\",\n",
       " 'Superheroes Wallpapers | 4K Backgrounds',\n",
       " 'Mcqueen Coloring pages',\n",
       " 'HD Mickey Minnie Wallpapers',\n",
       " 'Harley Quinn wallpapers HD',\n",
       " 'Colorfit - Drawing & Coloring',\n",
       " 'Animated Photo Editor',\n",
       " 'Pencil Sketch Drawing',\n",
       " 'Easy Realistic Drawing Tutorial',\n",
       " 'Pink Silver Bow Keyboard Theme',\n",
       " 'Art Drawing Ideas',\n",
       " 'Anime Manga Coloring Book',\n",
       " 'Easy Origami Ideas',\n",
       " 'I Creative Idea',\n",
       " 'How to draw Ladybug and Cat Noir',\n",
       " 'UNICORN - Color By Number & Pixel Art Coloring',\n",
       " 'Floor Plan Creator',\n",
       " 'PIP Camera - PIP Collage Maker',\n",
       " 'How To Color Disney Princess - Coloring Pages',\n",
       " 'Drawing Clothes Fashion Ideas',\n",
       " 'Sad Poetry Photo Frames 2018',\n",
       " 'Textgram - write on photos',\n",
       " 'Paint Splash!',\n",
       " 'Popsicle Sticks and Similar DIY Craft Ideas',\n",
       " 'Canva: Poster, banner, card maker & graphic design',\n",
       " 'Install images with music to make video without Net - 2018',\n",
       " 'Little Teddy Bear Colouring Book Game',\n",
       " 'How To Draw Food',\n",
       " 'Monster Truck Stunt 3D 2019',\n",
       " 'Real Tractor Farming',\n",
       " 'Ultimate F1 Racing Championship',\n",
       " 'Used Cars and Trucks for Sale',\n",
       " 'American Muscle Car Race',\n",
       " 'Offroad Oil Tanker Driver Transport Truck 2019',\n",
       " 'Tickets SDA 2018 and Exam from the State Traffic Safety Inspectorate with Drom.ru',\n",
       " 'Gas Prices (Germany only)',\n",
       " 'Extreme Rally Championship',\n",
       " 'Restart Navigator',\n",
       " 'REG - Check the regnumber, find information about Swedish vehicles',\n",
       " 'CityBus Lviv',\n",
       " 'CDL Practice Test 2018 Edition',\n",
       " 'ezETC (ETC balance inquiry, meter trial, real-time traffic)',\n",
       " 'Free VIN Report for Used Cars',\n",
       " 'DMV Permit Practice Test 2018 Edition',\n",
       " 'Check Vehicle Tax',\n",
       " 'Used Cars Mexico',\n",
       " 'Ulysse Speedometer',\n",
       " 'REPUVE',\n",
       " 'Used cars for sale - Trovit',\n",
       " 'Fines of the State Traffic Safety Inspectorate are official: inspection, payment of fines',\n",
       " 'SK Enca Direct Malls - Used Cars Search',\n",
       " 'Android Auto - Maps, Media, Messaging & Voice',\n",
       " 'PDD-UA',\n",
       " 'Tickets SDA 2019 + Exam RF',\n",
       " 'Super Cars Wallpapers And Backgrounds',\n",
       " 'Police Lights, Sirens & Follow Me',\n",
       " 'Police Detector (Speed Camera Radar)',\n",
       " 'Best Car Wallpapers',\n",
       " 'Tickets + PDA 2018 Exam',\n",
       " 'Pick Your Part Garage',\n",
       " 'PakWheels: Buy & Sell Cars',\n",
       " 'Supervision service',\n",
       " 'Speed Camera Detector - Traffic & Speed Alert',\n",
       " 'Used car search Goo net whole car Go to net',\n",
       " 'CarMax – Cars for Sale: Search Used Car Inventory',\n",
       " 'BEST CAR SOUNDS',\n",
       " 'RST - Sale of cars on the PCT',\n",
       " 'AutoScout24 Switzerland – Find your new car',\n",
       " 'Zona Azul Digital Fácil SP CET - OFFICIAL São Paulo',\n",
       " 'SMS Park',\n",
       " 'SKencar',\n",
       " 'Fuelio: Gas log & costs',\n",
       " 'auto fines',\n",
       " 'Used car is the first car - used car purchase, used car quotation, dealer information to',\n",
       " 'All of the parking lot - National Park application (parking lot search / parking sharing / discount payment)',\n",
       " 'Inquiry Fines and Debits of Vehicles',\n",
       " 'Gas Station',\n",
       " 'Hush - Beauty for Everyone',\n",
       " 'ipsy: Makeup, Beauty, and Tips',\n",
       " 'Natural recipes for your beauty',\n",
       " 'BestCam Selfie-selfie, beauty camera, photo editor',\n",
       " 'Mirror - Zoom & Exposure -',\n",
       " 'Beauty Selfie Camera',\n",
       " 'Hairstyles step by step',\n",
       " 'Filters for Selfie',\n",
       " 'Tie - Always be happy',\n",
       " 'Ulta Beauty',\n",
       " 'Prom MakeUp Tutorial',\n",
       " 'Selfie Camera',\n",
       " 'Sweet Selfie Beauty Camera',\n",
       " 'Colors of white in Urdu',\n",
       " 'Selfie Camera Photo Editor & Filter & Sticker',\n",
       " 'Wrinkles and rejuvenation',\n",
       " 'Eyes Makeup Beauty Tips',\n",
       " 'Photo Editor 2018',\n",
       " 'Step By Step Eyes Makeup Tutorial',\n",
       " 'Beauty Camera - Selfie Camera',\n",
       " 'Girls Hairstyles',\n",
       " 'Mirror Camera (Mirror + Selfie Camera)',\n",
       " 'Beauty Tips - Beauty Tips in Sinhala',\n",
       " 'Haircut Tutorials/Haircut Videos',\n",
       " 'Sephora: Skin Care, Beauty Makeup & Fragrance Shop',\n",
       " 'Manicure - nail design',\n",
       " 'Sticker Camera - Selfie Filters, Beauty Camera',\n",
       " 'Filters for B Live',\n",
       " 'Skin Care and Natural Beauty',\n",
       " 'Facial Wrinkle Reduction',\n",
       " 'Makeup Videos',\n",
       " 'Secrets of beauty, youth and health',\n",
       " 'Recipes and tips for losing weight',\n",
       " 'Discover Color',\n",
       " 'Eyeliner step by step 2018',\n",
       " 'Dresses Ideas & Fashions +3000',\n",
       " 'Lady adviser (beauty, health)',\n",
       " 'Step By Step Hairstyles For Women',\n",
       " 'Rainbow Camera',\n",
       " 'Methods of teeth whitening',\n",
       " 'Girls hairstyles 2018',\n",
       " 'Wattpad 📖 Free Books',\n",
       " 'E-Book Read - Read Book for free',\n",
       " 'Download free book with green book',\n",
       " 'Wikipedia',\n",
       " 'Amazon Kindle',\n",
       " 'Cool Reader',\n",
       " 'Dictionary - Merriam-Webster',\n",
       " 'NOOK: Read eBooks & Magazines',\n",
       " 'Free Panda Radio Music',\n",
       " 'Book store',\n",
       " 'FBReader: Favorite Book Reader',\n",
       " 'English Grammar Complete Handbook',\n",
       " 'Free Books - Spirit Fanfiction and Stories',\n",
       " 'Google Play Books',\n",
       " 'AlReader -any text book reader',\n",
       " 'Offline English Dictionary',\n",
       " 'Oxford Dictionary of English : Free',\n",
       " 'Offline: English to Tagalog Dictionary',\n",
       " 'Spanish English Translator',\n",
       " 'FamilySearch Tree',\n",
       " 'Cloud of Books',\n",
       " 'Recipes of Prophetic Medicine for free',\n",
       " 'ReadEra – free ebook reader',\n",
       " 'NOOK App for NOOK Devices',\n",
       " 'Anonymous caller detection',\n",
       " 'Ebook Reader',\n",
       " 'Litnet - E-books',\n",
       " 'Read books online',\n",
       " 'English to Urdu Dictionary',\n",
       " 'eBoox: book reader fb2 epub zip',\n",
       " 'English Persian Dictionary',\n",
       " 'Flybook',\n",
       " 'All Maths Formulas',\n",
       " 'Ancestry',\n",
       " 'HTC Help',\n",
       " 'English translation from Bengali',\n",
       " 'Pdf Book Download - Read Pdf Book',\n",
       " 'Free Book Reader',\n",
       " 'eBoox new: Reader for fb2 epub zip books',\n",
       " 'Only 30 days in English, the guideline is guaranteed',\n",
       " 'Moon+ Reader',\n",
       " \"SH-02J Owner's Manual (Android 8.0)\",\n",
       " 'English-Myanmar Dictionary',\n",
       " 'Golden Dictionary (EN-AR)',\n",
       " 'All Language Translator Free',\n",
       " 'Azpen eReader',\n",
       " 'URBANO V 02 instruction manual',\n",
       " 'English Dictionary - Offline',\n",
       " 'Visual Voicemail by MetroPCS',\n",
       " 'Indeed Job Search',\n",
       " 'Uber Driver',\n",
       " 'ADP Mobile Solutions',\n",
       " 'Snag - Jobs Hiring Now',\n",
       " 'Docs To Go™ Free Office Suite',\n",
       " 'Google My Business',\n",
       " 'OfficeSuite : Free Office + PDF Editor',\n",
       " 'USPS MOBILE®',\n",
       " 'Job Search by ZipRecruiter',\n",
       " 'Curriculum vitae App CV Builder Free Resume Maker',\n",
       " 'Google Primer',\n",
       " 'Alba Heaven - Alvarez Job Portal Services',\n",
       " 'SuperLivePro',\n",
       " 'Facebook Pages Manager',\n",
       " 'OfficeSuite Pro + PDF (Trial)',\n",
       " 'My Space - Employment Center',\n",
       " 'Box',\n",
       " 'Polaris Office for LG',\n",
       " 'Call Blocker',\n",
       " 'Jobs in Alabama - Jobs in Alba',\n",
       " 'Square Point of Sale - POS',\n",
       " 'Plugin:AOT v5.0',\n",
       " 'Kariyer.net',\n",
       " 'SEEK Job Search',\n",
       " 'Become a Job - Find a job or advertise',\n",
       " 'ZOOM Cloud Meetings',\n",
       " 'Easy Installer - Apps On SD',\n",
       " 'Facebook Ads Manager',\n",
       " 'IndiaMART: Search Products, Buy, Sell & Trade',\n",
       " 'ViettelPost express delivery',\n",
       " 'MyASUS - Service Center',\n",
       " 'Job Korea - Career Jobs',\n",
       " '104 Looking for a job - looking for a job, looking for a job, looking for a part-time job, health checkup, resume, treatment room',\n",
       " 'Myanmar 2D/3D',\n",
       " 'Quick PDF Scanner + OCR FREE',\n",
       " 'sABN',\n",
       " 'ATI Cargoes and Transportation',\n",
       " 'Secure Folder',\n",
       " 'UPS Mobile',\n",
       " 'Y! Mobile menu',\n",
       " 'SignEasy | Sign and Fill PDF and other Documents',\n",
       " 'Quick PDF Scanner + OCR FREE',\n",
       " 'Genius Scan - PDF Scanner',\n",
       " 'Tiny Scanner - PDF Scanner App',\n",
       " 'Fast Scanner : Free PDF Scan',\n",
       " 'Mobile Doc Scanner (MDScan) Lite',\n",
       " 'TurboScan: scan documents and receipts in PDF',\n",
       " 'Tiny Scanner Pro: PDF Doc Scan',\n",
       " 'Box',\n",
       " 'Zenefits',\n",
       " 'Google Ads',\n",
       " 'Google My Business',\n",
       " 'Slack',\n",
       " 'FreshBooks Classic',\n",
       " 'Insightly CRM',\n",
       " 'QuickBooks Accounting: Invoicing & Expenses',\n",
       " 'HipChat - Chat Built for Teams',\n",
       " 'Xero Accounting Software',\n",
       " 'MailChimp - Email, Marketing Automation',\n",
       " 'Crew - Free Messaging and Scheduling',\n",
       " 'Asana: organize team projects',\n",
       " 'Google Analytics',\n",
       " 'AdWords Express',\n",
       " 'Accounting App - Zoho Books',\n",
       " 'Invoice & Time Tracking - Zoho',\n",
       " 'join.me - Simple Meetings',\n",
       " 'Invoice 2go — Professional Invoices and Estimates',\n",
       " 'Cisco Webex Meetings',\n",
       " 'ZOOM Cloud Meetings',\n",
       " 'ScreenMeet. Easy Phone Meeting',\n",
       " 'Cisco Webex Teams',\n",
       " 'Microsoft Remote Desktop',\n",
       " 'Start Meeting',\n",
       " 'join.me - Simple Meetings',\n",
       " 'ClickMeeting Webinars',\n",
       " 'BlueJeans for Android',\n",
       " 'Skype for Business for Android',\n",
       " 'Box',\n",
       " 'Zenefits',\n",
       " 'Google Ads',\n",
       " 'Google My Business',\n",
       " 'Slack',\n",
       " 'FreshBooks Classic',\n",
       " 'Insightly CRM',\n",
       " 'QuickBooks Accounting: Invoicing & Expenses',\n",
       " 'HipChat - Chat Built for Teams',\n",
       " 'Xero Accounting Software',\n",
       " 'MailChimp - Email, Marketing Automation',\n",
       " 'Crew - Free Messaging and Scheduling',\n",
       " 'Asana: organize team projects',\n",
       " 'Google Analytics',\n",
       " 'AdWords Express',\n",
       " 'Accounting App - Zoho Books',\n",
       " 'Invoice & Time Tracking - Zoho',\n",
       " 'join.me - Simple Meetings',\n",
       " 'Invoice 2go — Professional Invoices and Estimates',\n",
       " 'SignEasy | Sign and Fill PDF and other Documents',\n",
       " 'Quick PDF Scanner + OCR FREE',\n",
       " 'Genius Scan - PDF Scanner',\n",
       " 'Tiny Scanner - PDF Scanner App',\n",
       " 'Fast Scanner : Free PDF Scan',\n",
       " 'Mobile Doc Scanner (MDScan) Lite',\n",
       " 'TurboScan: scan documents and receipts in PDF',\n",
       " 'Tiny Scanner Pro: PDF Doc Scan',\n",
       " 'Docs To Go™ Free Office Suite',\n",
       " 'OfficeSuite : Free Office + PDF Editor',\n",
       " 'Slack',\n",
       " 'Verify - Receipts & Expenses',\n",
       " 'QuickBooks Accounting: Invoicing & Expenses',\n",
       " 'LINE WEBTOON - Free Comics',\n",
       " 'Manga Master - Best manga & comic reader',\n",
       " 'GANMA! - All original stories free of charge for all original comics',\n",
       " 'Röhrich Werner Soundboard',\n",
       " 'Unicorn Pokez - Color By Number',\n",
       " 'MangaToon - Comics updated Daily',\n",
       " 'Manga Net – Best Online Manga Reader',\n",
       " 'Manga Rock - Best Manga Reader',\n",
       " 'Manga - read Thai translation',\n",
       " 'The Vietnam Story - Fun Stories',\n",
       " 'Dragon Ball Wallpaper - Ringtones',\n",
       " 'Funny Jokes Photos',\n",
       " 'Truyện Vui Tý Quậy',\n",
       " 'Comic Es - Shojo manga / love comics free of charge ♪ ♪',\n",
       " 'comico Popular Original Cartoon Updated Everyday Comico',\n",
       " 'Daily Manga - Comic & Webtoon',\n",
       " '漫咖 Comics - Manga,Novel and Stories',\n",
       " 'Emmanuella Funny Videos 2018',\n",
       " 'DC Comics',\n",
       " 'Manga Zero - Japanese cartoon and comic reader',\n",
       " 'Marvel Unlimited',\n",
       " 'Tapas – Comics, Novels, and Stories',\n",
       " \"Children's cartoons (Mithu-Mina-Raju)\",\n",
       " \"Narrator's Voice\",\n",
       " '【Ranobbe complete free】 Novelba - Free app that you can read and write novels',\n",
       " 'Faustop Sounds',\n",
       " 'Manga Mania - Best online manga reader',\n",
       " '- Free Comics - Comic Apps',\n",
       " 'Manga AZ - Manga Comic Reader',\n",
       " 'Buff Thun - Daily Free Webtoon / Comics / Web Fiction / Mini Game',\n",
       " \"pixiv comic - everyone's manga app\",\n",
       " 'Funny Jokes and Stories 2018',\n",
       " 'Hojiboy Tojiboyev Life Hacks',\n",
       " 'Perfect Viewer',\n",
       " 'Best Wallpapers Backgrounds(100,000+ 4K HD)',\n",
       " 'think Comics',\n",
       " 'Memes Button',\n",
       " 'Laftel - Watching and Announcing Snooping, Streaming',\n",
       " 'Messenger – Text and Video Chat for Free',\n",
       " 'WhatsApp Messenger',\n",
       " 'Messenger for SMS',\n",
       " 'Google Chrome: Fast & Secure',\n",
       " 'Messenger Lite: Free Calls & Messages',\n",
       " 'Gmail',\n",
       " 'Hangouts',\n",
       " 'Viber Messenger',\n",
       " 'My Tele2',\n",
       " 'Firefox Browser fast & private',\n",
       " 'Yahoo Mail – Stay Organized',\n",
       " 'imo beta free calls and text',\n",
       " 'imo free video calls and chat',\n",
       " 'Contacts',\n",
       " 'Call Free – Free Call',\n",
       " 'Web Browser & Explorer',\n",
       " 'Opera Mini - fast web browser',\n",
       " 'Browser 4G',\n",
       " 'MegaFon Dashboard',\n",
       " 'ZenUI Dialer & Contacts',\n",
       " 'Cricket Visual Voicemail',\n",
       " 'Opera Browser: Fast and Secure',\n",
       " 'TracFone My Account',\n",
       " 'Firefox Focus: The privacy browser',\n",
       " 'Google Voice',\n",
       " 'Chrome Dev',\n",
       " 'Xperia Link™',\n",
       " 'TouchPal Keyboard - Fun Emoji & Android Keyboard',\n",
       " 'Who',\n",
       " 'Skype Lite - Free Video Call & Chat',\n",
       " 'WeChat',\n",
       " 'UC Browser Mini -Tiny Fast Private & Secure',\n",
       " 'WhatsApp Business',\n",
       " 'My magenta',\n",
       " 'Android Messages',\n",
       " 'Telegram',\n",
       " 'Google Duo - High Quality Video Calls',\n",
       " 'Puffin Web Browser',\n",
       " 'Seznam.cz',\n",
       " 'Antillean Gold Telegram (original version)',\n",
       " 'AT&T Visual Voicemail',\n",
       " 'GMX Mail',\n",
       " 'Omlet Chat',\n",
       " 'UC Browser - Fast Download Private & Secure',\n",
       " 'My Vodacom SA',\n",
       " 'Microsoft Edge',\n",
       " 'WhatsApp Messenger',\n",
       " 'Messenger – Text and Video Chat for Free',\n",
       " 'imo free video calls and chat',\n",
       " 'Hangouts Dialer - Call Phones',\n",
       " 'Viber Messenger',\n",
       " 'Hangouts',\n",
       " 'Talkatone: Free Texts, Calls & Phone Number',\n",
       " 'Calls & Text by Mo+',\n",
       " 'free video calls and chat',\n",
       " 'WeChat',\n",
       " 'Skype - free IM & video calls',\n",
       " 'Telegram',\n",
       " 'Who',\n",
       " 'Google Voice',\n",
       " 'GO SMS Pro - Messenger, Free Themes, Emoji',\n",
       " 'Android Messages',\n",
       " 'Messaging+ SMS, MMS Free',\n",
       " 'chomp SMS',\n",
       " 'Glide - Video Chat Messenger',\n",
       " 'Text SMS',\n",
       " 'Google Allo',\n",
       " 'Talkray - Free Calls & Texts',\n",
       " 'LINE: Free Calls & Messages',\n",
       " 'GroupMe',\n",
       " 'mysms SMS Text Messaging Sync',\n",
       " 'BBM - Free Calls & Messages',\n",
       " 'KakaoTalk: Free Calls & Text',\n",
       " 'Firefox Focus: The privacy browser',\n",
       " '2ndLine - Second Phone Number',\n",
       " 'Google Allo',\n",
       " 'Google Chrome: Fast & Secure',\n",
       " 'Firefox Browser fast & private',\n",
       " 'CM Browser - Ad Blocker , Fast Download , Privacy',\n",
       " 'Puffin Web Browser',\n",
       " 'Opera Browser: Fast and Secure',\n",
       " 'Ninesky Browser',\n",
       " 'Opera Mini - fast web browser',\n",
       " 'Dolphin Browser - Fast, Private & Adblock🐬',\n",
       " 'UC Browser Mini -Tiny Fast Private & Secure',\n",
       " 'UC Browser - Fast Download Private & Secure',\n",
       " 'Ghostery Privacy Browser',\n",
       " 'InBrowser - Incognito Browsing',\n",
       " 'Web Browser for Android',\n",
       " 'DU Browser—Browse fast & fun',\n",
       " 'Lightning Web Browser',\n",
       " 'Web Browser',\n",
       " 'Puffin Browser Pro',\n",
       " 'Contacts+',\n",
       " 'ExDialer - Dialer & Contacts',\n",
       " 'Calls & Text by Mo+',\n",
       " 'Viber Messenger',\n",
       " 'PHONE for Google Voice & GTalk',\n",
       " 'Safest Call Blocker',\n",
       " 'Full Screen Caller ID',\n",
       " 'Hiya - Caller ID & Block',\n",
       " 'Call Blocker',\n",
       " 'Mr. Number-Block calls & spam',\n",
       " 'Should I Answer?',\n",
       " 'RocketDial Dialer & Contacts',\n",
       " 'CallApp: Caller ID, Blocker & Phone Call Recorder',\n",
       " 'Whoscall - Caller ID & Block',\n",
       " 'CIA - Caller ID & Call Blocker',\n",
       " 'Calls Blacklist - Call Blocker',\n",
       " 'Call Control - Call Blocker',\n",
       " 'True Contact - Real Caller ID',\n",
       " 'Video Caller Id',\n",
       " 'Sync.ME – Caller ID & Block',\n",
       " 'Burner - Free Phone Number',\n",
       " 'Truecaller: Caller ID, SMS spam blocking & Dialer',\n",
       " 'Caller ID +',\n",
       " 'Gmail',\n",
       " 'Yahoo Mail – Stay Organized',\n",
       " 'K-9 Mail',\n",
       " 'myMail – Email for Hotmail, Gmail and Outlook Mail',\n",
       " 'Email TypeApp - Mail App',\n",
       " 'All Email Providers',\n",
       " 'Newton Mail - Email App for Gmail, Outlook, IMAP',\n",
       " 'GO Notifier',\n",
       " 'Mail.Ru - Email App',\n",
       " 'Mail1Click - Secure Mail',\n",
       " 'Daum Mail - Next Mail',\n",
       " 'mail.com mail',\n",
       " 'SolMail - All-in-One email app',\n",
       " 'Hangouts',\n",
       " 'imo free video calls and chat',\n",
       " 'free video calls and chat',\n",
       " 'Viber Messenger',\n",
       " 'Skype - free IM & video calls',\n",
       " 'WeChat',\n",
       " 'Vonage Mobile® Call Video Text',\n",
       " 'JusTalk - Free Video Calls and Fun Video Chat',\n",
       " 'Glide - Video Chat Messenger',\n",
       " 'Talkray - Free Calls & Texts',\n",
       " 'LINE: Free Calls & Messages',\n",
       " 'KakaoTalk: Free Calls & Text',\n",
       " 'Moco+ - Chat, Meet People',\n",
       " 'Calculator',\n",
       " 'Truth or Dare Pro',\n",
       " 'Private Dating, Hide App- Blue for PrivacyHider',\n",
       " 'Ad Blocker for SayHi',\n",
       " 'AMBW Dating App: Asian Men Black Women Interracial',\n",
       " 'Zoosk Dating App: Meet Singles',\n",
       " 'OkCupid Dating',\n",
       " 'Match™ Dating - Meet Singles',\n",
       " 'Hily: Dating, Chat, Match, Meet & Hook up',\n",
       " 'Hinge: Dating & Relationships',\n",
       " 'Casual Dating & Adult Singles - Joyride',\n",
       " 'BBW Dating & Plus Size Chat',\n",
       " 'Moco - Chat, Meet People',\n",
       " 'CMB Free Dating App',\n",
       " 'Hot or Not - Find someone right now',\n",
       " 'eharmony - Online Dating App',\n",
       " 'Free Dating App & Flirt Chat - Match with Singles',\n",
       " 'Chispa, the Dating App for Latino, Latina Singles',\n",
       " 'Clover Dating App',\n",
       " 'Black People Meet Singles Date',\n",
       " 'Mingle2 - Free Online Dating & Singles Chat Rooms',\n",
       " 'Free Dating App & Flirt Chat - Cheers',\n",
       " 'stranger chat - anonymous chat',\n",
       " 'Blendr - Chat, Flirt & Meet',\n",
       " 'Free Dating Hook Up Messenger',\n",
       " 'Find Real Love — YouLove Premium Dating',\n",
       " 'Once - Quality Matches Every day',\n",
       " 'BLK - Swipe. Match. Chat.',\n",
       " 'Cougar Dating Life : Date Older Women Sugar Mummy',\n",
       " 'Howlr',\n",
       " 'Stranger Chat & Date',\n",
       " 'Free Dating & Flirt Chat - Choice of Love',\n",
       " 'RandoChat - Chat roulette',\n",
       " 'BeWild Free Dating & Chat App',\n",
       " 'FastMeet: Chat, Dating, Love',\n",
       " 'Free Dating App - YoCutie - Flirt, Chat & Meet',\n",
       " 'OurTime Dating for Singles 50+',\n",
       " 'FarmersOnly Dating',\n",
       " 'Dating for 50 plus Mature Singles – FINALLY',\n",
       " 'Sudy – Meet Elite & Rich Single',\n",
       " 'Christian Dating For Free App',\n",
       " 'Just She - Top Lesbian Dating',\n",
       " 'Single Parent Meet #1 Dating',\n",
       " 'EliteSingles – Dating for Single Professionals',\n",
       " 'Millionaire Match: Rich Singles Dating App',\n",
       " 'InterracialCupid - Interracial Dating App',\n",
       " 'Sugar Mommas Dating And Single Search',\n",
       " 'Hide App, Private Dating, Safe Chat - PrivacyHider',\n",
       " 'muzmatch: Muslim & Arab Singles, Marriage & Dating',\n",
       " 'NoBuffDating - Free Dating App',\n",
       " 'Sugar Daddy Dating App',\n",
       " 'Adult Dirty Emojis',\n",
       " 'Free Dating App - Meet Local Singles - Flirt Chat',\n",
       " 'Meet4U - Chat, Love, Singles!',\n",
       " 'SnpCupid Dating',\n",
       " 'Chat Rooms, Avatars, Date - Galaxy',\n",
       " 'Adult Dating - AdultFinder',\n",
       " 'Gay Sugar Daddy Dating & Hookup – Sudy Gay',\n",
       " 'Meet24 - Love, Chat, Singles',\n",
       " 'BBWCupid - BBW Dating App',\n",
       " 'ChatVideo Meet new people',\n",
       " 'TryDate - Free Online Dating App, Chat Meet Adults',\n",
       " 'Black White Interracial Dating - Interracial Match',\n",
       " 'USA Singles Meet, Match and Date Free - Date',\n",
       " 'FlirtChat - ♥Free Dating/Flirting App♥',\n",
       " 'OkCupid Dating',\n",
       " 'CMB Free Dating App',\n",
       " 'Hily: Dating, Chat, Match, Meet & Hook up',\n",
       " 'Hinge: Dating & Relationships',\n",
       " 'The League',\n",
       " 'BBW Dating & Plus Size Chat',\n",
       " 'Casual Dating & Adult Singles - Joyride',\n",
       " 'EliteSingles – Dating for Single Professionals',\n",
       " 'Clover Dating App',\n",
       " 'Moco - Chat, Meet People',\n",
       " 'Herpes Dating: 1,000K+ Singles',\n",
       " 'Hot or Not - Find someone right now',\n",
       " 'Just She - Top Lesbian Dating',\n",
       " 'Heart mill',\n",
       " 'Once - Quality Matches Every day',\n",
       " 'Sudy – Meet Elite & Rich Single',\n",
       " 'muzmatch: Muslim & Arab Singles, Marriage & Dating',\n",
       " '95Live -SG#1 Live Streaming App',\n",
       " 'Chispa, the Dating App for Latino, Latina Singles',\n",
       " 'Blendr - Chat, Flirt & Meet',\n",
       " 'Find Real Love — YouLove Premium Dating',\n",
       " 'Mutual - LDS Dating',\n",
       " 'Cougar Dating Life : Date Older Women Sugar Mummy',\n",
       " 'stranger chat - anonymous chat',\n",
       " 'Millionaire Match: Rich Singles Dating App',\n",
       " '2RedBeans',\n",
       " 'Dating for 50 plus Mature Singles – FINALLY',\n",
       " 'SweetRing - Meet, Match, Date',\n",
       " 'BiggerCity: Chat for gay bears, chubs & chasers',\n",
       " 'Moco+ - Chat, Meet People',\n",
       " 'SilverSingles: The 50+ Dating App',\n",
       " 'Herpes Positive Singles Dating',\n",
       " 'Chat Rooms, Avatars, Date - Galaxy',\n",
       " 'FastMeet: Chat, Dating, Love',\n",
       " 'Christian Dating For Free App',\n",
       " 'Glam - Premium Dating App',\n",
       " 'iDates - Chats, Flirts, Dating, Love & Relations',\n",
       " 'Meet24 - Love, Chat, Singles',\n",
       " 'Black White Interracial Dating - Interracial Match',\n",
       " 'JustDating',\n",
       " 'Interracial Match Dating App',\n",
       " 'Russian Dating & Chat for Russian speaking RusDate',\n",
       " 'Sky People (SPI): A secure blind date through authentication by Seoul National University',\n",
       " 'Sweet mi - unlimited hunnam hunting blind date',\n",
       " 'Gay Sugar Daddy Dating & Hookup – Sudy Gay',\n",
       " 'Mingle - Online Dating App to Chat & Meet People',\n",
       " 'Adult Dirty Emojis',\n",
       " 'BBW Dating & Curvy Singles Chat- LargeFriends',\n",
       " 'Hide App, Private Dating, Safe Chat - PrivacyHider',\n",
       " 'Hitwe - meet people and chat',\n",
       " 'A hundred',\n",
       " 'JustSayHi- Dating App. Chat & Meet Singles Nearby',\n",
       " 'FERZU - Furries Social Network',\n",
       " 'WannaMeet – Dating & Chat App',\n",
       " 'Meet4U - Chat, Love, Singles!',\n",
       " 'Luxy Pro- Elite Dating Single',\n",
       " 'Dating Network',\n",
       " 'Chatting - Free chat, random chat, boyfriend, girlfriend',\n",
       " 'iPair-Meet, Chat, Dating',\n",
       " 'Meet, chat & date. Free dating app - Chocolate app',\n",
       " 'Transenger – Ts Dating and Chat for Free',\n",
       " 'O-Star',\n",
       " 'Free Cam Girls - Live Webcam',\n",
       " 'Cardi B Live Stream Video Chat - Prank',\n",
       " 'Live Girls Talk - Free Video Chat',\n",
       " 'Live Talk - Free Text and Video Chat',\n",
       " 'Chat Kids - Chat Room For Kids',\n",
       " 'Girls Live Chat - Free Text & Video Chat',\n",
       " 'Random Video Chat',\n",
       " 'MouseMingle',\n",
       " 'American Girls Mobile Numbers',\n",
       " 'Random Video Chat App With Strangers',\n",
       " 'FREE VIDEO CHAT - LIVE VIDEO AND TEXT CHAT',\n",
       " 'Awake Dating',\n",
       " 'Live Chat - Free Video Chat Rooms',\n",
       " 'Meet With Strangers: Video Chat & Dating',\n",
       " 'FREE LIVE TALK',\n",
       " 'Random Chat App with Strangers',\n",
       " 'Ost. Zombies Cast - New Music and Lyrics',\n",
       " 'Dating White Girls',\n",
       " 'Live Chat - Free Video Talk',\n",
       " 'Geeks Dating',\n",
       " 'Live chat - free video chat',\n",
       " 'House party - live chat',\n",
       " 'Fishing Brain & Boating Maps Marine',\n",
       " 'CAM5678 Video Chat',\n",
       " 'Video chat live advices',\n",
       " 'chat live chat',\n",
       " 'Pet Lovers Dating',\n",
       " 'Friend Find: free chat + flirt dating app',\n",
       " 'Latin Dating',\n",
       " 'Spine- The dating app',\n",
       " 'Online Chat Girls Meet',\n",
       " 'Wifi Mingle',\n",
       " 'Girls Live Talk - Free Text and Video Chat',\n",
       " 'Soy Luna - Top Music And Lyrics',\n",
       " 'When Will You Get Married',\n",
       " 'HOW TO ASK A GIRL OUT',\n",
       " 'Online Girls Chat Group',\n",
       " 'The DJ - Match with People',\n",
       " 'Toronto Dating',\n",
       " 'i miss you quotes and photos',\n",
       " 'JoJo Siwa Top Hits Music',\n",
       " 'UK Girls Mobile Numbers',\n",
       " 'chat saudi arabia',\n",
       " 'Chat Click - Dating Search',\n",
       " 'Iraq love chat',\n",
       " 'Healthy Relationships Guide',\n",
       " 'following',\n",
       " 'Gods by Night',\n",
       " 'PlusOne',\n",
       " 'Love Calendar - Couple Sharing Calendar & CoupleDay',\n",
       " 'Speeding Joyride & Car Meet App',\n",
       " 'LOBSTR - go on a lunch date',\n",
       " 'Titanic App - Feminist Dating Application',\n",
       " 'French Chat Room',\n",
       " 'Soul Mate',\n",
       " 'Diamond Engagement Rings',\n",
       " 'Dating Tips For Men',\n",
       " 'Halalguur',\n",
       " '95Live -SG#1 Live Streaming App',\n",
       " 'Just She - Top Lesbian Dating',\n",
       " 'Hily: Dating, Chat, Match, Meet & Hook up',\n",
       " 'O-Star',\n",
       " 'Random Video Chat',\n",
       " 'Black People Meet Singles Date',\n",
       " 'Howlr',\n",
       " 'Find Lover',\n",
       " 'Free Dating & Flirt Chat - Choice of Love',\n",
       " 'Cardi B Live Stream Video Chat - Prank',\n",
       " 'Chat Kids - Chat Room For Kids',\n",
       " 'muzmatch: Muslim & Arab Singles, Marriage & Dating',\n",
       " 'BBW Dating & Plus Size Chat',\n",
       " '2Date Dating App, Love and matching',\n",
       " 'Transenger – Ts Dating and Chat for Free',\n",
       " 'BBW Dating & Curvy Singles Chat- LargeFriends',\n",
       " 'MouseMingle',\n",
       " 'FlirtChat - ♥Free Dating/Flirting App♥',\n",
       " 'Live Talk - Free Text and Video Chat',\n",
       " 'Adult Dirty Emojis',\n",
       " 'Free Cam Girls - Live Webcam',\n",
       " 'Random Video Chat App With Strangers',\n",
       " 'Teenage Chat & Dating',\n",
       " 'Live Girls Talk - Free Video Chat',\n",
       " 'Girls Online Talk - Free Text and Video Chat',\n",
       " 'Girls Live Chat - Free Text & Video Chat',\n",
       " 'Online Girls Chat',\n",
       " 'LIVE VIDEO TALK',\n",
       " 'Free Dating App - Meet Local Singles - Flirt Chat',\n",
       " 'SkyLove – Dating and chat',\n",
       " 'Free Live Talk-Video Call',\n",
       " 'FindLoving',\n",
       " 'Sugar Daddies Dating App',\n",
       " 'iPair-Meet, Chat, Dating',\n",
       " 'Free Dating Hook Up Messenger',\n",
       " 'Free Dating App - YoCutie - Flirt, Chat & Meet',\n",
       " 'Chat Mexico: meet people, flirt and friendship',\n",
       " 'Duolingo: Learn Languages Free',\n",
       " 'TED',\n",
       " 'English Communication - Learn English for Chinese (Learn English for Chinese)',\n",
       " 'Khan Academy',\n",
       " 'Learn English with Wlingua',\n",
       " 'Ai La Trieu Phu - ALTP Free',\n",
       " 'Princess Coloring Book',\n",
       " 'Learn Spanish - Español',\n",
       " 'English Grammar Test',\n",
       " 'Speed Reading',\n",
       " 'English for beginners',\n",
       " 'Flame - درب عقلك يوميا',\n",
       " 'Mermaids',\n",
       " 'Learn Japanese, Korean, Chinese Offline & Free',\n",
       " 'Kids Mode',\n",
       " 'PBS KIDS Video',\n",
       " 'Dinosaurs Coloring Pages',\n",
       " 'Cars Coloring Pages',\n",
       " 'Babbel – Learn Languages',\n",
       " 'Math Tricks',\n",
       " 'Monster Truck Driver & Racing',\n",
       " 'Learn English Words Free',\n",
       " 'Japanese / English one-shop search dictionary - Free Japanese - English - Japanese dictionary application',\n",
       " 'English speaking texts',\n",
       " 'Thai Handwriting',\n",
       " 'THAI DICT 2018',\n",
       " 'Kanji test · Han search Kanji training (free version)',\n",
       " \"Game for KIDS: KIDS match'em\",\n",
       " 'Flippy Campus - Buy & sell on campus at a discount',\n",
       " 'Free intellectual training game application |',\n",
       " 'ABC Preschool Free',\n",
       " 'PINKFONG Baby Shark',\n",
       " 'English words application mikan',\n",
       " 'Learn English for beginners',\n",
       " 'Listen and learn English in seven days',\n",
       " 'Lumosity: #1 Brain Games & Cognitive Training App',\n",
       " 'Learn English from Persian: Persian to English',\n",
       " 'English with Lingualeo',\n",
       " 'Learn languages, grammar & vocabulary with Memrise',\n",
       " 'Khan Academy',\n",
       " 'TED',\n",
       " 'Quizlet: Learn Languages & Vocab with Flashcards',\n",
       " 'Udemy - Online Courses',\n",
       " 'Coursera: Online courses',\n",
       " 'edX - Online Courses by Harvard, MIT & more',\n",
       " 'Elevate - Brain Training Games',\n",
       " 'NeuroNation - Focus and Brain Training',\n",
       " 'Lumosity: #1 Brain Games & Cognitive Training App',\n",
       " 'Peak – Brain Games & Training',\n",
       " 'Memorado - Brain Games',\n",
       " 'Lynda - Online Training Videos',\n",
       " 'Brilliant',\n",
       " 'CppDroid - C/C++ IDE',\n",
       " 'Quiz&Learn Python',\n",
       " 'C++ Tutorials',\n",
       " 'C++ Programming',\n",
       " 'C Programming',\n",
       " 'Udacity - Lifelong Learning',\n",
       " 'Udemy - Online Courses',\n",
       " 'Learn C++',\n",
       " 'Learn programming',\n",
       " 'Learn JavaScript',\n",
       " 'Learn Java',\n",
       " 'Learn HTML',\n",
       " 'Programming Hub, Learn to code',\n",
       " 'Learn SQL',\n",
       " 'Ready4 SAT (Prep4 SAT)',\n",
       " 'Socratic - Math Answers & Homework Help',\n",
       " 'Ready4 GMAT (Prep4 GMAT)',\n",
       " 'Pocket GMAT Math',\n",
       " 'GMAT Question Bank',\n",
       " 'GRE Tutor',\n",
       " 'GRE Flashcards',\n",
       " 'play2prep: ACT, SAT prep',\n",
       " 'SAT Test',\n",
       " 'GMAT Math Flashcards',\n",
       " 'Pocket SAT Math',\n",
       " 'TOEFL Prep & Practice from Magoosh',\n",
       " 'GRE Prep & Practice by Magoosh',\n",
       " 'GRE® Flashcards by Kaplan',\n",
       " 'SAT Vocabulary',\n",
       " 'Magoosh GMAT Prep & Practice',\n",
       " 'SAT Flashcards: Prep & Vocabulary',\n",
       " 'Khan Academy',\n",
       " 'TED',\n",
       " 'Duolingo: Learn Languages Free',\n",
       " 'Quizlet: Learn Languages & Vocab with Flashcards',\n",
       " 'Coursera: Online courses',\n",
       " 'Udemy - Online Courses',\n",
       " 'Udacity - Lifelong Learning',\n",
       " 'edX - Online Courses by Harvard, MIT & more',\n",
       " 'Rosetta Stone: Learn to Speak & Read New Languages',\n",
       " 'Google Classroom',\n",
       " 'Lynda - Online Training Videos',\n",
       " 'Learn languages, grammar & vocabulary with Memrise',\n",
       " 'Brilliant',\n",
       " 'LinkedIn Learning: Online Courses to Learn Skills',\n",
       " 'Babbel – Learn Languages',\n",
       " 'Learn English with Phrases',\n",
       " 'Free english course',\n",
       " 'Duolingo: Learn Languages Free',\n",
       " 'Learn 50 languages',\n",
       " 'Rosetta Stone: Learn to Speak & Read New Languages',\n",
       " 'Babbel – Learn Spanish',\n",
       " 'Mango Languages: Lovable Language Courses',\n",
       " 'Learn English with Aco',\n",
       " 'Learn to Speak English',\n",
       " 'Learn languages, grammar & vocabulary with Memrise',\n",
       " 'Learn English with Wlingua',\n",
       " 'busuu: Learn Languages - Spanish, English & More',\n",
       " 'My Class Schedule: Timetable',\n",
       " 'Study Checker',\n",
       " 'My Study Life - School Planner',\n",
       " 'HomeWork',\n",
       " 'Next Gen Science Standards',\n",
       " 'myHomework Student Planner',\n",
       " \"Teacher's Gradebook - Additio\",\n",
       " 'Common Core',\n",
       " 'Homework Planner',\n",
       " 'TeachersPayTeachers',\n",
       " 'Quizlet: Learn Languages & Vocab with Flashcards',\n",
       " 'Edmodo',\n",
       " 'Socrative Teacher',\n",
       " 'Training schedule - AllUniver',\n",
       " 'Remind: School Communication',\n",
       " 'Google Classroom',\n",
       " 'ClassDojo',\n",
       " 'Duolingo: Learn Languages Free',\n",
       " 'Lerni. Learn languages.',\n",
       " 'Learn 50 languages',\n",
       " 'HelloTalk — Chat, Speak & Learn Foreign Languages',\n",
       " 'Mango Languages: Lovable Language Courses',\n",
       " 'Rosetta Stone: Learn to Speak & Read New Languages',\n",
       " 'Learn languages, grammar & vocabulary with Memrise',\n",
       " 'Babbel – Learn Languages',\n",
       " 'Innovative: Learn 34 Languages',\n",
       " 'busuu: Learn Languages - Spanish, English & More',\n",
       " 'My Class Schedule: Timetable',\n",
       " 'Chegg Study - Homework Help',\n",
       " 'Canvas Student',\n",
       " 'Timetable',\n",
       " 'Socratic - Math Answers & Homework Help',\n",
       " 'EasyBib: Citation Generator',\n",
       " 'Google Classroom',\n",
       " 'ClassDojo',\n",
       " 'HelloTalk — Chat, Speak & Learn Foreign Languages',\n",
       " 'Quizlet: Learn Languages & Vocab with Flashcards',\n",
       " 'busuu: Learn Languages - Spanish, English & More',\n",
       " 'Rosetta Stone: Learn to Speak & Read New Languages',\n",
       " 'SoloLearn: Learn to Code for Free',\n",
       " 'Kids Learn Languages by Mondly',\n",
       " 'Blinkist - Nonfiction Books',\n",
       " 'Sago Mini Hat Maker',\n",
       " 'Fuzzy Numbers: Pre-K Number Foundation',\n",
       " 'Toca Life: City',\n",
       " 'Toca Life: Hospital',\n",
       " 'Netflix',\n",
       " 'Complete Spanish Movies',\n",
       " 'Pluto TV - It’s Free TV',\n",
       " 'Tubi TV - Free Movies & TV',\n",
       " 'YouTube Kids',\n",
       " 'Mobile TV',\n",
       " 'TV+',\n",
       " 'Digital TV',\n",
       " 'Motorola Spotlight Player™',\n",
       " 'Vigo Lite',\n",
       " 'Google Play Games',\n",
       " 'Hotstar',\n",
       " 'Peers.TV: broadcast TV channels First, Match TV, TNT ...',\n",
       " 'The green alien dance',\n",
       " 'Spectrum TV',\n",
       " 'H TV',\n",
       " 'StarTimes - Live International Champions Cup',\n",
       " 'Cinematic Cinematic',\n",
       " 'MEGOGO - Cinema and TV',\n",
       " 'Talking Angela',\n",
       " 'DStv Now',\n",
       " 'ivi - movies and TV shows in HD',\n",
       " 'Radio Javan',\n",
       " 'Viki: Asian TV Dramas & Movies',\n",
       " 'Talking Ginger 2',\n",
       " 'Girly Lock Screen Wallpaper with Quotes',\n",
       " 'No.Draw - Colors by Number 2018',\n",
       " '🔥 Football Wallpapers 4K | Full HD Backgrounds 😍',\n",
       " 'Movies by Flixster, with Rotten Tomatoes',\n",
       " 'Low Poly – Puzzle art game',\n",
       " 'BBC Media Player',\n",
       " 'Amazon Prime Video',\n",
       " 'Adult Glitter Color by Number Book - Sandbox Pages',\n",
       " 'IMDb Movies & TV',\n",
       " 'Twitch: Livestream Multiplayer Games & Esports',\n",
       " 'Ziggo GO',\n",
       " 'YouTube Gaming',\n",
       " 'PlayStation App',\n",
       " 'Talking Ben the Dog',\n",
       " 'Red Bull TV: Live Sports, Music & Entertainment',\n",
       " 'Trailer Addict Movie Trailers',\n",
       " 'Cinemark Theatres',\n",
       " 'Regal Cinemas',\n",
       " 'Movies by Flixster, with Rotten Tomatoes',\n",
       " 'Fandango Movies - Times + Tickets',\n",
       " 'Marcus Theatres',\n",
       " 'Harkins Theatres',\n",
       " 'AMC Theatres',\n",
       " 'IMDb Movies & TV',\n",
       " 'Netflix',\n",
       " 'Food Network',\n",
       " 'Cooking Channel',\n",
       " 'Animal Planet GO',\n",
       " 'VRV: Anime, game videos & more',\n",
       " 'DramaFever: Stream Asian Drama Shows & Movies',\n",
       " 'Crunchyroll - Everything Anime',\n",
       " 'Investigation Discovery GO',\n",
       " 'Crackle - Free TV & Movies',\n",
       " 'CBS - Full Episodes & Live TV',\n",
       " 'STARZ',\n",
       " 'Acorn TV: World-class TV from Britain and Beyond',\n",
       " 'HISTORY: Watch TV Show Full Episodes & Specials',\n",
       " 'Nick',\n",
       " 'VH1',\n",
       " 'FOX NOW - On Demand & Live TV',\n",
       " 'A&E - Watch Full Episodes of TV Shows',\n",
       " 'The CW',\n",
       " 'BET NOW - Watch Shows',\n",
       " 'Hulu: Stream TV, Movies & more',\n",
       " 'HBO NOW: Stream TV & Movies',\n",
       " 'Univision NOW - Live TV and On Demand',\n",
       " 'SHOWTIME',\n",
       " 'Lifetime - Watch Full Episodes & Original Movies',\n",
       " 'SeriesGuide – Show & Movie Manager',\n",
       " 'Comedy Central',\n",
       " 'IMDb Movies & TV',\n",
       " 'Netflix',\n",
       " 'Tubi TV - Free Movies & TV',\n",
       " 'Crunchyroll - Everything Anime',\n",
       " 'STARZ',\n",
       " 'Crackle - Free TV & Movies',\n",
       " 'CBS - Full Episodes & Live TV',\n",
       " 'Nick',\n",
       " 'Hulu: Stream TV, Movies & more',\n",
       " 'FOX NOW - On Demand & Live TV',\n",
       " 'The CW',\n",
       " 'CW Seed',\n",
       " 'The NBC App - Watch Live TV and Full Episodes',\n",
       " 'HISTORY: Watch TV Show Full Episodes & Specials',\n",
       " 'HBO NOW: Stream TV & Movies',\n",
       " 'WWE',\n",
       " 'A&E - Watch Full Episodes of TV Shows',\n",
       " 'VH1',\n",
       " 'Universal Kids',\n",
       " 'MTV',\n",
       " 'Lifetime - Watch Full Episodes & Original Movies',\n",
       " 'BET NOW - Watch Shows',\n",
       " 'LEGO® TV',\n",
       " 'HBO GO: Stream with TV Package',\n",
       " 'Showtime Anytime',\n",
       " 'PlayKids - Educational cartoons and games for kids',\n",
       " 'FOX',\n",
       " 'Telemundo Now',\n",
       " 'Netflix',\n",
       " 'Tubi TV - Free Movies & TV',\n",
       " 'Vudu Movies & TV',\n",
       " 'Crackle - Free TV & Movies',\n",
       " 'Crunchyroll - Everything Anime',\n",
       " 'Nick',\n",
       " 'STARZ',\n",
       " 'Hulu: Stream TV, Movies & more',\n",
       " 'Food Network',\n",
       " 'FOX NOW - On Demand & Live TV',\n",
       " 'Movies by Flixster, with Rotten Tomatoes',\n",
       " 'Yidio: TV Show & Movie Guide',\n",
       " 'HISTORY: Watch TV Show Full Episodes & Specials',\n",
       " 'Viki: Asian TV Dramas & Movies',\n",
       " 'The CW',\n",
       " 'Redbox',\n",
       " 'Univision NOW - Live TV and On Demand',\n",
       " 'HBO NOW: Stream TV & Movies',\n",
       " 'Tribeca Shortlist - Handpicked Movies',\n",
       " 'A&E - Watch Full Episodes of TV Shows',\n",
       " 'VH1',\n",
       " 'SHOWTIME',\n",
       " 'MTV',\n",
       " 'Lifetime - Watch Full Episodes & Original Movies',\n",
       " 'Comedy Central',\n",
       " 'BET NOW - Watch Shows',\n",
       " 'FOX',\n",
       " 'Telemundo Now',\n",
       " 'Nick Jr. - Shows & Games',\n",
       " 'Sticker Market: Emoji keyboard',\n",
       " 'Viki: Asian TV Dramas & Movies',\n",
       " 'Kidjo TV Kids Have Fun & Learn',\n",
       " 'Laugh Out Loud by Kevin Hart',\n",
       " 'ColorFul - Adult Coloring Book',\n",
       " 'Nick',\n",
       " 'Fandango Movies - Times + Tickets',\n",
       " 'Hamilton — The Official App',\n",
       " 'My Talking Pet',\n",
       " 'Funny Pics',\n",
       " 'Funny Quotes Free',\n",
       " 'LOL Pics (Funny Pictures)',\n",
       " 'Meme Creator',\n",
       " ...]"
      ]
     },
     "execution_count": 141,
     "metadata": {},
     "output_type": "execute_result"
    }
   ],
   "source": [
    "list(filter(cannot_convert,data['App']))"
   ]
  },
  {
   "cell_type": "markdown",
   "metadata": {},
   "source": [
    "Sostituiamo il valore trova con una versione numerica tramite il metodo <code>replace</code>."
   ]
  },
  {
   "cell_type": "code",
   "execution_count": 139,
   "metadata": {},
   "outputs": [],
   "source": [
    "data['Reviews']=data['Reviews'].replace({'3.0M':3000000})"
   ]
  },
  {
   "cell_type": "markdown",
   "metadata": {},
   "source": [
    "A questo punto possiamo convertire i valori della colonna in interi."
   ]
  },
  {
   "cell_type": "code",
   "execution_count": 140,
   "metadata": {},
   "outputs": [],
   "source": [
    "data['Reviews']=data['Reviews'].astype(int)"
   ]
  },
  {
   "cell_type": "markdown",
   "metadata": {},
   "source": [
    "Visualizziamo nuovamente le informazioni del DataFrame."
   ]
  },
  {
   "cell_type": "code",
   "execution_count": null,
   "metadata": {},
   "outputs": [],
   "source": [
    "data.info()"
   ]
  },
  {
   "cell_type": "markdown",
   "metadata": {},
   "source": [
    "Reviews è adesso un intero. Eseguiamo un lavoro simile sulla variabile Price."
   ]
  },
  {
   "cell_type": "code",
   "execution_count": 142,
   "metadata": {},
   "outputs": [
    {
     "data": {
      "text/plain": [
       "['$4.99',\n",
       " '$4.99',\n",
       " '$4.99',\n",
       " '$4.99',\n",
       " '$3.99',\n",
       " '$3.99',\n",
       " '$6.99',\n",
       " '$1.49',\n",
       " '$2.99',\n",
       " '$3.99']"
      ]
     },
     "execution_count": 142,
     "metadata": {},
     "output_type": "execute_result"
    }
   ],
   "source": [
    "list(filter(cannot_convert, data['Price']))[:10] #visualizziamo solo i primi 10 elementi"
   ]
  },
  {
   "cell_type": "markdown",
   "metadata": {},
   "source": [
    "Possiamo convertire le stringhe in float eliminando il dollaro iniziale mediante <code>apply</code>."
   ]
  },
  {
   "cell_type": "code",
   "execution_count": 144,
   "metadata": {},
   "outputs": [],
   "source": [
    "def strip_dollar(x):\n",
    "    if x[0]=='$':\n",
    "        return x[1:]\n",
    "    else:\n",
    "        return x\n",
    "data['Price']=data['Price'].apply(strip_dollar)"
   ]
  },
  {
   "cell_type": "markdown",
   "metadata": {},
   "source": [
    "Vediamo se ci sono ancora valori che non possono essere convertiti."
   ]
  },
  {
   "cell_type": "code",
   "execution_count": 145,
   "metadata": {},
   "outputs": [
    {
     "data": {
      "text/plain": [
       "['Everyone']"
      ]
     },
     "execution_count": 145,
     "metadata": {},
     "output_type": "execute_result"
    }
   ],
   "source": [
    "list(filter(cannot_convert, data['Price']))"
   ]
  },
  {
   "cell_type": "markdown",
   "metadata": {},
   "source": [
    "Dato che non sappiamo come interpretare il valore \"Everyone\", lo sostituiremo con un NaN."
   ]
  },
  {
   "cell_type": "code",
   "execution_count": 146,
   "metadata": {},
   "outputs": [],
   "source": [
    "data['Price']=data['Price'].replace({'Everyone':np.nan})"
   ]
  },
  {
   "cell_type": "markdown",
   "metadata": {},
   "source": [
    "Adesso possiamo procedere alla conversione in float."
   ]
  },
  {
   "cell_type": "code",
   "execution_count": 147,
   "metadata": {},
   "outputs": [
    {
     "name": "stdout",
     "output_type": "stream",
     "text": [
      "<class 'pandas.core.frame.DataFrame'>\n",
      "RangeIndex: 10841 entries, 0 to 10840\n",
      "Data columns (total 13 columns):\n",
      " #   Column          Non-Null Count  Dtype  \n",
      "---  ------          --------------  -----  \n",
      " 0   App             10841 non-null  object \n",
      " 1   Category        10841 non-null  object \n",
      " 2   Rating          9367 non-null   float64\n",
      " 3   Reviews         10841 non-null  int32  \n",
      " 4   Size            10841 non-null  object \n",
      " 5   Installs        10841 non-null  object \n",
      " 6   Type            10840 non-null  object \n",
      " 7   Price           10840 non-null  float64\n",
      " 8   Content Rating  10840 non-null  object \n",
      " 9   Genres          10841 non-null  object \n",
      " 10  Last Updated    10841 non-null  object \n",
      " 11  Current Ver     10833 non-null  object \n",
      " 12  Android Ver     10838 non-null  object \n",
      "dtypes: float64(2), int32(1), object(10)\n",
      "memory usage: 1.0+ MB\n"
     ]
    }
   ],
   "source": [
    "data['Price']=data['Price'].astype(float)\n",
    "data.info()"
   ]
  },
  {
   "cell_type": "markdown",
   "metadata": {},
   "source": [
    "Modifichiamo anche \"Size\" eliminando la \"M\" finale."
   ]
  },
  {
   "cell_type": "code",
   "execution_count": 148,
   "metadata": {},
   "outputs": [],
   "source": [
    "data['Size']=data['Size'].apply(lambda x : x[:-1])"
   ]
  },
  {
   "cell_type": "markdown",
   "metadata": {},
   "source": [
    "Verifichiamo l'esistenza di valori non convertibili."
   ]
  },
  {
   "cell_type": "code",
   "execution_count": 149,
   "metadata": {},
   "outputs": [
    {
     "data": {
      "text/plain": [
       "['Varies with devic',\n",
       " 'Varies with devic',\n",
       " 'Varies with devic',\n",
       " 'Varies with devic',\n",
       " 'Varies with devic',\n",
       " 'Varies with devic',\n",
       " 'Varies with devic',\n",
       " 'Varies with devic',\n",
       " 'Varies with devic',\n",
       " 'Varies with devic']"
      ]
     },
     "execution_count": 149,
     "metadata": {},
     "output_type": "execute_result"
    }
   ],
   "source": [
    "list(filter(cannot_convert,data['Size']))[:10]"
   ]
  },
  {
   "cell_type": "markdown",
   "metadata": {},
   "source": [
    "Sostituiamo questi valori con NaN."
   ]
  },
  {
   "cell_type": "code",
   "execution_count": 150,
   "metadata": {},
   "outputs": [],
   "source": [
    "data['Size']=data['Size'].replace({'Varies with devic':np.nan})"
   ]
  },
  {
   "cell_type": "markdown",
   "metadata": {},
   "source": [
    "Verifichiamo nuovamente la presenza di valori che non possono essere convertiti."
   ]
  },
  {
   "cell_type": "code",
   "execution_count": 154,
   "metadata": {},
   "outputs": [
    {
     "data": {
      "text/plain": [
       "[]"
      ]
     },
     "execution_count": 154,
     "metadata": {},
     "output_type": "execute_result"
    }
   ],
   "source": [
    "list(filter(cannot_convert,data['Size']))"
   ]
  },
  {
   "cell_type": "markdown",
   "metadata": {},
   "source": [
    "Possiamo rimuovere la virgola usata per indicare le migliaia e convertire in float."
   ]
  },
  {
   "cell_type": "code",
   "execution_count": 155,
   "metadata": {},
   "outputs": [],
   "source": [
    "data['Size']=data['Size'].apply(lambda x: float(str(x).replace(',','')))"
   ]
  },
  {
   "cell_type": "code",
   "execution_count": null,
   "metadata": {},
   "outputs": [],
   "source": [
    "data.info()"
   ]
  },
  {
   "cell_type": "markdown",
   "metadata": {},
   "source": [
    "Valutiamo se è il caso di trasformare anche \"Installs\" in un valore numerico. Vediamo quanti valori univoci di \"Installs\" ci sono nel dataset."
   ]
  },
  {
   "cell_type": "code",
   "execution_count": 156,
   "metadata": {},
   "outputs": [
    {
     "data": {
      "text/plain": [
       "22"
      ]
     },
     "execution_count": 156,
     "metadata": {},
     "output_type": "execute_result"
    }
   ],
   "source": [
    "data['Installs'].nunique()"
   ]
  },
  {
   "cell_type": "markdown",
   "metadata": {},
   "source": [
    "Abbiamo solo 22 valori, che paragonati alle 10841 osservazioni ci suggeriscono di considerare \"Installs\" come variabile categorica e non come valore numerico.<br>\n",
    "Il DataFrame contiene dei NaN che possiamo tenere o scartare. In questo caso, che i dati sono molti, possiamo rimuoverli\n",
    "tramite <code>dropna</code>."
   ]
  },
  {
   "cell_type": "markdown",
   "metadata": {},
   "source": [
    "Adesso possiamo iniziare a esplorare i dati con gli strumenti visti finora."
   ]
  },
  {
   "cell_type": "markdown",
   "metadata": {},
   "source": [
    "Visualizziamo ad esempio i valori medi delle variabili numeriche per <i>categoria (Category)</i>."
   ]
  },
  {
   "cell_type": "code",
   "execution_count": 157,
   "metadata": {},
   "outputs": [
    {
     "data": {
      "text/html": [
       "<div>\n",
       "<style scoped>\n",
       "    .dataframe tbody tr th:only-of-type {\n",
       "        vertical-align: middle;\n",
       "    }\n",
       "\n",
       "    .dataframe tbody tr th {\n",
       "        vertical-align: top;\n",
       "    }\n",
       "\n",
       "    .dataframe thead th {\n",
       "        text-align: right;\n",
       "    }\n",
       "</style>\n",
       "<table border=\"1\" class=\"dataframe\">\n",
       "  <thead>\n",
       "    <tr style=\"text-align: right;\">\n",
       "      <th></th>\n",
       "      <th>Rating</th>\n",
       "      <th>Reviews</th>\n",
       "      <th>Size</th>\n",
       "      <th>Price</th>\n",
       "    </tr>\n",
       "    <tr>\n",
       "      <th>Category</th>\n",
       "      <th></th>\n",
       "      <th></th>\n",
       "      <th></th>\n",
       "      <th></th>\n",
       "    </tr>\n",
       "  </thead>\n",
       "  <tbody>\n",
       "    <tr>\n",
       "      <th>1.9</th>\n",
       "      <td>19.000000</td>\n",
       "      <td>3.000000e+06</td>\n",
       "      <td>1000.000000</td>\n",
       "      <td>NaN</td>\n",
       "    </tr>\n",
       "    <tr>\n",
       "      <th>ART_AND_DESIGN</th>\n",
       "      <td>4.358065</td>\n",
       "      <td>2.637600e+04</td>\n",
       "      <td>12.370968</td>\n",
       "      <td>0.091846</td>\n",
       "    </tr>\n",
       "    <tr>\n",
       "      <th>AUTO_AND_VEHICLES</th>\n",
       "      <td>4.190411</td>\n",
       "      <td>1.369019e+04</td>\n",
       "      <td>34.502667</td>\n",
       "      <td>0.158471</td>\n",
       "    </tr>\n",
       "    <tr>\n",
       "      <th>BEAUTY</th>\n",
       "      <td>4.278571</td>\n",
       "      <td>7.476226e+03</td>\n",
       "      <td>13.795745</td>\n",
       "      <td>0.000000</td>\n",
       "    </tr>\n",
       "    <tr>\n",
       "      <th>BOOKS_AND_REFERENCE</th>\n",
       "      <td>4.346067</td>\n",
       "      <td>9.506090e+04</td>\n",
       "      <td>40.349746</td>\n",
       "      <td>0.518485</td>\n",
       "    </tr>\n",
       "    <tr>\n",
       "      <th>BUSINESS</th>\n",
       "      <td>4.121452</td>\n",
       "      <td>3.033598e+04</td>\n",
       "      <td>26.622500</td>\n",
       "      <td>0.402761</td>\n",
       "    </tr>\n",
       "    <tr>\n",
       "      <th>COMICS</th>\n",
       "      <td>4.155172</td>\n",
       "      <td>5.638793e+04</td>\n",
       "      <td>34.111765</td>\n",
       "      <td>0.000000</td>\n",
       "    </tr>\n",
       "    <tr>\n",
       "      <th>COMMUNICATION</th>\n",
       "      <td>4.158537</td>\n",
       "      <td>2.107138e+06</td>\n",
       "      <td>55.786792</td>\n",
       "      <td>0.214832</td>\n",
       "    </tr>\n",
       "    <tr>\n",
       "      <th>DATING</th>\n",
       "      <td>3.970769</td>\n",
       "      <td>3.115931e+04</td>\n",
       "      <td>16.710377</td>\n",
       "      <td>0.134316</td>\n",
       "    </tr>\n",
       "    <tr>\n",
       "      <th>EDUCATION</th>\n",
       "      <td>4.389032</td>\n",
       "      <td>2.538191e+05</td>\n",
       "      <td>30.528829</td>\n",
       "      <td>0.115128</td>\n",
       "    </tr>\n",
       "    <tr>\n",
       "      <th>ENTERTAINMENT</th>\n",
       "      <td>4.126174</td>\n",
       "      <td>3.971688e+05</td>\n",
       "      <td>21.853333</td>\n",
       "      <td>0.053557</td>\n",
       "    </tr>\n",
       "    <tr>\n",
       "      <th>EVENTS</th>\n",
       "      <td>4.435556</td>\n",
       "      <td>2.515906e+03</td>\n",
       "      <td>19.817544</td>\n",
       "      <td>1.718594</td>\n",
       "    </tr>\n",
       "    <tr>\n",
       "      <th>FAMILY</th>\n",
       "      <td>4.192272</td>\n",
       "      <td>2.080255e+05</td>\n",
       "      <td>38.007697</td>\n",
       "      <td>1.234675</td>\n",
       "    </tr>\n",
       "    <tr>\n",
       "      <th>FINANCE</th>\n",
       "      <td>4.131889</td>\n",
       "      <td>4.795281e+04</td>\n",
       "      <td>28.894788</td>\n",
       "      <td>7.925765</td>\n",
       "    </tr>\n",
       "    <tr>\n",
       "      <th>FOOD_AND_DRINK</th>\n",
       "      <td>4.166972</td>\n",
       "      <td>6.994748e+04</td>\n",
       "      <td>22.185000</td>\n",
       "      <td>0.066772</td>\n",
       "    </tr>\n",
       "    <tr>\n",
       "      <th>GAME</th>\n",
       "      <td>4.286326</td>\n",
       "      <td>1.385859e+06</td>\n",
       "      <td>45.797241</td>\n",
       "      <td>0.251136</td>\n",
       "    </tr>\n",
       "    <tr>\n",
       "      <th>HEALTH_AND_FITNESS</th>\n",
       "      <td>4.277104</td>\n",
       "      <td>1.111253e+05</td>\n",
       "      <td>38.178030</td>\n",
       "      <td>0.197478</td>\n",
       "    </tr>\n",
       "    <tr>\n",
       "      <th>HOUSE_AND_HOME</th>\n",
       "      <td>4.197368</td>\n",
       "      <td>4.518619e+04</td>\n",
       "      <td>25.616176</td>\n",
       "      <td>0.000000</td>\n",
       "    </tr>\n",
       "    <tr>\n",
       "      <th>LIBRARIES_AND_DEMO</th>\n",
       "      <td>4.178462</td>\n",
       "      <td>1.220139e+04</td>\n",
       "      <td>180.834146</td>\n",
       "      <td>0.011647</td>\n",
       "    </tr>\n",
       "    <tr>\n",
       "      <th>LIFESTYLE</th>\n",
       "      <td>4.094904</td>\n",
       "      <td>3.372457e+04</td>\n",
       "      <td>31.265507</td>\n",
       "      <td>6.180288</td>\n",
       "    </tr>\n",
       "    <tr>\n",
       "      <th>MAPS_AND_NAVIGATION</th>\n",
       "      <td>4.051613</td>\n",
       "      <td>2.237902e+05</td>\n",
       "      <td>31.312963</td>\n",
       "      <td>0.196715</td>\n",
       "    </tr>\n",
       "    <tr>\n",
       "      <th>MEDICAL</th>\n",
       "      <td>4.189143</td>\n",
       "      <td>3.425432e+03</td>\n",
       "      <td>44.495853</td>\n",
       "      <td>3.110065</td>\n",
       "    </tr>\n",
       "    <tr>\n",
       "      <th>NEWS_AND_MAGAZINES</th>\n",
       "      <td>4.132189</td>\n",
       "      <td>1.922292e+05</td>\n",
       "      <td>14.448148</td>\n",
       "      <td>0.014064</td>\n",
       "    </tr>\n",
       "    <tr>\n",
       "      <th>PARENTING</th>\n",
       "      <td>4.300000</td>\n",
       "      <td>1.597218e+04</td>\n",
       "      <td>22.512963</td>\n",
       "      <td>0.159667</td>\n",
       "    </tr>\n",
       "    <tr>\n",
       "      <th>PERSONALIZATION</th>\n",
       "      <td>4.335987</td>\n",
       "      <td>2.279238e+05</td>\n",
       "      <td>42.655493</td>\n",
       "      <td>0.392755</td>\n",
       "    </tr>\n",
       "    <tr>\n",
       "      <th>PHOTOGRAPHY</th>\n",
       "      <td>4.192114</td>\n",
       "      <td>6.373631e+05</td>\n",
       "      <td>21.249606</td>\n",
       "      <td>0.400627</td>\n",
       "    </tr>\n",
       "    <tr>\n",
       "      <th>PRODUCTIVITY</th>\n",
       "      <td>4.211396</td>\n",
       "      <td>2.691438e+05</td>\n",
       "      <td>35.628713</td>\n",
       "      <td>0.591816</td>\n",
       "    </tr>\n",
       "    <tr>\n",
       "      <th>SHOPPING</th>\n",
       "      <td>4.259664</td>\n",
       "      <td>4.424662e+05</td>\n",
       "      <td>31.886070</td>\n",
       "      <td>0.021077</td>\n",
       "    </tr>\n",
       "    <tr>\n",
       "      <th>SOCIAL</th>\n",
       "      <td>4.255598</td>\n",
       "      <td>2.105903e+06</td>\n",
       "      <td>26.211429</td>\n",
       "      <td>0.054136</td>\n",
       "    </tr>\n",
       "    <tr>\n",
       "      <th>SPORTS</th>\n",
       "      <td>4.223511</td>\n",
       "      <td>1.844536e+05</td>\n",
       "      <td>32.475563</td>\n",
       "      <td>0.260417</td>\n",
       "    </tr>\n",
       "    <tr>\n",
       "      <th>TOOLS</th>\n",
       "      <td>4.047411</td>\n",
       "      <td>3.240629e+05</td>\n",
       "      <td>47.776861</td>\n",
       "      <td>0.317023</td>\n",
       "    </tr>\n",
       "    <tr>\n",
       "      <th>TRAVEL_AND_LOCAL</th>\n",
       "      <td>4.109292</td>\n",
       "      <td>2.427051e+05</td>\n",
       "      <td>26.022917</td>\n",
       "      <td>0.193605</td>\n",
       "    </tr>\n",
       "    <tr>\n",
       "      <th>VIDEO_PLAYERS</th>\n",
       "      <td>4.063750</td>\n",
       "      <td>6.307439e+05</td>\n",
       "      <td>22.032824</td>\n",
       "      <td>0.059771</td>\n",
       "    </tr>\n",
       "    <tr>\n",
       "      <th>WEATHER</th>\n",
       "      <td>4.244000</td>\n",
       "      <td>1.781065e+05</td>\n",
       "      <td>23.324561</td>\n",
       "      <td>0.395366</td>\n",
       "    </tr>\n",
       "  </tbody>\n",
       "</table>\n",
       "</div>"
      ],
      "text/plain": [
       "                        Rating       Reviews         Size     Price\n",
       "Category                                                           \n",
       "1.9                  19.000000  3.000000e+06  1000.000000       NaN\n",
       "ART_AND_DESIGN        4.358065  2.637600e+04    12.370968  0.091846\n",
       "AUTO_AND_VEHICLES     4.190411  1.369019e+04    34.502667  0.158471\n",
       "BEAUTY                4.278571  7.476226e+03    13.795745  0.000000\n",
       "BOOKS_AND_REFERENCE   4.346067  9.506090e+04    40.349746  0.518485\n",
       "BUSINESS              4.121452  3.033598e+04    26.622500  0.402761\n",
       "COMICS                4.155172  5.638793e+04    34.111765  0.000000\n",
       "COMMUNICATION         4.158537  2.107138e+06    55.786792  0.214832\n",
       "DATING                3.970769  3.115931e+04    16.710377  0.134316\n",
       "EDUCATION             4.389032  2.538191e+05    30.528829  0.115128\n",
       "ENTERTAINMENT         4.126174  3.971688e+05    21.853333  0.053557\n",
       "EVENTS                4.435556  2.515906e+03    19.817544  1.718594\n",
       "FAMILY                4.192272  2.080255e+05    38.007697  1.234675\n",
       "FINANCE               4.131889  4.795281e+04    28.894788  7.925765\n",
       "FOOD_AND_DRINK        4.166972  6.994748e+04    22.185000  0.066772\n",
       "GAME                  4.286326  1.385859e+06    45.797241  0.251136\n",
       "HEALTH_AND_FITNESS    4.277104  1.111253e+05    38.178030  0.197478\n",
       "HOUSE_AND_HOME        4.197368  4.518619e+04    25.616176  0.000000\n",
       "LIBRARIES_AND_DEMO    4.178462  1.220139e+04   180.834146  0.011647\n",
       "LIFESTYLE             4.094904  3.372457e+04    31.265507  6.180288\n",
       "MAPS_AND_NAVIGATION   4.051613  2.237902e+05    31.312963  0.196715\n",
       "MEDICAL               4.189143  3.425432e+03    44.495853  3.110065\n",
       "NEWS_AND_MAGAZINES    4.132189  1.922292e+05    14.448148  0.014064\n",
       "PARENTING             4.300000  1.597218e+04    22.512963  0.159667\n",
       "PERSONALIZATION       4.335987  2.279238e+05    42.655493  0.392755\n",
       "PHOTOGRAPHY           4.192114  6.373631e+05    21.249606  0.400627\n",
       "PRODUCTIVITY          4.211396  2.691438e+05    35.628713  0.591816\n",
       "SHOPPING              4.259664  4.424662e+05    31.886070  0.021077\n",
       "SOCIAL                4.255598  2.105903e+06    26.211429  0.054136\n",
       "SPORTS                4.223511  1.844536e+05    32.475563  0.260417\n",
       "TOOLS                 4.047411  3.240629e+05    47.776861  0.317023\n",
       "TRAVEL_AND_LOCAL      4.109292  2.427051e+05    26.022917  0.193605\n",
       "VIDEO_PLAYERS         4.063750  6.307439e+05    22.032824  0.059771\n",
       "WEATHER               4.244000  1.781065e+05    23.324561  0.395366"
      ]
     },
     "execution_count": 157,
     "metadata": {},
     "output_type": "execute_result"
    }
   ],
   "source": [
    "data.groupby('Category').mean()"
   ]
  }
 ],
 "metadata": {
  "kernelspec": {
   "display_name": "Python 3",
   "language": "python",
   "name": "python3"
  },
  "language_info": {
   "codemirror_mode": {
    "name": "ipython",
    "version": 3
   },
   "file_extension": ".py",
   "mimetype": "text/x-python",
   "name": "python",
   "nbconvert_exporter": "python",
   "pygments_lexer": "ipython3",
   "version": "3.8.3"
  }
 },
 "nbformat": 4,
 "nbformat_minor": 2
}
