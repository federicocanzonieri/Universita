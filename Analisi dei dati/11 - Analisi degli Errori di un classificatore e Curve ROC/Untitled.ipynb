{
 "cells": [
  {
   "cell_type": "code",
   "execution_count": 1,
   "metadata": {},
   "outputs": [],
   "source": [
    "from statsmodels.datasets import get_rdataset\n",
    "biopsy = get_rdataset('biopsy',package='MASS')"
   ]
  },
  {
   "cell_type": "code",
   "execution_count": 2,
   "metadata": {},
   "outputs": [],
   "source": [
    "biopsy.data['cl'] = biopsy.data['class'].replace({'benign':0, 'malignant':1})"
   ]
  },
  {
   "cell_type": "code",
   "execution_count": 3,
   "metadata": {},
   "outputs": [
    {
     "name": "stdout",
     "output_type": "stream",
     "text": [
      "524\n",
      "175\n"
     ]
    }
   ],
   "source": [
    "import numpy as np\n",
    "from sklearn.model_selection import train_test_split\n",
    "#impostiamo un seed in modo che lo split sia ripetibile\n",
    "#generalmente non è necessario (né consigliabile!) farlo\n",
    "#qui lo facciamo per questioni didattiche\n",
    "np.random.seed(1234)\n",
    "biopsy_train, biopsy_test = train_test_split(biopsy.data, test_size=0.25)\n",
    "print(len(biopsy_train))\n",
    "print(len(biopsy_test))"
   ]
  },
  {
   "cell_type": "code",
   "execution_count": 5,
   "metadata": {},
   "outputs": [
    {
     "name": "stdout",
     "output_type": "stream",
     "text": [
      "Optimization terminated successfully.\n",
      "         Current function value: 0.087157\n",
      "         Iterations 10\n"
     ]
    },
    {
     "data": {
      "text/html": [
       "<table class=\"simpletable\">\n",
       "<caption>Logit Regression Results</caption>\n",
       "<tr>\n",
       "  <th>Dep. Variable:</th>          <td>cl</td>        <th>  No. Observations:  </th>   <td>   509</td>  \n",
       "</tr>\n",
       "<tr>\n",
       "  <th>Model:</th>                 <td>Logit</td>      <th>  Df Residuals:      </th>   <td>   503</td>  \n",
       "</tr>\n",
       "<tr>\n",
       "  <th>Method:</th>                 <td>MLE</td>       <th>  Df Model:          </th>   <td>     5</td>  \n",
       "</tr>\n",
       "<tr>\n",
       "  <th>Date:</th>            <td>Thu, 04 Mar 2021</td> <th>  Pseudo R-squ.:     </th>   <td>0.8646</td>  \n",
       "</tr>\n",
       "<tr>\n",
       "  <th>Time:</th>                <td>22:29:40</td>     <th>  Log-Likelihood:    </th>  <td> -44.363</td> \n",
       "</tr>\n",
       "<tr>\n",
       "  <th>converged:</th>             <td>True</td>       <th>  LL-Null:           </th>  <td> -327.56</td> \n",
       "</tr>\n",
       "<tr>\n",
       "  <th>Covariance Type:</th>     <td>nonrobust</td>    <th>  LLR p-value:       </th> <td>3.690e-120</td>\n",
       "</tr>\n",
       "</table>\n",
       "<table class=\"simpletable\">\n",
       "<tr>\n",
       "      <td></td>         <th>coef</th>     <th>std err</th>      <th>z</th>      <th>P>|z|</th>  <th>[0.025</th>    <th>0.975]</th>  \n",
       "</tr>\n",
       "<tr>\n",
       "  <th>Intercept</th> <td>  -10.3177</td> <td>    1.308</td> <td>   -7.885</td> <td> 0.000</td> <td>  -12.882</td> <td>   -7.753</td>\n",
       "</tr>\n",
       "<tr>\n",
       "  <th>V1</th>        <td>    0.7604</td> <td>    0.149</td> <td>    5.116</td> <td> 0.000</td> <td>    0.469</td> <td>    1.052</td>\n",
       "</tr>\n",
       "<tr>\n",
       "  <th>V4</th>        <td>    0.5434</td> <td>    0.147</td> <td>    3.691</td> <td> 0.000</td> <td>    0.255</td> <td>    0.832</td>\n",
       "</tr>\n",
       "<tr>\n",
       "  <th>V6</th>        <td>    0.3649</td> <td>    0.094</td> <td>    3.887</td> <td> 0.000</td> <td>    0.181</td> <td>    0.549</td>\n",
       "</tr>\n",
       "<tr>\n",
       "  <th>V7</th>        <td>    0.4723</td> <td>    0.158</td> <td>    2.988</td> <td> 0.003</td> <td>    0.163</td> <td>    0.782</td>\n",
       "</tr>\n",
       "<tr>\n",
       "  <th>V8</th>        <td>    0.4147</td> <td>    0.120</td> <td>    3.445</td> <td> 0.001</td> <td>    0.179</td> <td>    0.651</td>\n",
       "</tr>\n",
       "</table>"
      ],
      "text/plain": [
       "<class 'statsmodels.iolib.summary.Summary'>\n",
       "\"\"\"\n",
       "                           Logit Regression Results                           \n",
       "==============================================================================\n",
       "Dep. Variable:                     cl   No. Observations:                  509\n",
       "Model:                          Logit   Df Residuals:                      503\n",
       "Method:                           MLE   Df Model:                            5\n",
       "Date:                Thu, 04 Mar 2021   Pseudo R-squ.:                  0.8646\n",
       "Time:                        22:29:40   Log-Likelihood:                -44.363\n",
       "converged:                       True   LL-Null:                       -327.56\n",
       "Covariance Type:            nonrobust   LLR p-value:                3.690e-120\n",
       "==============================================================================\n",
       "                 coef    std err          z      P>|z|      [0.025      0.975]\n",
       "------------------------------------------------------------------------------\n",
       "Intercept    -10.3177      1.308     -7.885      0.000     -12.882      -7.753\n",
       "V1             0.7604      0.149      5.116      0.000       0.469       1.052\n",
       "V4             0.5434      0.147      3.691      0.000       0.255       0.832\n",
       "V6             0.3649      0.094      3.887      0.000       0.181       0.549\n",
       "V7             0.4723      0.158      2.988      0.003       0.163       0.782\n",
       "V8             0.4147      0.120      3.445      0.001       0.179       0.651\n",
       "==============================================================================\n",
       "\"\"\""
      ]
     },
     "execution_count": 5,
     "metadata": {},
     "output_type": "execute_result"
    }
   ],
   "source": [
    "from statsmodels.formula.api import logit\n",
    "model = logit('cl ~ V1 + V4 + V6 + V7 + V8',biopsy_train).fit()\n",
    "model.summary()"
   ]
  },
  {
   "cell_type": "code",
   "execution_count": 6,
   "metadata": {},
   "outputs": [
    {
     "data": {
      "text/plain": [
       "341    0.001093\n",
       "532    0.001093\n",
       "687    0.007106\n",
       "83     0.045540\n",
       "428    0.000682\n",
       "dtype: float64"
      ]
     },
     "execution_count": 6,
     "metadata": {},
     "output_type": "execute_result"
    }
   ],
   "source": [
    "test_probs = model.predict(biopsy_test.dropna()) #applichiamo dropna per evitare i NaN\n",
    "test_probs.head()"
   ]
  },
  {
   "cell_type": "code",
   "execution_count": 7,
   "metadata": {},
   "outputs": [
    {
     "data": {
      "text/plain": [
       "341    0\n",
       "532    0\n",
       "687    0\n",
       "83     0\n",
       "428    0\n",
       "dtype: int32"
      ]
     },
     "execution_count": 7,
     "metadata": {},
     "output_type": "execute_result"
    }
   ],
   "source": [
    "test_preds = test_probs.round().astype(int)\n",
    "test_preds.head()"
   ]
  },
  {
   "cell_type": "code",
   "execution_count": 8,
   "metadata": {},
   "outputs": [
    {
     "data": {
      "text/plain": [
       "341    0\n",
       "532    0\n",
       "687    0\n",
       "83     0\n",
       "428    0\n",
       "Name: cl, dtype: int64"
      ]
     },
     "execution_count": 8,
     "metadata": {},
     "output_type": "execute_result"
    }
   ],
   "source": [
    "test_gt = biopsy_test.dropna()['cl']\n",
    "test_gt.head()"
   ]
  },
  {
   "cell_type": "code",
   "execution_count": 10,
   "metadata": {},
   "outputs": [
    {
     "name": "stdout",
     "output_type": "stream",
     "text": [
      "Numero di hit: 61\n",
      "Numero di miss: 3\n"
     ]
    }
   ],
   "source": [
    "#np.logical_and applica and tra due array di booleani\n",
    "hit = np.logical_and(test_gt==1, test_preds==1)\n",
    "miss = np.logical_and(test_gt==1, test_preds==0)\n",
    "#print(hit.head(),'\\n')\n",
    "#print(miss.head())\n",
    "print(\"Numero di hit:\",hit.sum())\n",
    "print(\"Numero di miss:\",miss.sum())"
   ]
  },
  {
   "cell_type": "code",
   "execution_count": 11,
   "metadata": {},
   "outputs": [
    {
     "name": "stdout",
     "output_type": "stream",
     "text": [
      "Numero di falsi allarmi: 2\n"
     ]
    }
   ],
   "source": [
    "false_alarms = np.logical_and(test_gt==0, test_preds==1)\n",
    "print(\"Numero di falsi allarmi:\",false_alarms.sum())"
   ]
  },
  {
   "cell_type": "code",
   "execution_count": 12,
   "metadata": {},
   "outputs": [
    {
     "name": "stdout",
     "output_type": "stream",
     "text": [
      "Numero di veri negativi: 108\n"
     ]
    }
   ],
   "source": [
    "true_negatives = np.logical_and(test_gt==0, test_preds==0)\n",
    "print(\"Numero di veri negativi:\",true_negatives.sum())"
   ]
  },
  {
   "cell_type": "code",
   "execution_count": 15,
   "metadata": {},
   "outputs": [
    {
     "name": "stdout",
     "output_type": "stream",
     "text": [
      "Numero di True Negative: 108\n",
      "Numero di False Positive: 2\n",
      "Numero di False Negative: 3\n",
      "Numero di Ture Positive: 61\n",
      "[[108   2]\n",
      " [  3  61]]\n"
     ]
    },
    {
     "data": {
      "text/plain": [
       "array([[110],\n",
       "       [ 64]], dtype=int64)"
      ]
     },
     "execution_count": 15,
     "metadata": {},
     "output_type": "execute_result"
    }
   ],
   "source": [
    "from sklearn.metrics import confusion_matrix\n",
    "confusion_matrix(test_gt, test_preds)\n",
    "\n",
    "tn, fp, fn, tp = confusion_matrix(test_gt, test_preds).ravel()\n",
    "print(\"Numero di True Negative:\",tn)\n",
    "print(\"Numero di False Positive:\",fp)\n",
    "print(\"Numero di False Negative:\",fn)\n",
    "print(\"Numero di Ture Positive:\",tp)\n",
    "\n",
    "cm = confusion_matrix(test_gt, test_preds)\n",
    "print(cm)\n",
    "cm.sum(1).reshape(-1,1) #il reshape serve a trasformare il vettore in un vettore colonna"
   ]
  },
  {
   "cell_type": "code",
   "execution_count": 17,
   "metadata": {},
   "outputs": [
    {
     "data": {
      "text/plain": [
       "array([[0.98181818, 0.01818182],\n",
       "       [0.046875  , 0.953125  ]])"
      ]
     },
     "execution_count": 17,
     "metadata": {},
     "output_type": "execute_result"
    }
   ],
   "source": [
    "cm=cm/cm.sum(1).reshape(-1,1) #il reshape serve a trasformare il vettore in un vettore colonna\n",
    "cm"
   ]
  },
  {
   "cell_type": "code",
   "execution_count": 18,
   "metadata": {},
   "outputs": [
    {
     "name": "stdout",
     "output_type": "stream",
     "text": [
      "TNR: 0.9818181818181818\n",
      "FPR: 0.01818181818181818\n",
      "FNR: 0.046875\n",
      "TPR: 0.953125\n"
     ]
    }
   ],
   "source": [
    "tnr, fpr, fnr, tpr = cm.ravel()\n",
    "print(\"TNR:\",tnr)\n",
    "print(\"FPR:\",fpr)\n",
    "print(\"FNR:\",fnr)\n",
    "print(\"TPR:\",tpr)"
   ]
  },
  {
   "cell_type": "code",
   "execution_count": null,
   "metadata": {},
   "outputs": [],
   "source": []
  },
  {
   "cell_type": "code",
   "execution_count": null,
   "metadata": {},
   "outputs": [],
   "source": []
  },
  {
   "cell_type": "code",
   "execution_count": 16,
   "metadata": {},
   "outputs": [
    {
     "data": {
      "text/plain": [
       "array([[0.98181818, 0.01818182],\n",
       "       [0.046875  , 0.953125  ]])"
      ]
     },
     "execution_count": 16,
     "metadata": {},
     "output_type": "execute_result"
    }
   ],
   "source": []
  },
  {
   "cell_type": "code",
   "execution_count": null,
   "metadata": {},
   "outputs": [],
   "source": []
  },
  {
   "cell_type": "code",
   "execution_count": null,
   "metadata": {},
   "outputs": [],
   "source": []
  },
  {
   "cell_type": "code",
   "execution_count": null,
   "metadata": {},
   "outputs": [],
   "source": []
  }
 ],
 "metadata": {
  "kernelspec": {
   "display_name": "Python 3",
   "language": "python",
   "name": "python3"
  },
  "language_info": {
   "codemirror_mode": {
    "name": "ipython",
    "version": 3
   },
   "file_extension": ".py",
   "mimetype": "text/x-python",
   "name": "python",
   "nbconvert_exporter": "python",
   "pygments_lexer": "ipython3",
   "version": "3.8.3"
  }
 },
 "nbformat": 4,
 "nbformat_minor": 4
}
