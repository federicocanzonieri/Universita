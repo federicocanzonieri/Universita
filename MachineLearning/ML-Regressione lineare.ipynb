{
 "cells": [
  {
   "cell_type": "code",
   "execution_count": 3,
   "metadata": {},
   "outputs": [],
   "source": [
    "import numpy as np\n",
    "import matplotlib.pyplot as plt\n",
    "\n",
    "\n",
    "x1=np.linspace(0,100,1000)\n",
    "x2=np.linspace(0,400,1000)\n",
    "\n"
   ]
  },
  {
   "cell_type": "code",
   "execution_count": 54,
   "metadata": {},
   "outputs": [],
   "source": [
    "x=np.column_stack([np.ones(1000),x1])\n",
    "rng = np.random.RandomState(1)\n",
    "y = 2 * x1 - 10 + rng.randn(1000)*1/rng.randn(1000)\n"
   ]
  },
  {
   "cell_type": "code",
   "execution_count": 74,
   "metadata": {},
   "outputs": [
    {
     "name": "stdout",
     "output_type": "stream",
     "text": [
      "INIZIO\n",
      "parametri theta: [0.84583807 0.47134259]\n",
      "LOSS INIZIALE: 3999.976656551368\n",
      "FINE\n",
      "parametri theta: [2.15804924 1.78355376]\n",
      "LOSS FINALE: 1041.7541663118602\n"
     ]
    },
    {
     "data": {
      "image/png": "[encoded data removed]",
      "text/plain": [
       "<Figure size 432x288 with 1 Axes>"
      ]
     },
     "metadata": {
      "needs_background": "light"
     },
     "output_type": "display_data"
    },
    {
     "data": {
      "image/png": "[encoded data removed]",
      "text/plain": [
       "<Figure size 432x288 with 1 Axes>"
      ]
     },
     "metadata": {
      "needs_background": "light"
     },
     "output_type": "display_data"
    }
   ],
   "source": [
    "from mpl_toolkits import mplot3d\n",
    "\n",
    "\n",
    "def training(x,y,alpha=0.0000001):\n",
    "    theta=np.random.random(2)\n",
    "    print(\"INIZIO\")\n",
    "    print(\"parametri theta:\",theta)\n",
    "    print(\"LOSS INIZIALE:\",J_dot(theta,x,y))\n",
    "    plt.title('INIZIO PARAMETRI CASUALI')\n",
    "    plt.scatter(x,h_0(theta,x),s=10,marker='+')\n",
    "    plt.scatter(x[:,1],y,s=10,marker='+')\n",
    "    J_plot=[]\n",
    "        \n",
    "    \"\"\"\n",
    "\n",
    "    ax = plt.axes(projection='3d')\n",
    "    theta_0=np.linspace(-1,1,1000)\n",
    "    theta_1=np.linspace(-1,1,1000)\n",
    "    thet=np.array([theta_0,theta_1])\n",
    "    cc=[]\n",
    "    for t1,t2 in zip(theta_0,theta_1):\n",
    "        mm=np.array([t1,t2])\n",
    "        cc.append(J_dot(mm,x,y))\n",
    "\n",
    "    ax.plot3D(theta_0,theta_1,cc, 'gray')\n",
    "    \"\"\"\n",
    "    \n",
    "    for i in range(100): \n",
    "        theta_=np.random.random(3) \n",
    "        theta_=theta-alpha*np.sum(np.dot((h_0_dot(theta,x)-y),x))\n",
    "        theta=theta_.copy()\n",
    "        J_plot.append(J_dot(theta,x,y))\n",
    "        #if i%1000==0:\n",
    "            #print(i)\n",
    "            ###print(theta)\n",
    "            #ax.scatter3D(theta[0],theta[1],J_dot(theta,x,y))\n",
    "    \n",
    "        \n",
    "        \n",
    "    print(\"FINE\")\n",
    "    print(\"parametri theta:\",theta)\n",
    "    print(\"LOSS FINALE:\",J_dot(theta,x,y))\n",
    "    plt.scatter(x,h_0(theta,x),s=10,marker='x')\n",
    "    plt.legend(['stimati','reali','finale'])\n",
    "    plt.xlabel('x')\n",
    "    plt.ylabel('y')\n",
    "    plt.grid()\n",
    "    \n",
    "    plt.figure()\n",
    "    plt.title(\"LOSS\")\n",
    "    plt.plot(J_plot)\n",
    "    plt.grid()\n",
    "    plt.xlabel('Iterazioni')\n",
    "    plt.ylabel('Loss')\n",
    "    \n",
    "    \n",
    "def J(theta,x,y):\n",
    "    return 1/(2*len(x))*np.sum((theta[0]+theta[1]*x-y)**2)\n",
    "\n",
    "def J_dot(theta,x,y):\n",
    "    return 1/(2*len(x))*np.sum((h_0_dot(theta,x)-y)**2)\n",
    "\n",
    "def h_0(theta,x):\n",
    "    return theta[0]+theta[1]*x\n",
    "\n",
    "def h_0_dot(theta,x):\n",
    "    #print(theta.shape)\n",
    "    #print(x.shape)\n",
    "    #print(np.dot(theta,x.T).shape)\n",
    "    return np.dot(theta,x.T)\n",
    "\n",
    "\n",
    "training(x,y)\n",
    "\n",
    "\n",
    "\n",
    "\n"
   ]
  }
 ],
 "metadata": {
  "kernelspec": {
   "display_name": "Python 3",
   "language": "python",
   "name": "python3"
  },
  "language_info": {
   "codemirror_mode": {
    "name": "ipython",
    "version": 3
   },
   "file_extension": ".py",
   "mimetype": "text/x-python",
   "name": "python",
   "nbconvert_exporter": "python",
   "pygments_lexer": "ipython3",
   "version": "3.8.3"
  }
 },
 "nbformat": 4,
 "nbformat_minor": 4
}
